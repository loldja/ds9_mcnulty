{
 "cells": [
  {
   "cell_type": "code",
   "execution_count": 1,
   "metadata": {
    "collapsed": false
   },
   "outputs": [
    {
     "data": {
      "text/html": [
       "<style>.container { width: 100% !important;} </style>"
      ],
      "text/plain": [
       "<IPython.core.display.HTML object>"
      ]
     },
     "metadata": {},
     "output_type": "display_data"
    }
   ],
   "source": [
    "from IPython.core.display import display, HTML\n",
    "display(HTML(\"<style>.container { width: 100% !important;} </style>\"))"
   ]
  },
  {
   "cell_type": "code",
   "execution_count": 2,
   "metadata": {
    "collapsed": true
   },
   "outputs": [],
   "source": [
    "import pandas as pd\n",
    "import numpy as np\n",
    "import matplotlib.pyplot as plt\n",
    "import matplotlib\n",
    "\n",
    "%matplotlib inline"
   ]
  },
  {
   "cell_type": "markdown",
   "metadata": {},
   "source": [
    "# For the Individual/ Women's Survey"
   ]
  },
  {
   "cell_type": "code",
   "execution_count": 3,
   "metadata": {
    "collapsed": false
   },
   "outputs": [],
   "source": [
    "dataset = pd.read_stata('dhs_data/raw/PKIR61FL.DTA') # Pakistan 2012-2013 -- filename decoded: PK = Pakistan, IR = Women's Survey, 61 = DHS 6, FL = flat-ascii .DTA = Stata-compatible"
   ]
  },
  {
   "cell_type": "code",
   "execution_count": 4,
   "metadata": {
    "collapsed": false
   },
   "outputs": [
    {
     "data": {
      "text/plain": [
       "(13558, 4107)"
      ]
     },
     "execution_count": 4,
     "metadata": {},
     "output_type": "execute_result"
    }
   ],
   "source": [
    "dataset.shape"
   ]
  },
  {
   "cell_type": "code",
   "execution_count": 5,
   "metadata": {
    "collapsed": false
   },
   "outputs": [
    {
     "data": {
      "text/plain": [
       "False    13558\n",
       "dtype: int64"
      ]
     },
     "execution_count": 5,
     "metadata": {},
     "output_type": "execute_result"
    }
   ],
   "source": [
    "dataset.duplicated().value_counts()"
   ]
  },
  {
   "cell_type": "code",
   "execution_count": 6,
   "metadata": {
    "collapsed": false
   },
   "outputs": [],
   "source": [
    "dataset.columns = dataset.columns.str.strip() #strip whitespace"
   ]
  },
  {
   "cell_type": "code",
   "execution_count": 7,
   "metadata": {
    "collapsed": false
   },
   "outputs": [],
   "source": [
    "columns = dataset.columns.values.tolist()"
   ]
  },
  {
   "cell_type": "code",
   "execution_count": 8,
   "metadata": {
    "collapsed": false
   },
   "outputs": [],
   "source": [
    "# households = pd.read_sas('dhs_data/raw/PKHR61FL.SAS')"
   ]
  },
  {
   "cell_type": "markdown",
   "metadata": {},
   "source": [
    "## Codebook  "
   ]
  },
  {
   "cell_type": "raw",
   "metadata": {},
   "source": [
    "From DHS 6 Recode Codebook, available from http://dhsprogram.com/pubs/pdf/DHSG4/Recode6_DHS_22March2013_DHSG4.pdf\n",
    "v044/ HV044 - household selected for DV module\n",
    "\n",
    "\n",
    "v447a - woman's age\n",
    "d105a through d105n - various forms of DV reported\n",
    "d107 - any severe violence\n",
    "d108 - any sexual violence\n",
    "v511 - age at first cohabitation\n",
    "v106 - highest level education attended\n",
    "v107 - highest year of education at level in v106\n",
    "\n",
    "PCA-related\n",
    "v113 drink water source\n",
    "v116 toilet facility\n",
    "v119 electricity\n",
    "v120 radio\n",
    "v121 television\n",
    "v122 refrigerator\n",
    "v123 bicycle\n",
    "v124 motorcycle/scooter\n",
    "v125 car/truck\n",
    "v127 floor type\n",
    "v128 wall type\n",
    "v129 roof type"
   ]
  },
  {
   "cell_type": "markdown",
   "metadata": {},
   "source": [
    "## Wealth and Assets"
   ]
  },
  {
   "cell_type": "markdown",
   "metadata": {},
   "source": [
    "### Cooking fuel"
   ]
  },
  {
   "cell_type": "code",
   "execution_count": 9,
   "metadata": {
    "collapsed": false
   },
   "outputs": [
    {
     "data": {
      "text/plain": [
       "wood                       6041\n",
       "natural gas                4923\n",
       "animal dung                 757\n",
       "lpg                         547\n",
       "straw/shrubs/grass          514\n",
       "not a dejure resident       425\n",
       "charcoal                    242\n",
       "biogas                       53\n",
       "coal, lignite                23\n",
       "electricity                  22\n",
       "99                            4\n",
       "kerosene                      4\n",
       "no food cooked in house       3\n",
       "Name: v161, dtype: int64"
      ]
     },
     "execution_count": 9,
     "metadata": {},
     "output_type": "execute_result"
    }
   ],
   "source": [
    "dataset.v161.value_counts()"
   ]
  },
  {
   "cell_type": "code",
   "execution_count": 165,
   "metadata": {
    "collapsed": false
   },
   "outputs": [],
   "source": [
    "dataset[\"wood\"] = dataset.v161.map( lambda x: 1 if x == \"wood\" else 0)\n",
    "dataset[\"natural_gas\"] = dataset.v161.map( lambda x: 1 if x == \"natural gas\" else 0)\n",
    "dataset[\"animal_dung\"] = dataset.v161.map( lambda x: 1 if x == \"animal dung\" else 0)\n",
    "dataset[\"lpg\"] = dataset.v161.map( lambda x: 1 if x == \"lpg\" else 0)\n",
    "dataset[\"grass\"] = dataset.v161.map( lambda x: 1 if x == \"straw/shrubs/grass\" else 0)\n",
    "dataset[\"charcoal\"] = dataset.v161.map( lambda x: 1 if x == \"charcoal\" else 0)\n",
    "dataset[\"biogas\"] = dataset.v161.map( lambda x: 1 if x == \"biogas\" else 0)\n",
    "dataset[\"kerosene\"] = dataset.v161.map( lambda x: 1 if x == \"kerosene\" else 0)\n",
    "dataset[\"electric_power\"] = dataset.v161.map( lambda x: 1 if x == \"electricity\" else 0)\n",
    "dataset[\"coal\"] = dataset.v161.map( lambda x: 1 if x == \"coal, lignite\" else 0)"
   ]
  },
  {
   "cell_type": "markdown",
   "metadata": {},
   "source": [
    "### Water source"
   ]
  },
  {
   "cell_type": "code",
   "execution_count": 11,
   "metadata": {
    "collapsed": false
   },
   "outputs": [
    {
     "data": {
      "text/plain": [
       "piped into dwelling                                     4351\n",
       "tube well or borehole                                   2457\n",
       "hand pump                                               2392\n",
       "public tap/standpipe                                    1039\n",
       "filtration plant                                         487\n",
       "not a dejure resident                                    425\n",
       "river/dam/lake/ponds/stream/canal/irrigation channel     377\n",
       "protected well                                           365\n",
       "unprotected spring                                       329\n",
       "bottled water                                            295\n",
       "unprotected well                                         211\n",
       "piped to yard/plot                                       211\n",
       "cart with small tank                                     185\n",
       "protected spring                                         181\n",
       "tanker truck                                             173\n",
       "other                                                     55\n",
       "rainwater                                                 21\n",
       "99                                                         4\n",
       "Name: v113, dtype: int64"
      ]
     },
     "execution_count": 11,
     "metadata": {},
     "output_type": "execute_result"
    }
   ],
   "source": [
    "dataset.v113.value_counts()"
   ]
  },
  {
   "cell_type": "code",
   "execution_count": 12,
   "metadata": {
    "collapsed": true
   },
   "outputs": [],
   "source": [
    "safe_water = (\"piped into dwelling\",\"tube well or borehole\",\"hand pump\",\"public tap/standpipe\",\"filtration plant\",\"protected well\",\"tanker truck\",\"piped to yard/plot\",\"protected spring\")\n",
    "unsafe_water = (\"river/dam/lake/ponds/stream/canal/irrigation channel\",\"unprotected spring\",\"unprotected well\",\"cart with small tank\",\"rainwater\")"
   ]
  },
  {
   "cell_type": "code",
   "execution_count": 13,
   "metadata": {
    "collapsed": false
   },
   "outputs": [],
   "source": [
    "dataset[\"safe_water\"] = dataset.v113.map( lambda x: 1 if x in safe_water else 0)"
   ]
  },
  {
   "cell_type": "code",
   "execution_count": 14,
   "metadata": {
    "collapsed": true
   },
   "outputs": [],
   "source": [
    "dataset[\"unsafe_water\"] = dataset.v113.map( lambda x: 1 if x in unsafe_water else 0)"
   ]
  },
  {
   "cell_type": "markdown",
   "metadata": {},
   "source": [
    "### Toilet facility"
   ]
  },
  {
   "cell_type": "code",
   "execution_count": 15,
   "metadata": {
    "collapsed": false
   },
   "outputs": [
    {
     "data": {
      "text/plain": [
       "no                       9959\n",
       "yes                      1215\n",
       "not a dejure resident     425\n",
       "9.0                        25\n",
       "Name: v160, dtype: int64"
      ]
     },
     "execution_count": 15,
     "metadata": {},
     "output_type": "execute_result"
    }
   ],
   "source": [
    "dataset.v160.value_counts() #shared?"
   ]
  },
  {
   "cell_type": "code",
   "execution_count": 16,
   "metadata": {
    "collapsed": false
   },
   "outputs": [],
   "source": [
    "dataset[\"shared_toilet\"] = dataset.v160.map( lambda x: 1 if x == (\"yes\" or \"not a dejure resident\") else 0) "
   ]
  },
  {
   "cell_type": "code",
   "execution_count": 17,
   "metadata": {
    "collapsed": false
   },
   "outputs": [
    {
     "data": {
      "text/plain": [
       "flush to piped sewer system              3847\n",
       "flush to pit latrine                     2838\n",
       "flush to septic tank                     2164\n",
       "no facility/bush/field                   1934\n",
       "pit latrine with slab                     846\n",
       "pit latrine without slab/open pit         472\n",
       "flush to somewhere else                   471\n",
       "not a dejure resident                     425\n",
       "ventilated improved pit latrine (vip)     295\n",
       "flush, don't know where                   143\n",
       "bucket toilet                              59\n",
       "hanging toilet/latrine                     35\n",
       "other                                      23\n",
       "99                                          6\n",
       "Name: v116, dtype: int64"
      ]
     },
     "execution_count": 17,
     "metadata": {},
     "output_type": "execute_result"
    }
   ],
   "source": [
    "dataset.v116.value_counts() #type"
   ]
  },
  {
   "cell_type": "code",
   "execution_count": 18,
   "metadata": {
    "collapsed": true
   },
   "outputs": [],
   "source": [
    "dataset[\"improved_sani\"] = dataset.v116.map( lambda x: 1 if x == ('flush to piped sewer system' or 'flush to pit latrine' or 'flush to septic tank' or \"flush, don't know where\" or \"ventilated improved pit latrine (vip)\" or \"flush to somewhere else\") else 0)"
   ]
  },
  {
   "cell_type": "code",
   "execution_count": 19,
   "metadata": {
    "collapsed": false
   },
   "outputs": [],
   "source": [
    "dataset[\"unimproved_sani\"] = dataset.v116.map( lambda x: 1 if x == ('pit latrine with slab' or 'pit latrine without slab/open pit' or 'hanging toilet/latrine' or 'bucket toilet')else 0)"
   ]
  },
  {
   "cell_type": "code",
   "execution_count": 20,
   "metadata": {
    "collapsed": true
   },
   "outputs": [],
   "source": [
    "dataset[\"open_defec\"] = dataset.v116.map( lambda x: 1 if x == (\"no facility/bush/field\") else 0) "
   ]
  },
  {
   "cell_type": "markdown",
   "metadata": {},
   "source": [
    "### Dejure resident?"
   ]
  },
  {
   "cell_type": "code",
   "execution_count": 21,
   "metadata": {
    "collapsed": true
   },
   "outputs": [],
   "source": [
    "dataset[\"dejure_res\"] = dataset.v116.map( lambda x: 1 if x != (\"not a dejure resident\") else 0) "
   ]
  },
  {
   "cell_type": "markdown",
   "metadata": {},
   "source": [
    "### Assets"
   ]
  },
  {
   "cell_type": "code",
   "execution_count": 22,
   "metadata": {
    "collapsed": true
   },
   "outputs": [],
   "source": [
    "asset_components = (\"electricity\",\"radio\",\"tv\",\"refrigerator\",\"bicycle\",\"motorcycle\",\"car/truck\")"
   ]
  },
  {
   "cell_type": "code",
   "execution_count": 23,
   "metadata": {
    "collapsed": false
   },
   "outputs": [
    {
     "data": {
      "text/plain": [
       "yes                      12467\n",
       "no                         663\n",
       "not a dejure resident      425\n",
       "9                            3\n",
       "Name: v119, dtype: int64"
      ]
     },
     "execution_count": 23,
     "metadata": {},
     "output_type": "execute_result"
    }
   ],
   "source": [
    "dataset.v119.value_counts() #electricity"
   ]
  },
  {
   "cell_type": "code",
   "execution_count": 24,
   "metadata": {
    "collapsed": true
   },
   "outputs": [],
   "source": [
    "dataset[asset_components[0]] = dataset.v119.map( lambda x: 1 if x == \"yes\" else 0) "
   ]
  },
  {
   "cell_type": "code",
   "execution_count": 25,
   "metadata": {
    "collapsed": false
   },
   "outputs": [
    {
     "data": {
      "text/plain": [
       "no                       10717\n",
       "yes                       2404\n",
       "not a dejure resident      425\n",
       "9                           12\n",
       "Name: v120, dtype: int64"
      ]
     },
     "execution_count": 25,
     "metadata": {},
     "output_type": "execute_result"
    }
   ],
   "source": [
    "dataset.v120.value_counts() #radio"
   ]
  },
  {
   "cell_type": "code",
   "execution_count": 26,
   "metadata": {
    "collapsed": true
   },
   "outputs": [],
   "source": [
    "dataset[asset_components[1]] = dataset.v120.map( lambda x: 1 if x == \"yes\" else 0) "
   ]
  },
  {
   "cell_type": "code",
   "execution_count": 27,
   "metadata": {
    "collapsed": false
   },
   "outputs": [
    {
     "data": {
      "text/plain": [
       "yes                      8458\n",
       "no                       4669\n",
       "not a dejure resident     425\n",
       "9                           6\n",
       "Name: v121, dtype: int64"
      ]
     },
     "execution_count": 27,
     "metadata": {},
     "output_type": "execute_result"
    }
   ],
   "source": [
    "dataset.v121.value_counts() #television"
   ]
  },
  {
   "cell_type": "code",
   "execution_count": 28,
   "metadata": {
    "collapsed": false
   },
   "outputs": [],
   "source": [
    "dataset[asset_components[2]] = dataset.v121.map( lambda x: 1 if x == \"yes\" else 0) "
   ]
  },
  {
   "cell_type": "code",
   "execution_count": 29,
   "metadata": {
    "collapsed": false
   },
   "outputs": [
    {
     "data": {
      "text/plain": [
       "no                       6690\n",
       "yes                      6432\n",
       "not a dejure resident     425\n",
       "9                          11\n",
       "Name: v122, dtype: int64"
      ]
     },
     "execution_count": 29,
     "metadata": {},
     "output_type": "execute_result"
    }
   ],
   "source": [
    "dataset.v122.value_counts() #refrigerator"
   ]
  },
  {
   "cell_type": "code",
   "execution_count": 30,
   "metadata": {
    "collapsed": true
   },
   "outputs": [],
   "source": [
    "dataset[asset_components[3]] = dataset.v122.map( lambda x: 1 if x == \"yes\" else 0) "
   ]
  },
  {
   "cell_type": "code",
   "execution_count": 31,
   "metadata": {
    "collapsed": false
   },
   "outputs": [
    {
     "data": {
      "text/plain": [
       "no                       9513\n",
       "yes                      3605\n",
       "not a dejure resident     425\n",
       "9                          15\n",
       "Name: v123, dtype: int64"
      ]
     },
     "execution_count": 31,
     "metadata": {},
     "output_type": "execute_result"
    }
   ],
   "source": [
    "dataset.v123.value_counts() #bicycle"
   ]
  },
  {
   "cell_type": "code",
   "execution_count": 32,
   "metadata": {
    "collapsed": true
   },
   "outputs": [],
   "source": [
    "dataset[asset_components[4]] = dataset.v123.map( lambda x: 1 if x == \"yes\" else 0) "
   ]
  },
  {
   "cell_type": "code",
   "execution_count": 33,
   "metadata": {
    "collapsed": false
   },
   "outputs": [
    {
     "data": {
      "text/plain": [
       "no                       8435\n",
       "yes                      4683\n",
       "not a dejure resident     425\n",
       "9                          15\n",
       "Name: v124, dtype: int64"
      ]
     },
     "execution_count": 33,
     "metadata": {},
     "output_type": "execute_result"
    }
   ],
   "source": [
    "dataset.v124.value_counts() #motorcycle/scooter"
   ]
  },
  {
   "cell_type": "code",
   "execution_count": 34,
   "metadata": {
    "collapsed": true
   },
   "outputs": [],
   "source": [
    "dataset[asset_components[5]] = dataset.v124.map( lambda x: 1 if x == \"yes\" else 0) "
   ]
  },
  {
   "cell_type": "code",
   "execution_count": 35,
   "metadata": {
    "collapsed": false
   },
   "outputs": [
    {
     "data": {
      "text/plain": [
       "no                       11600\n",
       "yes                       1519\n",
       "not a dejure resident      425\n",
       "9                           14\n",
       "Name: v125, dtype: int64"
      ]
     },
     "execution_count": 35,
     "metadata": {},
     "output_type": "execute_result"
    }
   ],
   "source": [
    "dataset.v125.value_counts() #car/truck"
   ]
  },
  {
   "cell_type": "code",
   "execution_count": 36,
   "metadata": {
    "collapsed": true
   },
   "outputs": [],
   "source": [
    "dataset[asset_components[6]] = dataset.v124.map( lambda x: 1 if x == \"yes\" else 0) "
   ]
  },
  {
   "cell_type": "markdown",
   "metadata": {},
   "source": [
    "### Floor, wall, roof types"
   ]
  },
  {
   "cell_type": "code",
   "execution_count": 37,
   "metadata": {
    "collapsed": false
   },
   "outputs": [
    {
     "data": {
      "text/plain": [
       "earth, sand               5433\n",
       "cement                    4407\n",
       "chips/terrazzo             824\n",
       "bricks                     737\n",
       "marble                     700\n",
       "carpet                     488\n",
       "not a dejure resident      425\n",
       "mats                       226\n",
       "ceramic tiles              177\n",
       "dung                       109\n",
       "wood planks                 18\n",
       "99                          10\n",
       "parquet, polished wood       2\n",
       "other                        1\n",
       "palm, bamboo                 1\n",
       "Name: v127, dtype: int64"
      ]
     },
     "execution_count": 37,
     "metadata": {},
     "output_type": "execute_result"
    }
   ],
   "source": [
    "dataset.v127.value_counts() #floor type"
   ]
  },
  {
   "cell_type": "code",
   "execution_count": 38,
   "metadata": {
    "collapsed": true
   },
   "outputs": [],
   "source": [
    "hard_floor = (\"cement\",\"chips/terrazzo\",\"bricks\",\"marble\",\"carpet\",\"ceramic tiles\",\"wood planks\",\"parquet, polished wood\")\n",
    "dirt_floor = (\"earth, sand\",\"mats\",\"dung\")"
   ]
  },
  {
   "cell_type": "code",
   "execution_count": 39,
   "metadata": {
    "collapsed": true
   },
   "outputs": [],
   "source": [
    "dataset[\"hard_floor\"] = dataset.v127.map( lambda x: 1 if x in hard_floor else 0) "
   ]
  },
  {
   "cell_type": "code",
   "execution_count": 40,
   "metadata": {
    "collapsed": true
   },
   "outputs": [],
   "source": [
    "dataset[\"dirt_floor\"] = dataset.v127.map( lambda x: 1 if x in dirt_floor else 0) "
   ]
  },
  {
   "cell_type": "code",
   "execution_count": 41,
   "metadata": {
    "collapsed": false
   },
   "outputs": [
    {
     "data": {
      "text/plain": [
       "cement                      3918\n",
       "baked bricks                2456\n",
       "unbaked bricks/mud          1889\n",
       "bricks                      1289\n",
       "mud/stones                   868\n",
       "no walls                     711\n",
       "cement blocks                571\n",
       "stone with mud               556\n",
       "not a dejure resident        425\n",
       "stone with lime / cement     229\n",
       "covered adobe                193\n",
       "bamboo/sticks/mud            165\n",
       "uncovered adobe               91\n",
       "dirt                          64\n",
       "cane / palm / trunks          63\n",
       "tent                          22\n",
       "bamboo with mud               18\n",
       "other                         13\n",
       "99                             8\n",
       "wood planks / shingles         3\n",
       "reused wood                    3\n",
       "carton/plastic                 2\n",
       "cardboard                      1\n",
       "Name: v128, dtype: int64"
      ]
     },
     "execution_count": 41,
     "metadata": {},
     "output_type": "execute_result"
    }
   ],
   "source": [
    "dataset.v128.value_counts() #wall type"
   ]
  },
  {
   "cell_type": "code",
   "execution_count": 42,
   "metadata": {
    "collapsed": true
   },
   "outputs": [],
   "source": [
    "sturdy_walls = (\"cement\",\"baked bricks\",\"bricks\",\"cement blocks\",\"stone with lime / cement\",\"reused wood\")\n",
    "dirt_walls = (\"unbaked bricks/mud\",\"mud/stones\",\"stone with mud\",\"covered adobe\",\"dirt\",\"bamboo with mud\")\n",
    "no_walls = (\"no walls\",\"cane / palm / trunks\",\"tent\",\"wood planks / shingles\",\"carton/plastic\",\"cardboard\")"
   ]
  },
  {
   "cell_type": "code",
   "execution_count": 43,
   "metadata": {
    "collapsed": true
   },
   "outputs": [],
   "source": [
    "dataset[\"sturdy_walls\"] = dataset.v128.map( lambda x: 1 if x in sturdy_walls else 0) \n",
    "dataset[\"dirt_walls\"] = dataset.v128.map( lambda x: 1 if x in dirt_walls else 0) \n",
    "dataset[\"no_walls\"] = dataset.v128.map( lambda x: 1 if x in no_walls else 0) "
   ]
  },
  {
   "cell_type": "code",
   "execution_count": 44,
   "metadata": {
    "collapsed": false
   },
   "outputs": [
    {
     "data": {
      "text/plain": [
       "wood/ t iron/mud               3655\n",
       "cement/rcc                     3530\n",
       "rustic mat                     1515\n",
       "wood planks                    1248\n",
       "reinforced brick cement/rcc    1060\n",
       "not a dejure resident           425\n",
       "iron sheets/asbestos            416\n",
       "palm / bamboo                   406\n",
       "sod/grass                       382\n",
       "calamine / cement fiber         354\n",
       "thatch / palm leaf              171\n",
       "other                           170\n",
       "ceramic tiles                    66\n",
       "cardboard                        50\n",
       "no roof                          48\n",
       "roofing shingles                 31\n",
       "metal                            22\n",
       "99                                9\n",
       "Name: v129, dtype: int64"
      ]
     },
     "execution_count": 44,
     "metadata": {},
     "output_type": "execute_result"
    }
   ],
   "source": [
    "dataset.v129.value_counts() #roof type"
   ]
  },
  {
   "cell_type": "code",
   "execution_count": 45,
   "metadata": {
    "collapsed": true
   },
   "outputs": [],
   "source": [
    "sturdy_roof = (\"cement/rcc\", \"reinforced brick cement/rcc\", \"ceramic tiles\", \"roofing shingles\", \"metal\")\n",
    "mid_roof = (\"wood/ t iron/mud\", \"wood planks\", \"iron sheets/asbestos\", \"calamine / cement fiber\")\n",
    "bad_roof = (\"rustic mat\", \"palm / bamboo\", \"sod/grass\", \"thatch / palm leaf\", \"cardboard\")"
   ]
  },
  {
   "cell_type": "code",
   "execution_count": 46,
   "metadata": {
    "collapsed": false
   },
   "outputs": [],
   "source": [
    "dataset[\"sturdy_roof\"] = dataset.v129.map( lambda x: 1 if x in sturdy_roof else 0) \n",
    "dataset[\"mid_roof\"] = dataset.v129.map( lambda x: 1 if x in mid_roof else 0) \n",
    "dataset[\"bad_roof\"] = dataset.v129.map( lambda x: 1 if x in bad_roof else 0) \n",
    "dataset[\"no_roof\"] = dataset.v129.map( lambda x: 1 if x == \"no roof\" else 0) "
   ]
  },
  {
   "cell_type": "markdown",
   "metadata": {},
   "source": [
    "## Recode education variable"
   ]
  },
  {
   "cell_type": "code",
   "execution_count": 47,
   "metadata": {
    "collapsed": false
   },
   "outputs": [
    {
     "data": {
      "text/plain": [
       "no education    7625\n",
       "secondary       2415\n",
       "primary         1831\n",
       "higher          1687\n",
       "Name: v106, dtype: int64"
      ]
     },
     "execution_count": 47,
     "metadata": {},
     "output_type": "execute_result"
    }
   ],
   "source": [
    "dataset.v106.value_counts()"
   ]
  },
  {
   "cell_type": "code",
   "execution_count": 48,
   "metadata": {
    "collapsed": false
   },
   "outputs": [
    {
     "data": {
      "text/plain": [
       "5.0    2494\n",
       "2.0    1038\n",
       "4.0     933\n",
       "3.0     860\n",
       "6.0     356\n",
       "1.0     252\n",
       "Name: v107, dtype: int64"
      ]
     },
     "execution_count": 48,
     "metadata": {},
     "output_type": "execute_result"
    }
   ],
   "source": [
    "dataset.v107.value_counts() #years of ed achieved at highest level of ed"
   ]
  },
  {
   "cell_type": "code",
   "execution_count": 49,
   "metadata": {
    "collapsed": false
   },
   "outputs": [
    {
     "data": {
      "text/html": [
       "<div>\n",
       "<table border=\"1\" class=\"dataframe\">\n",
       "  <thead>\n",
       "    <tr style=\"text-align: right;\">\n",
       "      <th>v107</th>\n",
       "      <th>1.0</th>\n",
       "      <th>2.0</th>\n",
       "      <th>3.0</th>\n",
       "      <th>4.0</th>\n",
       "      <th>5.0</th>\n",
       "      <th>6.0</th>\n",
       "    </tr>\n",
       "    <tr>\n",
       "      <th>v106</th>\n",
       "      <th></th>\n",
       "      <th></th>\n",
       "      <th></th>\n",
       "      <th></th>\n",
       "      <th></th>\n",
       "      <th></th>\n",
       "    </tr>\n",
       "  </thead>\n",
       "  <tbody>\n",
       "    <tr>\n",
       "      <th>no education</th>\n",
       "      <td>0</td>\n",
       "      <td>0</td>\n",
       "      <td>0</td>\n",
       "      <td>0</td>\n",
       "      <td>0</td>\n",
       "      <td>0</td>\n",
       "    </tr>\n",
       "    <tr>\n",
       "      <th>primary</th>\n",
       "      <td>41</td>\n",
       "      <td>187</td>\n",
       "      <td>220</td>\n",
       "      <td>233</td>\n",
       "      <td>1150</td>\n",
       "      <td>0</td>\n",
       "    </tr>\n",
       "    <tr>\n",
       "      <th>secondary</th>\n",
       "      <td>161</td>\n",
       "      <td>172</td>\n",
       "      <td>612</td>\n",
       "      <td>137</td>\n",
       "      <td>1333</td>\n",
       "      <td>0</td>\n",
       "    </tr>\n",
       "    <tr>\n",
       "      <th>higher</th>\n",
       "      <td>50</td>\n",
       "      <td>679</td>\n",
       "      <td>28</td>\n",
       "      <td>563</td>\n",
       "      <td>11</td>\n",
       "      <td>356</td>\n",
       "    </tr>\n",
       "  </tbody>\n",
       "</table>\n",
       "</div>"
      ],
      "text/plain": [
       "v107          1.0  2.0  3.0  4.0   5.0  6.0\n",
       "v106                                       \n",
       "no education    0    0    0    0     0    0\n",
       "primary        41  187  220  233  1150    0\n",
       "secondary     161  172  612  137  1333    0\n",
       "higher         50  679   28  563    11  356"
      ]
     },
     "execution_count": 49,
     "metadata": {},
     "output_type": "execute_result"
    }
   ],
   "source": [
    "pd.crosstab(dataset.v106,dataset.v107)"
   ]
  },
  {
   "cell_type": "code",
   "execution_count": 50,
   "metadata": {
    "collapsed": false
   },
   "outputs": [],
   "source": [
    "dataset['no_edu'] = dataset.v106.map( lambda x: 1 if x == \"no education\" else 0) \n",
    "dataset['primary_edu'] = dataset.v106.map( lambda x: 1 if x == \"primary\" else 0) \n",
    "dataset['secondary_edu'] = dataset.v106.map( lambda x: 1 if x == \"secondary\" else 0) \n",
    "dataset['higher_edu'] = dataset.v106.map( lambda x: 1 if x == \"higher\" else 0) "
   ]
  },
  {
   "cell_type": "markdown",
   "metadata": {},
   "source": [
    "## Clean out households/women not selected for DV module"
   ]
  },
  {
   "cell_type": "code",
   "execution_count": 166,
   "metadata": {
    "collapsed": false
   },
   "outputs": [
    {
     "data": {
      "text/plain": [
       "woman not selected                          9750\n",
       "woman selected and interviewed              3687\n",
       "woman selected, but privacy not possible     100\n",
       "woman selected, but not interviewed           21\n",
       "Name: v044, dtype: int64"
      ]
     },
     "execution_count": 166,
     "metadata": {},
     "output_type": "execute_result"
    }
   ],
   "source": [
    "dataset[\"v044\"].value_counts()"
   ]
  },
  {
   "cell_type": "code",
   "execution_count": 167,
   "metadata": {
    "collapsed": true
   },
   "outputs": [],
   "source": [
    "dv = dataset[dataset.v044 == 'woman selected and interviewed']"
   ]
  },
  {
   "cell_type": "code",
   "execution_count": 168,
   "metadata": {
    "collapsed": false
   },
   "outputs": [
    {
     "data": {
      "text/plain": [
       "(3687, 4144)"
      ]
     },
     "execution_count": 168,
     "metadata": {},
     "output_type": "execute_result"
    }
   ],
   "source": [
    "dv.shape"
   ]
  },
  {
   "cell_type": "markdown",
   "metadata": {},
   "source": [
    "## Add child marriage variable -- All under 18"
   ]
  },
  {
   "cell_type": "code",
   "execution_count": 169,
   "metadata": {
    "collapsed": false
   },
   "outputs": [
    {
     "name": "stderr",
     "output_type": "stream",
     "text": [
      "/Users/ANTARES/anaconda2/envs/snakes/lib/python3.5/site-packages/ipykernel/__main__.py:1: SettingWithCopyWarning: \n",
      "A value is trying to be set on a copy of a slice from a DataFrame.\n",
      "Try using .loc[row_indexer,col_indexer] = value instead\n",
      "\n",
      "See the caveats in the documentation: http://pandas.pydata.org/pandas-docs/stable/indexing.html#indexing-view-versus-copy\n",
      "  if __name__ == '__main__':\n"
     ]
    }
   ],
   "source": [
    "dv[\"child_marriage\"] = dv.v511.map( lambda x: 1 if (x < 18) else 0) "
   ]
  },
  {
   "cell_type": "code",
   "execution_count": 170,
   "metadata": {
    "collapsed": false
   },
   "outputs": [
    {
     "data": {
      "text/plain": [
       "0    2125\n",
       "1    1562\n",
       "Name: child_marriage, dtype: int64"
      ]
     },
     "execution_count": 170,
     "metadata": {},
     "output_type": "execute_result"
    }
   ],
   "source": [
    "dv[\"child_marriage\"].value_counts()"
   ]
  },
  {
   "cell_type": "markdown",
   "metadata": {},
   "source": [
    "## Split Under 16 v. 16-18"
   ]
  },
  {
   "cell_type": "code",
   "execution_count": 171,
   "metadata": {
    "collapsed": false
   },
   "outputs": [
    {
     "name": "stderr",
     "output_type": "stream",
     "text": [
      "/Users/ANTARES/anaconda2/envs/snakes/lib/python3.5/site-packages/ipykernel/__main__.py:1: SettingWithCopyWarning: \n",
      "A value is trying to be set on a copy of a slice from a DataFrame.\n",
      "Try using .loc[row_indexer,col_indexer] = value instead\n",
      "\n",
      "See the caveats in the documentation: http://pandas.pydata.org/pandas-docs/stable/indexing.html#indexing-view-versus-copy\n",
      "  if __name__ == '__main__':\n"
     ]
    }
   ],
   "source": [
    "dv[\"1617_marriage\"] = dv.v511.map( lambda x: 1 if (x < 18 and x>=16) else 0) #16 is age of consent in Pak"
   ]
  },
  {
   "cell_type": "code",
   "execution_count": 172,
   "metadata": {
    "collapsed": false
   },
   "outputs": [
    {
     "data": {
      "text/plain": [
       "0    2840\n",
       "1     847\n",
       "Name: 1617_marriage, dtype: int64"
      ]
     },
     "execution_count": 172,
     "metadata": {},
     "output_type": "execute_result"
    }
   ],
   "source": [
    "dv[\"1617_marriage\"].value_counts()"
   ]
  },
  {
   "cell_type": "code",
   "execution_count": 173,
   "metadata": {
    "collapsed": false
   },
   "outputs": [
    {
     "name": "stderr",
     "output_type": "stream",
     "text": [
      "/Users/ANTARES/anaconda2/envs/snakes/lib/python3.5/site-packages/ipykernel/__main__.py:1: SettingWithCopyWarning: \n",
      "A value is trying to be set on a copy of a slice from a DataFrame.\n",
      "Try using .loc[row_indexer,col_indexer] = value instead\n",
      "\n",
      "See the caveats in the documentation: http://pandas.pydata.org/pandas-docs/stable/indexing.html#indexing-view-versus-copy\n",
      "  if __name__ == '__main__':\n"
     ]
    }
   ],
   "source": [
    "dv[\"u16_marriage\"] = dv.v511 < 16"
   ]
  },
  {
   "cell_type": "code",
   "execution_count": 174,
   "metadata": {
    "collapsed": false
   },
   "outputs": [
    {
     "data": {
      "text/plain": [
       "count      3687\n",
       "unique        2\n",
       "top       False\n",
       "freq       2972\n",
       "Name: u16_marriage, dtype: object"
      ]
     },
     "execution_count": 174,
     "metadata": {},
     "output_type": "execute_result"
    }
   ],
   "source": [
    "dv.u16_marriage.describe()"
   ]
  },
  {
   "cell_type": "code",
   "execution_count": 175,
   "metadata": {
    "collapsed": false
   },
   "outputs": [
    {
     "name": "stderr",
     "output_type": "stream",
     "text": [
      "/Users/ANTARES/anaconda2/envs/snakes/lib/python3.5/site-packages/ipykernel/__main__.py:1: SettingWithCopyWarning: \n",
      "A value is trying to be set on a copy of a slice from a DataFrame.\n",
      "Try using .loc[row_indexer,col_indexer] = value instead\n",
      "\n",
      "See the caveats in the documentation: http://pandas.pydata.org/pandas-docs/stable/indexing.html#indexing-view-versus-copy\n",
      "  if __name__ == '__main__':\n"
     ]
    }
   ],
   "source": [
    "dv[\"u16_marriage\"] = dv.u16_marriage.map({True: 1, False: 0})"
   ]
  },
  {
   "cell_type": "code",
   "execution_count": 176,
   "metadata": {
    "collapsed": false
   },
   "outputs": [
    {
     "data": {
      "text/plain": [
       "0    2972\n",
       "1     715\n",
       "Name: u16_marriage, dtype: int64"
      ]
     },
     "execution_count": 176,
     "metadata": {},
     "output_type": "execute_result"
    }
   ],
   "source": [
    "dv[\"u16_marriage\"].value_counts()"
   ]
  },
  {
   "cell_type": "markdown",
   "metadata": {},
   "source": [
    "## Domestic violence module"
   ]
  },
  {
   "cell_type": "code",
   "execution_count": 177,
   "metadata": {
    "collapsed": false
   },
   "outputs": [
    {
     "data": {
      "text/plain": [
       "no     2531\n",
       "yes    1154\n",
       "9.0       2\n",
       "Name: d104, dtype: int64"
      ]
     },
     "execution_count": 177,
     "metadata": {},
     "output_type": "execute_result"
    }
   ],
   "source": [
    "dv.d104.value_counts() #ever any emotional violence"
   ]
  },
  {
   "cell_type": "code",
   "execution_count": 178,
   "metadata": {
    "collapsed": true
   },
   "outputs": [],
   "source": [
    "dv = dv[dv[\"d104\"] != 9.0]\n",
    "dv = dv[dv[\"d106\"] != 9.0]\n",
    "dv = dv[dv[\"d107\"] != 9.0]"
   ]
  },
  {
   "cell_type": "code",
   "execution_count": 179,
   "metadata": {
    "collapsed": false
   },
   "outputs": [],
   "source": [
    "dv[\"ever_emo_violence\"] = dv.d104.map(lambda x: 1 if x == \"yes\" else 0) "
   ]
  },
  {
   "cell_type": "code",
   "execution_count": 180,
   "metadata": {
    "collapsed": false
   },
   "outputs": [
    {
     "data": {
      "text/plain": [
       "never                                           3268\n",
       "sometimes                                        168\n",
       "yes, but not in the last 12 months               165\n",
       "often                                             83\n",
       "yes, but frequency in last 12 months missing       1\n",
       "9.0                                                0\n",
       "Name: d105j, dtype: int64"
      ]
     },
     "execution_count": 180,
     "metadata": {},
     "output_type": "execute_result"
    }
   ],
   "source": [
    "dv[\"d105j\"].value_counts()  #physical violence, types A-J"
   ]
  },
  {
   "cell_type": "code",
   "execution_count": 181,
   "metadata": {
    "collapsed": false
   },
   "outputs": [
    {
     "data": {
      "text/plain": [
       "never                                           3074\n",
       "sometimes                                        296\n",
       "yes, but not in the last 12 months               195\n",
       "often                                            116\n",
       "yes, but frequency in last 12 months missing       2\n",
       "9.0                                                1\n",
       "no response given                                  1\n",
       "Name: d105a, dtype: int64"
      ]
     },
     "execution_count": 181,
     "metadata": {},
     "output_type": "execute_result"
    }
   ],
   "source": [
    "dv.d105a.value_counts()"
   ]
  },
  {
   "cell_type": "code",
   "execution_count": 182,
   "metadata": {
    "collapsed": true
   },
   "outputs": [],
   "source": [
    "from string import ascii_lowercase"
   ]
  },
  {
   "cell_type": "code",
   "execution_count": 183,
   "metadata": {
    "collapsed": false
   },
   "outputs": [],
   "source": [
    "physical_violence = (\"sometimes\",\"often\",\"yes, but not in the last 12 months\",\"yes, but frequency in last 12 months missing\")\n",
    "\n",
    "# dv[col_name] = dv[col_name].map( lambda x: 1 if x in last_twelve else 0) \n",
    "\n",
    "for letter in ascii_lowercase[0:10]:\n",
    "    col_name = \"d105{}\".format(letter)\n",
    "    col_name_temp = str(col_name) + \"_temp\"\n",
    "    dv[col_name_temp] = dv[col_name].map( lambda x: 1 if x in physical_violence else 0) \n"
   ]
  },
  {
   "cell_type": "code",
   "execution_count": 184,
   "metadata": {
    "collapsed": false
   },
   "outputs": [
    {
     "data": {
      "text/plain": [
       "0    3076\n",
       "1     609\n",
       "Name: d105a_temp, dtype: int64"
      ]
     },
     "execution_count": 184,
     "metadata": {},
     "output_type": "execute_result"
    }
   ],
   "source": [
    "dv.d105a_temp.value_counts()"
   ]
  },
  {
   "cell_type": "code",
   "execution_count": 185,
   "metadata": {
    "collapsed": false
   },
   "outputs": [],
   "source": [
    "dv.dtypes;"
   ]
  },
  {
   "cell_type": "code",
   "execution_count": 186,
   "metadata": {
    "collapsed": false
   },
   "outputs": [],
   "source": [
    "dv.reset_index(inplace=True);"
   ]
  },
  {
   "cell_type": "code",
   "execution_count": 187,
   "metadata": {
    "collapsed": false
   },
   "outputs": [
    {
     "data": {
      "text/html": [
       "<div>\n",
       "<table border=\"1\" class=\"dataframe\">\n",
       "  <thead>\n",
       "    <tr style=\"text-align: right;\">\n",
       "      <th></th>\n",
       "      <th>index</th>\n",
       "      <th>caseid</th>\n",
       "      <th>v000</th>\n",
       "      <th>v001</th>\n",
       "      <th>v002</th>\n",
       "      <th>v003</th>\n",
       "      <th>v004</th>\n",
       "      <th>v005</th>\n",
       "      <th>v006</th>\n",
       "      <th>v007</th>\n",
       "      <th>...</th>\n",
       "      <th>d105a_temp</th>\n",
       "      <th>d105b_temp</th>\n",
       "      <th>d105c_temp</th>\n",
       "      <th>d105d_temp</th>\n",
       "      <th>d105e_temp</th>\n",
       "      <th>d105f_temp</th>\n",
       "      <th>d105g_temp</th>\n",
       "      <th>d105h_temp</th>\n",
       "      <th>d105i_temp</th>\n",
       "      <th>d105j_temp</th>\n",
       "    </tr>\n",
       "  </thead>\n",
       "  <tbody>\n",
       "    <tr>\n",
       "      <th>0</th>\n",
       "      <td>0</td>\n",
       "      <td>1 2  2</td>\n",
       "      <td>PK6</td>\n",
       "      <td>1</td>\n",
       "      <td>2</td>\n",
       "      <td>2</td>\n",
       "      <td>1</td>\n",
       "      <td>2152140</td>\n",
       "      <td>11</td>\n",
       "      <td>2012</td>\n",
       "      <td>...</td>\n",
       "      <td>0</td>\n",
       "      <td>0</td>\n",
       "      <td>0</td>\n",
       "      <td>0</td>\n",
       "      <td>0</td>\n",
       "      <td>0</td>\n",
       "      <td>NaN</td>\n",
       "      <td>NaN</td>\n",
       "      <td>NaN</td>\n",
       "      <td>0</td>\n",
       "    </tr>\n",
       "    <tr>\n",
       "      <th>1</th>\n",
       "      <td>2</td>\n",
       "      <td>1 5  2</td>\n",
       "      <td>PK6</td>\n",
       "      <td>1</td>\n",
       "      <td>5</td>\n",
       "      <td>2</td>\n",
       "      <td>1</td>\n",
       "      <td>2152140</td>\n",
       "      <td>11</td>\n",
       "      <td>2012</td>\n",
       "      <td>...</td>\n",
       "      <td>0</td>\n",
       "      <td>0</td>\n",
       "      <td>0</td>\n",
       "      <td>0</td>\n",
       "      <td>0</td>\n",
       "      <td>0</td>\n",
       "      <td>NaN</td>\n",
       "      <td>NaN</td>\n",
       "      <td>NaN</td>\n",
       "      <td>0</td>\n",
       "    </tr>\n",
       "    <tr>\n",
       "      <th>2</th>\n",
       "      <td>6</td>\n",
       "      <td>1 8  8</td>\n",
       "      <td>PK6</td>\n",
       "      <td>1</td>\n",
       "      <td>8</td>\n",
       "      <td>8</td>\n",
       "      <td>1</td>\n",
       "      <td>2152140</td>\n",
       "      <td>11</td>\n",
       "      <td>2012</td>\n",
       "      <td>...</td>\n",
       "      <td>0</td>\n",
       "      <td>0</td>\n",
       "      <td>0</td>\n",
       "      <td>0</td>\n",
       "      <td>0</td>\n",
       "      <td>0</td>\n",
       "      <td>NaN</td>\n",
       "      <td>NaN</td>\n",
       "      <td>NaN</td>\n",
       "      <td>0</td>\n",
       "    </tr>\n",
       "    <tr>\n",
       "      <th>3</th>\n",
       "      <td>9</td>\n",
       "      <td>110  2</td>\n",
       "      <td>PK6</td>\n",
       "      <td>1</td>\n",
       "      <td>10</td>\n",
       "      <td>2</td>\n",
       "      <td>1</td>\n",
       "      <td>2152140</td>\n",
       "      <td>11</td>\n",
       "      <td>2012</td>\n",
       "      <td>...</td>\n",
       "      <td>0</td>\n",
       "      <td>0</td>\n",
       "      <td>0</td>\n",
       "      <td>0</td>\n",
       "      <td>0</td>\n",
       "      <td>0</td>\n",
       "      <td>NaN</td>\n",
       "      <td>NaN</td>\n",
       "      <td>NaN</td>\n",
       "      <td>0</td>\n",
       "    </tr>\n",
       "    <tr>\n",
       "      <th>4</th>\n",
       "      <td>16</td>\n",
       "      <td>119  2</td>\n",
       "      <td>PK6</td>\n",
       "      <td>1</td>\n",
       "      <td>19</td>\n",
       "      <td>2</td>\n",
       "      <td>1</td>\n",
       "      <td>2152140</td>\n",
       "      <td>11</td>\n",
       "      <td>2012</td>\n",
       "      <td>...</td>\n",
       "      <td>0</td>\n",
       "      <td>0</td>\n",
       "      <td>0</td>\n",
       "      <td>0</td>\n",
       "      <td>0</td>\n",
       "      <td>0</td>\n",
       "      <td>NaN</td>\n",
       "      <td>NaN</td>\n",
       "      <td>NaN</td>\n",
       "      <td>0</td>\n",
       "    </tr>\n",
       "  </tbody>\n",
       "</table>\n",
       "<p>5 rows × 4159 columns</p>\n",
       "</div>"
      ],
      "text/plain": [
       "   index           caseid v000  v001  v002  v003  v004     v005  v006  v007  \\\n",
       "0      0           1 2  2  PK6     1     2     2     1  2152140    11  2012   \n",
       "1      2           1 5  2  PK6     1     5     2     1  2152140    11  2012   \n",
       "2      6           1 8  8  PK6     1     8     8     1  2152140    11  2012   \n",
       "3      9           110  2  PK6     1    10     2     1  2152140    11  2012   \n",
       "4     16           119  2  PK6     1    19     2     1  2152140    11  2012   \n",
       "\n",
       "      ...      d105a_temp  d105b_temp  d105c_temp  d105d_temp  d105e_temp  \\\n",
       "0     ...               0           0           0           0           0   \n",
       "1     ...               0           0           0           0           0   \n",
       "2     ...               0           0           0           0           0   \n",
       "3     ...               0           0           0           0           0   \n",
       "4     ...               0           0           0           0           0   \n",
       "\n",
       "  d105f_temp d105g_temp d105h_temp  d105i_temp  d105j_temp  \n",
       "0          0        NaN        NaN         NaN           0  \n",
       "1          0        NaN        NaN         NaN           0  \n",
       "2          0        NaN        NaN         NaN           0  \n",
       "3          0        NaN        NaN         NaN           0  \n",
       "4          0        NaN        NaN         NaN           0  \n",
       "\n",
       "[5 rows x 4159 columns]"
      ]
     },
     "execution_count": 187,
     "metadata": {},
     "output_type": "execute_result"
    }
   ],
   "source": [
    "dv[:5]"
   ]
  },
  {
   "cell_type": "code",
   "execution_count": 188,
   "metadata": {
    "collapsed": false
   },
   "outputs": [],
   "source": [
    "dv[\"physical_dv\"] = dv[\"d105a_temp\"] + dv[\"d105b_temp\"] + dv[\"d105c_temp\"] + dv[\"d105d_temp\"] + dv[\"d105e_temp\"] + dv[\"d105f_temp\"] + dv[\"d105j_temp\"]\n",
    "dv[\"physical_dv\"] = dv[\"physical_dv\"].map( lambda x: 1 if x >= 1 else 0) "
   ]
  },
  {
   "cell_type": "code",
   "execution_count": 189,
   "metadata": {
    "collapsed": false
   },
   "outputs": [
    {
     "data": {
      "text/plain": [
       "0    2644\n",
       "1    1041\n",
       "Name: physical_dv, dtype: int64"
      ]
     },
     "execution_count": 189,
     "metadata": {},
     "output_type": "execute_result"
    }
   ],
   "source": [
    "dv[\"physical_dv\"].value_counts()"
   ]
  },
  {
   "cell_type": "markdown",
   "metadata": {},
   "source": [
    "# All ages, all assets in this notebook"
   ]
  },
  {
   "cell_type": "code",
   "execution_count": 158,
   "metadata": {
    "collapsed": false
   },
   "outputs": [],
   "source": [
    "# # Our main analysis will be on women ages 20-24 at time of survey\n",
    "# df2024 = dv.copy(deep=\"True\")\n",
    "# df2024 = df2024[df2024.v447a.isin(range(20,25))];\n",
    "# df2024.shape"
   ]
  },
  {
   "cell_type": "code",
   "execution_count": 190,
   "metadata": {
    "collapsed": false
   },
   "outputs": [],
   "source": [
    "dv[\"age\"] = dv[\"v447a\"] #woman's age"
   ]
  },
  {
   "cell_type": "code",
   "execution_count": 73,
   "metadata": {
    "collapsed": false
   },
   "outputs": [],
   "source": [
    "# df2024[\"interviewed\"]= df2024[\"v044\"]"
   ]
  },
  {
   "cell_type": "code",
   "execution_count": 74,
   "metadata": {
    "collapsed": true
   },
   "outputs": [],
   "source": [
    "# df2024[\"any_abuse\"]= df2024[\"d107\"]"
   ]
  },
  {
   "cell_type": "code",
   "execution_count": 75,
   "metadata": {
    "collapsed": false
   },
   "outputs": [],
   "source": [
    "# df2024.head()"
   ]
  },
  {
   "cell_type": "code",
   "execution_count": 76,
   "metadata": {
    "collapsed": false
   },
   "outputs": [],
   "source": [
    "# df2024[\"v511\"].describe() #age at first cohabitation"
   ]
  },
  {
   "cell_type": "markdown",
   "metadata": {},
   "source": [
    "# READY, SET...."
   ]
  },
  {
   "cell_type": "code",
   "execution_count": 433,
   "metadata": {
    "collapsed": true
   },
   "outputs": [],
   "source": [
    "# fuel_cols = [\"wood\",\"natural_gas\",\"animal_dung\",\"lpg\",\"grass\",\"charcoal\",\"biogas\",\"kerosene\",\"electric_power\",\"coal\"]\n",
    "wash_cols = [\"improved_sani\",\"unimproved_sani\",\"open_defec\",\"safe_water\",\"unsafe_water\", \"shared_toilet\"]\n",
    "hh_cols = [\"sturdy_walls\",\"dirt_walls\",\"no_walls\",\"sturdy_roof\",\"mid_roof\",\"bad_roof\",\"no_roof\", \"hard_floor\", \"dirt_floor\"]"
   ]
  },
  {
   "cell_type": "code",
   "execution_count": 192,
   "metadata": {
    "collapsed": true
   },
   "outputs": [],
   "source": [
    "dv_cols = [\"physical_dv\",\"age\",\"ever_emo_violence\",\"u16_marriage\", \"child_marriage\", \"no_edu\", \"primary_edu\", \"secondary_edu\", \"higher_edu\"]\n",
    "asset_cols = list(asset_components)"
   ]
  },
  {
   "cell_type": "code",
   "execution_count": 434,
   "metadata": {
    "collapsed": false
   },
   "outputs": [],
   "source": [
    "clean_cols = dv_cols + asset_cols + wash_cols + hh_cols"
   ]
  },
  {
   "cell_type": "code",
   "execution_count": 435,
   "metadata": {
    "collapsed": false
   },
   "outputs": [],
   "source": [
    "df =dv[clean_cols]"
   ]
  },
  {
   "cell_type": "code",
   "execution_count": 436,
   "metadata": {
    "collapsed": false
   },
   "outputs": [
    {
     "data": {
      "text/html": [
       "<div>\n",
       "<table border=\"1\" class=\"dataframe\">\n",
       "  <thead>\n",
       "    <tr style=\"text-align: right;\">\n",
       "      <th></th>\n",
       "      <th>physical_dv</th>\n",
       "      <th>age</th>\n",
       "      <th>ever_emo_violence</th>\n",
       "      <th>u16_marriage</th>\n",
       "      <th>child_marriage</th>\n",
       "      <th>no_edu</th>\n",
       "      <th>primary_edu</th>\n",
       "      <th>secondary_edu</th>\n",
       "      <th>higher_edu</th>\n",
       "      <th>safe_water</th>\n",
       "      <th>...</th>\n",
       "      <th>shared_toilet</th>\n",
       "      <th>sturdy_walls</th>\n",
       "      <th>dirt_walls</th>\n",
       "      <th>no_walls</th>\n",
       "      <th>sturdy_roof</th>\n",
       "      <th>mid_roof</th>\n",
       "      <th>bad_roof</th>\n",
       "      <th>no_roof</th>\n",
       "      <th>hard_floor</th>\n",
       "      <th>dirt_floor</th>\n",
       "    </tr>\n",
       "  </thead>\n",
       "  <tbody>\n",
       "    <tr>\n",
       "      <th>0</th>\n",
       "      <td>0</td>\n",
       "      <td>25.0</td>\n",
       "      <td>0</td>\n",
       "      <td>0</td>\n",
       "      <td>1</td>\n",
       "      <td>1</td>\n",
       "      <td>0</td>\n",
       "      <td>0</td>\n",
       "      <td>0</td>\n",
       "      <td>1</td>\n",
       "      <td>...</td>\n",
       "      <td>0</td>\n",
       "      <td>1</td>\n",
       "      <td>0</td>\n",
       "      <td>0</td>\n",
       "      <td>0</td>\n",
       "      <td>1</td>\n",
       "      <td>0</td>\n",
       "      <td>0</td>\n",
       "      <td>1</td>\n",
       "      <td>0</td>\n",
       "    </tr>\n",
       "    <tr>\n",
       "      <th>1</th>\n",
       "      <td>0</td>\n",
       "      <td>31.0</td>\n",
       "      <td>1</td>\n",
       "      <td>0</td>\n",
       "      <td>0</td>\n",
       "      <td>0</td>\n",
       "      <td>1</td>\n",
       "      <td>0</td>\n",
       "      <td>0</td>\n",
       "      <td>1</td>\n",
       "      <td>...</td>\n",
       "      <td>1</td>\n",
       "      <td>1</td>\n",
       "      <td>0</td>\n",
       "      <td>0</td>\n",
       "      <td>0</td>\n",
       "      <td>1</td>\n",
       "      <td>0</td>\n",
       "      <td>0</td>\n",
       "      <td>1</td>\n",
       "      <td>0</td>\n",
       "    </tr>\n",
       "    <tr>\n",
       "      <th>2</th>\n",
       "      <td>0</td>\n",
       "      <td>30.0</td>\n",
       "      <td>1</td>\n",
       "      <td>0</td>\n",
       "      <td>0</td>\n",
       "      <td>0</td>\n",
       "      <td>0</td>\n",
       "      <td>0</td>\n",
       "      <td>1</td>\n",
       "      <td>1</td>\n",
       "      <td>...</td>\n",
       "      <td>0</td>\n",
       "      <td>1</td>\n",
       "      <td>0</td>\n",
       "      <td>0</td>\n",
       "      <td>0</td>\n",
       "      <td>1</td>\n",
       "      <td>0</td>\n",
       "      <td>0</td>\n",
       "      <td>1</td>\n",
       "      <td>0</td>\n",
       "    </tr>\n",
       "    <tr>\n",
       "      <th>3</th>\n",
       "      <td>0</td>\n",
       "      <td>46.0</td>\n",
       "      <td>0</td>\n",
       "      <td>0</td>\n",
       "      <td>0</td>\n",
       "      <td>0</td>\n",
       "      <td>0</td>\n",
       "      <td>1</td>\n",
       "      <td>0</td>\n",
       "      <td>1</td>\n",
       "      <td>...</td>\n",
       "      <td>0</td>\n",
       "      <td>1</td>\n",
       "      <td>0</td>\n",
       "      <td>0</td>\n",
       "      <td>1</td>\n",
       "      <td>0</td>\n",
       "      <td>0</td>\n",
       "      <td>0</td>\n",
       "      <td>1</td>\n",
       "      <td>0</td>\n",
       "    </tr>\n",
       "    <tr>\n",
       "      <th>4</th>\n",
       "      <td>0</td>\n",
       "      <td>39.0</td>\n",
       "      <td>1</td>\n",
       "      <td>0</td>\n",
       "      <td>1</td>\n",
       "      <td>1</td>\n",
       "      <td>0</td>\n",
       "      <td>0</td>\n",
       "      <td>0</td>\n",
       "      <td>1</td>\n",
       "      <td>...</td>\n",
       "      <td>0</td>\n",
       "      <td>1</td>\n",
       "      <td>0</td>\n",
       "      <td>0</td>\n",
       "      <td>0</td>\n",
       "      <td>1</td>\n",
       "      <td>0</td>\n",
       "      <td>0</td>\n",
       "      <td>1</td>\n",
       "      <td>0</td>\n",
       "    </tr>\n",
       "  </tbody>\n",
       "</table>\n",
       "<p>5 rows × 54 columns</p>\n",
       "</div>"
      ],
      "text/plain": [
       "   physical_dv   age  ever_emo_violence  u16_marriage  child_marriage  no_edu  \\\n",
       "0            0  25.0                  0             0               1       1   \n",
       "1            0  31.0                  1             0               0       0   \n",
       "2            0  30.0                  1             0               0       0   \n",
       "3            0  46.0                  0             0               0       0   \n",
       "4            0  39.0                  1             0               1       1   \n",
       "\n",
       "   primary_edu  secondary_edu  higher_edu  safe_water     ...      \\\n",
       "0            0              0           0           1     ...       \n",
       "1            1              0           0           1     ...       \n",
       "2            0              0           1           1     ...       \n",
       "3            0              1           0           1     ...       \n",
       "4            0              0           0           1     ...       \n",
       "\n",
       "   shared_toilet  sturdy_walls  dirt_walls  no_walls  sturdy_roof  mid_roof  \\\n",
       "0              0             1           0         0            0         1   \n",
       "1              1             1           0         0            0         1   \n",
       "2              0             1           0         0            0         1   \n",
       "3              0             1           0         0            1         0   \n",
       "4              0             1           0         0            0         1   \n",
       "\n",
       "   bad_roof  no_roof  hard_floor  dirt_floor  \n",
       "0         0        0           1           0  \n",
       "1         0        0           1           0  \n",
       "2         0        0           1           0  \n",
       "3         0        0           1           0  \n",
       "4         0        0           1           0  \n",
       "\n",
       "[5 rows x 54 columns]"
      ]
     },
     "execution_count": 436,
     "metadata": {},
     "output_type": "execute_result"
    }
   ],
   "source": [
    "df.head()"
   ]
  },
  {
   "cell_type": "code",
   "execution_count": 437,
   "metadata": {
    "collapsed": false
   },
   "outputs": [
    {
     "data": {
      "text/plain": [
       "Index(['physical_dv', 'age', 'ever_emo_violence', 'u16_marriage',\n",
       "       'child_marriage', 'no_edu', 'primary_edu', 'secondary_edu',\n",
       "       'higher_edu', 'safe_water', 'unsafe_water', 'no_walls', 'dirt_walls',\n",
       "       'mid_roof', 'bad_roof', 'sturdy_roof', 'no_roof', 'sturdy_walls',\n",
       "       'dirt_floor', 'hard_floor', 'electricity', 'radio', 'tv',\n",
       "       'refrigerator', 'bicycle', 'motorcycle', 'car/truck', 'open_defec',\n",
       "       'unimproved_sani', 'wood', 'natural_gas', 'animal_dung', 'lpg', 'grass',\n",
       "       'charcoal', 'biogas', 'kerosene', 'electric_power', 'coal',\n",
       "       'improved_sani', 'unimproved_sani', 'open_defec', 'safe_water',\n",
       "       'unsafe_water', 'shared_toilet', 'sturdy_walls', 'dirt_walls',\n",
       "       'no_walls', 'sturdy_roof', 'mid_roof', 'bad_roof', 'no_roof',\n",
       "       'hard_floor', 'dirt_floor'],\n",
       "      dtype='object')"
      ]
     },
     "execution_count": 437,
     "metadata": {},
     "output_type": "execute_result"
    }
   ],
   "source": [
    "df.columns"
   ]
  },
  {
   "cell_type": "code",
   "execution_count": 438,
   "metadata": {
    "collapsed": true
   },
   "outputs": [],
   "source": [
    "clean_cols2 = dv_cols + hh_cols\n",
    "df2 = dv[clean_cols2]"
   ]
  },
  {
   "cell_type": "markdown",
   "metadata": {},
   "source": [
    "# Models"
   ]
  },
  {
   "cell_type": "markdown",
   "metadata": {},
   "source": [
    "## Physical abuse ever, age 16 and below"
   ]
  },
  {
   "cell_type": "code",
   "execution_count": 199,
   "metadata": {
    "collapsed": false
   },
   "outputs": [],
   "source": [
    "from sklearn.cross_validation import train_test_split\n",
    "X, y = df.drop(['physical_dv',\"ever_emo_violence\", 'child_marriage'], axis=1),df['physical_dv']\n",
    "\n",
    "X_train, X_holdout, y_train, y_holdout = train_test_split(X, y, test_size=0.3, random_state=42)"
   ]
  },
  {
   "cell_type": "code",
   "execution_count": 200,
   "metadata": {
    "collapsed": false
   },
   "outputs": [
    {
     "name": "stdout",
     "output_type": "stream",
     "text": [
      "3685 2579 1106\n"
     ]
    }
   ],
   "source": [
    "print(len(X),len(X_train),len(X_holdout))"
   ]
  },
  {
   "cell_type": "code",
   "execution_count": 201,
   "metadata": {
    "collapsed": true
   },
   "outputs": [],
   "source": [
    "import seaborn as sns"
   ]
  },
  {
   "cell_type": "code",
   "execution_count": 202,
   "metadata": {
    "collapsed": false
   },
   "outputs": [],
   "source": [
    "from sklearn.naive_bayes import GaussianNB\n",
    "from sklearn.svm import SVC\n",
    "from sklearn.tree import DecisionTreeClassifier\n",
    "from sklearn.ensemble import RandomForestClassifier\n",
    "from sklearn.neighbors import KNeighborsClassifier\n",
    "\n",
    "from sklearn.linear_model import LogisticRegression\n",
    "from sklearn.metrics import accuracy_score, classification_report\n",
    "\n",
    "\n",
    "models = {}\n",
    "models['LogisticRegression'] = LogisticRegression()\n",
    "models['K-Nearest Neighbors'] = KNeighborsClassifier(n_neighbors=6)\n",
    "models['Gaussian'] = GaussianNB()\n",
    "# models['SVC'] = SVC()\n",
    "models['Decision Tree'] = DecisionTreeClassifier()\n",
    "models['Random Forest'] = RandomForestClassifier()"
   ]
  },
  {
   "cell_type": "code",
   "execution_count": 203,
   "metadata": {
    "collapsed": true
   },
   "outputs": [],
   "source": [
    "from sklearn.metrics import roc_curve"
   ]
  },
  {
   "cell_type": "code",
   "execution_count": 204,
   "metadata": {
    "collapsed": false
   },
   "outputs": [
    {
     "data": {
      "image/png": "[encoded data removed]",
      "text/plain": [
       "<matplotlib.figure.Figure at 0x11f1835c0>"
      ]
     },
     "metadata": {},
     "output_type": "display_data"
    }
   ],
   "source": [
    "model=LogisticRegression()\n",
    "model.fit(X_train,y_train)\n",
    "y_pred = model.predict(X_holdout)\n",
    "fpr, tpr, thresholds = roc_curve(y_holdout, model.predict_proba(X_holdout)[:,1])\n",
    "plt.plot(thresholds, tpr, label=\"TPR\")\n",
    "plt.plot(thresholds, 1-fpr, label=\"FPR\")\n",
    "\n",
    "plt.title('Determining the Trade-off between True and False Positives')\n",
    "plt.xlabel('Threshold')\n",
    "plt.ylabel('Positivity Rate')\n",
    "plt.legend(loc='best')\n",
    "plt.show()"
   ]
  },
  {
   "cell_type": "code",
   "execution_count": 275,
   "metadata": {
    "collapsed": false
   },
   "outputs": [
    {
     "name": "stdout",
     "output_type": "stream",
     "text": [
      "Logistic Regression\n",
      "Accuracy: 0.72\n",
      "             precision    recall  f1-score   support\n",
      "\n",
      "          0       0.72      0.98      0.83       796\n",
      "          1       0.37      0.02      0.04       310\n",
      "\n",
      "avg / total       0.62      0.72      0.61      1106\n",
      "\n"
     ]
    }
   ],
   "source": [
    "model = LogisticRegression()\n",
    "lr = model.fit(X_train,y_train)\n",
    "y_pred = model.predict(X_holdout)\n",
    "\n",
    "print(\"Logistic Regression\")\n",
    "print(\"Accuracy: {:.2f}\".format(accuracy_score(y_holdout, y_pred)))\n",
    "print(classification_report(y_holdout, model.predict(X_holdout)))\n",
    "#     print(\"\")\n",
    "#what is the difference between score and accuracy_score in scikit-learn?"
   ]
  },
  {
   "cell_type": "code",
   "execution_count": 278,
   "metadata": {
    "collapsed": false
   },
   "outputs": [],
   "source": [
    "y_pred_lower_threshold = lr.decision_function(X_holdout) > -.7"
   ]
  },
  {
   "cell_type": "code",
   "execution_count": 280,
   "metadata": {
    "collapsed": false
   },
   "outputs": [
    {
     "name": "stdout",
     "output_type": "stream",
     "text": [
      "Logistic Regression, Lower Threshold\n",
      "Accuracy: 0.65\n",
      "             precision    recall  f1-score   support\n",
      "\n",
      "          0       0.77      0.73      0.75       796\n",
      "          1       0.38      0.42      0.40       310\n",
      "\n",
      "avg / total       0.66      0.65      0.65      1106\n",
      "\n"
     ]
    }
   ],
   "source": [
    "print(\"Logistic Regression, Lower Threshold\")\n",
    "print(\"Accuracy: {:.2f}\".format(accuracy_score(y_holdout, y_pred_lower_threshold)))\n",
    "print(classification_report(y_holdout, y_pred_lower_threshold))"
   ]
  },
  {
   "cell_type": "code",
   "execution_count": 288,
   "metadata": {
    "collapsed": true
   },
   "outputs": [],
   "source": [
    "y_pred_even_lower_threshold = lr.decision_function(X_holdout) > -.9"
   ]
  },
  {
   "cell_type": "code",
   "execution_count": 289,
   "metadata": {
    "collapsed": false
   },
   "outputs": [
    {
     "name": "stdout",
     "output_type": "stream",
     "text": [
      "Logistic Regression, Lower Threshold\n",
      "Accuracy: 0.59\n",
      "             precision    recall  f1-score   support\n",
      "\n",
      "          0       0.80      0.57      0.66       796\n",
      "          1       0.37      0.64      0.46       310\n",
      "\n",
      "avg / total       0.68      0.59      0.61      1106\n",
      "\n"
     ]
    }
   ],
   "source": [
    "print(\"Logistic Regression, Lower Threshold\")\n",
    "print(\"Accuracy: {:.2f}\".format(accuracy_score(y_holdout, y_pred_even_lower_threshold)))\n",
    "print(classification_report(y_holdout, y_pred_even_lower_threshold))"
   ]
  },
  {
   "cell_type": "code",
   "execution_count": 205,
   "metadata": {
    "collapsed": false
   },
   "outputs": [
    {
     "data": {
      "image/png": "[encoded data removed]",
      "text/plain": [
       "<matplotlib.figure.Figure at 0x138320160>"
      ]
     },
     "metadata": {},
     "output_type": "display_data"
    }
   ],
   "source": [
    "plt.figure(figsize = (7,4))\n",
    "\n",
    "for name,model in models.items():\n",
    "    model.fit(X_train,y_train)\n",
    "    y_pred = model.predict(X_holdout)\n",
    "    fpr, tpr, thresholds = roc_curve(y_holdout, model.predict_proba(X_holdout)[:,1])\n",
    "#     plt.plot(fpr, tpr)\n",
    "    plt.plot(fpr, tpr, label=name)\n",
    "    \n",
    "#     print('Model: '+name)\n",
    "#     print(\"Score: \" + str(model.score(X_holdout,y_holdout)))\n",
    "#     print(\"Accuracy: {:.2f}\".format(accuracy_score(y_holdout, y_pred)))\n",
    "#     print(classification_report(y_holdout, model.predict(X_holdout)))\n",
    "#     print(\"\")\n",
    "#what is the difference between score and accuracy_score in scikit-learn?\n",
    "\n",
    "\n",
    "plt.title('ROC Curve')\n",
    "plt.xlabel('1 - Specificity')\n",
    "plt.ylabel('Sensitivity')\n",
    "plt.legend(loc='best')\n",
    "plt.show()"
   ]
  },
  {
   "cell_type": "code",
   "execution_count": 206,
   "metadata": {
    "collapsed": false
   },
   "outputs": [],
   "source": [
    "from sklearn.metrics import precision_recall_curve"
   ]
  },
  {
   "cell_type": "code",
   "execution_count": 207,
   "metadata": {
    "collapsed": false
   },
   "outputs": [],
   "source": [
    "def joel_pr_curve(truthvec, scorevec, model):\n",
    "    threshvec = np.unique(scorevec)\n",
    "    numthresh = len(threshvec)\n",
    "    tpvec = np.zeros(numthresh)\n",
    "    fpvec = np.zeros(numthresh)\n",
    "    fnvec = np.zeros(numthresh)\n",
    "\n",
    "    for i in range(numthresh):\n",
    "        thresh = threshvec[i]\n",
    "        tpvec[i] = sum(truthvec[scorevec>=thresh])\n",
    "        fpvec[i] = sum(1-truthvec[scorevec>=thresh])\n",
    "        fnvec[i] = sum(truthvec[scorevec<thresh])\n",
    "    recallvec = tpvec/(tpvec + fnvec)\n",
    "    precisionvec = tpvec/(tpvec + fpvec)\n",
    "    return (recallvec, precisionvec, threshvec)"
   ]
  },
  {
   "cell_type": "code",
   "execution_count": 208,
   "metadata": {
    "collapsed": true
   },
   "outputs": [],
   "source": [
    "joel_recall_vec, joel_prec_vec, joel_thresh_vec = joel_pr_curve(y_holdout,pred_probs[:,1], \"KNN\")"
   ]
  },
  {
   "cell_type": "code",
   "execution_count": 209,
   "metadata": {
    "collapsed": false
   },
   "outputs": [
    {
     "data": {
      "text/plain": [
       "[<matplotlib.lines.Line2D at 0x1130b6a90>]"
      ]
     },
     "execution_count": 209,
     "metadata": {},
     "output_type": "execute_result"
    },
    {
     "data": {
      "image/png": "[encoded data removed]",
      "text/plain": [
       "<matplotlib.figure.Figure at 0x138ba4dd8>"
      ]
     },
     "metadata": {},
     "output_type": "display_data"
    }
   ],
   "source": [
    "plt.plot(joel_recall_vec)"
   ]
  },
  {
   "cell_type": "code",
   "execution_count": 210,
   "metadata": {
    "collapsed": false
   },
   "outputs": [
    {
     "data": {
      "text/plain": [
       "KNeighborsClassifier(algorithm='auto', leaf_size=30, metric='minkowski',\n",
       "           metric_params=None, n_jobs=1, n_neighbors=6, p=2,\n",
       "           weights='uniform')"
      ]
     },
     "execution_count": 210,
     "metadata": {},
     "output_type": "execute_result"
    }
   ],
   "source": [
    "neigh = KNeighborsClassifier(n_neighbors=6)\n",
    "neigh.fit(X_train,y_train)"
   ]
  },
  {
   "cell_type": "code",
   "execution_count": 211,
   "metadata": {
    "collapsed": false
   },
   "outputs": [],
   "source": [
    "pred_probs = neigh.predict_proba(X_holdout)"
   ]
  },
  {
   "cell_type": "code",
   "execution_count": 212,
   "metadata": {
    "collapsed": false
   },
   "outputs": [
    {
     "data": {
      "text/plain": [
       "array([ 0.66666667,  0.16666667,  0.5       , ...,  0.16666667,\n",
       "        0.5       ,  0.5       ])"
      ]
     },
     "execution_count": 212,
     "metadata": {},
     "output_type": "execute_result"
    }
   ],
   "source": [
    "pred_probs[:,1]"
   ]
  },
  {
   "cell_type": "code",
   "execution_count": 213,
   "metadata": {
    "collapsed": false
   },
   "outputs": [],
   "source": [
    "def pr_curve(truthvec, scorevec, model):\n",
    "    threshvec = np.unique(scorevec)\n",
    "    numthresh = len(threshvec)\n",
    "    tpvec = np.zeros(numthresh)\n",
    "    fpvec = np.zeros(numthresh)\n",
    "    fnvec = np.zeros(numthresh)\n",
    "\n",
    "    for i in range(numthresh):\n",
    "        thresh = threshvec[i]\n",
    "        tpvec[i] = sum(truthvec[scorevec>=thresh])\n",
    "        fpvec[i] = sum(1-truthvec[scorevec>=thresh])\n",
    "        fnvec[i] = sum(truthvec[scorevec<thresh])\n",
    "    recallvec = tpvec/(tpvec + fnvec)\n",
    "    precisionvec = tpvec/(tpvec + fpvec)\n",
    "    plt.plot(precisionvec,recallvec)\n",
    "    plt.axis([0, 1, 0, 1])\n",
    "    plt.title(model)\n",
    "    plt.xlabel(\"Precision\")\n",
    "    plt.ylabel(\"Recall\")\n",
    "    return (recallvec, precisionvec, threshvec)"
   ]
  },
  {
   "cell_type": "code",
   "execution_count": 214,
   "metadata": {
    "collapsed": false
   },
   "outputs": [
    {
     "data": {
      "text/plain": [
       "array([ 1.        ,  0.84193548,  0.56129032,  0.28387097,  0.09354839,\n",
       "        0.02580645,  0.00322581])"
      ]
     },
     "execution_count": 214,
     "metadata": {},
     "output_type": "execute_result"
    }
   ],
   "source": [
    "joel_recall_vec"
   ]
  },
  {
   "cell_type": "code",
   "execution_count": 216,
   "metadata": {
    "collapsed": false
   },
   "outputs": [
    {
     "data": {
      "text/plain": [
       "array([ 0.33333333,  0.5       ])"
      ]
     },
     "execution_count": 216,
     "metadata": {},
     "output_type": "execute_result"
    }
   ],
   "source": [
    "joel_thresh_vec[(joel_recall_vec>0.1) & (joel_recall_vec<0.8)]"
   ]
  },
  {
   "cell_type": "code",
   "execution_count": 217,
   "metadata": {
    "collapsed": false
   },
   "outputs": [
    {
     "data": {
      "text/plain": [
       "(array([ 1.        ,  0.8516129 ,  0.55483871,  0.26774194,  0.08709677,\n",
       "         0.01935484,  0.00322581]),\n",
       " array([ 0.28028933,  0.2979684 ,  0.32089552,  0.33739837,  0.375     ,\n",
       "         0.42857143,  0.5       ]),\n",
       " array([ 0.        ,  0.16666667,  0.33333333,  0.5       ,  0.66666667,\n",
       "         0.83333333,  1.        ]))"
      ]
     },
     "execution_count": 217,
     "metadata": {},
     "output_type": "execute_result"
    },
    {
     "data": {
      "image/png": "[encoded data removed]",
      "text/plain": [
       "<matplotlib.figure.Figure at 0x1130ec940>"
      ]
     },
     "metadata": {},
     "output_type": "display_data"
    }
   ],
   "source": [
    "pr_curve(y_holdout, pred_probs[:,1], \"KNN\")"
   ]
  },
  {
   "cell_type": "code",
   "execution_count": 290,
   "metadata": {
    "collapsed": false,
    "scrolled": true
   },
   "outputs": [
    {
     "name": "stdout",
     "output_type": "stream",
     "text": [
      "pred probs: [[ 0.69670291  0.30329709]\n",
      " [ 0.81821125  0.18178875]\n",
      " [ 0.61590039  0.38409961]\n",
      " ..., \n",
      " [ 0.6911732   0.3088268 ]\n",
      " [ 0.73194058  0.26805942]\n",
      " [ 0.60461613  0.39538387]]\n"
     ]
    },
    {
     "data": {
      "text/plain": [
       "(array([ 1.        ,  1.        ,  1.        , ...,  0.00645161,\n",
       "         0.00645161,  0.00322581]),\n",
       " array([ 0.28028933,  0.28054299,  0.2807971 , ...,  0.66666667,\n",
       "         1.        ,  1.        ]),\n",
       " array([ 0.0607746 ,  0.06664006,  0.06862366, ...,  0.58579874,\n",
       "         0.61015366,  0.6527882 ]))"
      ]
     },
     "execution_count": 290,
     "metadata": {},
     "output_type": "execute_result"
    },
    {
     "data": {
      "image/png": "[encoded data removed]",
      "text/plain": [
       "<matplotlib.figure.Figure at 0x134ad70b8>"
      ]
     },
     "metadata": {},
     "output_type": "display_data"
    }
   ],
   "source": [
    "pred_probs = LogisticRegression().fit(X_train,y_train).predict_proba(X_holdout)\n",
    "print(\"pred probs:\",pred_probs)\n",
    "pr_curve(y_holdout, pred_probs[:,1], \"Logistic Regression\")"
   ]
  },
  {
   "cell_type": "code",
   "execution_count": 219,
   "metadata": {
    "collapsed": false
   },
   "outputs": [],
   "source": [
    "joel_model = GaussianNB().fit(X_train,y_train)"
   ]
  },
  {
   "cell_type": "code",
   "execution_count": 220,
   "metadata": {
    "collapsed": false
   },
   "outputs": [
    {
     "data": {
      "text/plain": [
       "array([0, 1])"
      ]
     },
     "execution_count": 220,
     "metadata": {},
     "output_type": "execute_result"
    }
   ],
   "source": [
    "joel_model.classes_"
   ]
  },
  {
   "cell_type": "code",
   "execution_count": 221,
   "metadata": {
    "collapsed": true
   },
   "outputs": [],
   "source": [
    "joel_model.predict_proba?"
   ]
  },
  {
   "cell_type": "code",
   "execution_count": 222,
   "metadata": {
    "collapsed": false
   },
   "outputs": [
    {
     "data": {
      "text/plain": [
       "<bound method BaseNB.predict_proba of GaussianNB()>"
      ]
     },
     "execution_count": 222,
     "metadata": {},
     "output_type": "execute_result"
    }
   ],
   "source": [
    "GaussianNB().predict_proba"
   ]
  },
  {
   "cell_type": "code",
   "execution_count": 223,
   "metadata": {
    "collapsed": false
   },
   "outputs": [
    {
     "data": {
      "text/plain": [
       "<bound method BaseNB.predict_proba of GaussianNB()>"
      ]
     },
     "execution_count": 223,
     "metadata": {},
     "output_type": "execute_result"
    }
   ],
   "source": [
    "GaussianNB().fit(X_train,y_train).predict_proba"
   ]
  },
  {
   "cell_type": "code",
   "execution_count": 224,
   "metadata": {
    "collapsed": false
   },
   "outputs": [
    {
     "data": {
      "text/plain": [
       "[('probability of one: 0.303297085228', 'actual prediction: 1'),\n",
       " ('probability of one: 0.181788754697', 'actual prediction: 0'),\n",
       " ('probability of one: 0.384099611721', 'actual prediction: 1'),\n",
       " ('probability of one: 0.0985918184869', 'actual prediction: 0'),\n",
       " ('probability of one: 0.261350133835', 'actual prediction: 0'),\n",
       " ('probability of one: 0.441839956624', 'actual prediction: 1'),\n",
       " ('probability of one: 0.238537637074', 'actual prediction: 0'),\n",
       " ('probability of one: 0.295146376246', 'actual prediction: 0'),\n",
       " ('probability of one: 0.329618962365', 'actual prediction: 0'),\n",
       " ('probability of one: 0.376985196302', 'actual prediction: 1'),\n",
       " ('probability of one: 0.188276374011', 'actual prediction: 0'),\n",
       " ('probability of one: 0.284758822124', 'actual prediction: 1'),\n",
       " ('probability of one: 0.238019658706', 'actual prediction: 0'),\n",
       " ('probability of one: 0.363012353499', 'actual prediction: 1'),\n",
       " ('probability of one: 0.24769094384', 'actual prediction: 0'),\n",
       " ('probability of one: 0.297415825474', 'actual prediction: 0'),\n",
       " ('probability of one: 0.131124859433', 'actual prediction: 1'),\n",
       " ('probability of one: 0.320669087471', 'actual prediction: 0'),\n",
       " ('probability of one: 0.141059027396', 'actual prediction: 1'),\n",
       " ('probability of one: 0.202229800676', 'actual prediction: 0'),\n",
       " ('probability of one: 0.351296881583', 'actual prediction: 1'),\n",
       " ('probability of one: 0.279215324718', 'actual prediction: 0'),\n",
       " ('probability of one: 0.323984681083', 'actual prediction: 1'),\n",
       " ('probability of one: 0.112603787419', 'actual prediction: 0'),\n",
       " ('probability of one: 0.284582223924', 'actual prediction: 0'),\n",
       " ('probability of one: 0.454050846821', 'actual prediction: 1'),\n",
       " ('probability of one: 0.398628945447', 'actual prediction: 0'),\n",
       " ('probability of one: 0.375575007511', 'actual prediction: 1'),\n",
       " ('probability of one: 0.355541860955', 'actual prediction: 1'),\n",
       " ('probability of one: 0.205467579134', 'actual prediction: 0'),\n",
       " ('probability of one: 0.191393559354', 'actual prediction: 0'),\n",
       " ('probability of one: 0.269245791431', 'actual prediction: 0'),\n",
       " ('probability of one: 0.292194466557', 'actual prediction: 1'),\n",
       " ('probability of one: 0.253574515673', 'actual prediction: 0'),\n",
       " ('probability of one: 0.298659394853', 'actual prediction: 1'),\n",
       " ('probability of one: 0.245887406773', 'actual prediction: 0'),\n",
       " ('probability of one: 0.376429543336', 'actual prediction: 0'),\n",
       " ('probability of one: 0.211182602544', 'actual prediction: 1'),\n",
       " ('probability of one: 0.232912602081', 'actual prediction: 0'),\n",
       " ('probability of one: 0.381944234169', 'actual prediction: 0'),\n",
       " ('probability of one: 0.300483975167', 'actual prediction: 0'),\n",
       " ('probability of one: 0.258482478959', 'actual prediction: 0'),\n",
       " ('probability of one: 0.310527334624', 'actual prediction: 0'),\n",
       " ('probability of one: 0.317875535736', 'actual prediction: 1'),\n",
       " ('probability of one: 0.225707520564', 'actual prediction: 0'),\n",
       " ('probability of one: 0.268467040023', 'actual prediction: 1'),\n",
       " ('probability of one: 0.296771922271', 'actual prediction: 0'),\n",
       " ('probability of one: 0.493057876517', 'actual prediction: 1'),\n",
       " ('probability of one: 0.325040980271', 'actual prediction: 1'),\n",
       " ('probability of one: 0.299254163199', 'actual prediction: 1'),\n",
       " ('probability of one: 0.284840219267', 'actual prediction: 0'),\n",
       " ('probability of one: 0.290075042858', 'actual prediction: 0'),\n",
       " ('probability of one: 0.292126051266', 'actual prediction: 0'),\n",
       " ('probability of one: 0.274214794414', 'actual prediction: 1'),\n",
       " ('probability of one: 0.165552135685', 'actual prediction: 0'),\n",
       " ('probability of one: 0.369479420517', 'actual prediction: 1'),\n",
       " ('probability of one: 0.419967154394', 'actual prediction: 0'),\n",
       " ('probability of one: 0.227031999857', 'actual prediction: 0'),\n",
       " ('probability of one: 0.468755278344', 'actual prediction: 1'),\n",
       " ('probability of one: 0.212992009556', 'actual prediction: 0'),\n",
       " ('probability of one: 0.114171855299', 'actual prediction: 0'),\n",
       " ('probability of one: 0.174489161645', 'actual prediction: 1'),\n",
       " ('probability of one: 0.385384417691', 'actual prediction: 0'),\n",
       " ('probability of one: 0.190035834768', 'actual prediction: 0'),\n",
       " ('probability of one: 0.284771406651', 'actual prediction: 1'),\n",
       " ('probability of one: 0.105866254518', 'actual prediction: 0'),\n",
       " ('probability of one: 0.111718951856', 'actual prediction: 0'),\n",
       " ('probability of one: 0.213815439616', 'actual prediction: 0'),\n",
       " ('probability of one: 0.351395174869', 'actual prediction: 1'),\n",
       " ('probability of one: 0.268180442773', 'actual prediction: 0'),\n",
       " ('probability of one: 0.421069139453', 'actual prediction: 0'),\n",
       " ('probability of one: 0.255331009052', 'actual prediction: 0'),\n",
       " ('probability of one: 0.232512904884', 'actual prediction: 0'),\n",
       " ('probability of one: 0.215136950942', 'actual prediction: 1'),\n",
       " ('probability of one: 0.173620914507', 'actual prediction: 0'),\n",
       " ('probability of one: 0.281049771501', 'actual prediction: 0'),\n",
       " ('probability of one: 0.317008011803', 'actual prediction: 0'),\n",
       " ('probability of one: 0.268501201978', 'actual prediction: 0'),\n",
       " ('probability of one: 0.115082638041', 'actual prediction: 0'),\n",
       " ('probability of one: 0.395961375891', 'actual prediction: 1'),\n",
       " ('probability of one: 0.226358228943', 'actual prediction: 0'),\n",
       " ('probability of one: 0.24163450048', 'actual prediction: 1'),\n",
       " ('probability of one: 0.177144470485', 'actual prediction: 0'),\n",
       " ('probability of one: 0.323004062957', 'actual prediction: 1'),\n",
       " ('probability of one: 0.375454059215', 'actual prediction: 0'),\n",
       " ('probability of one: 0.107464090153', 'actual prediction: 0'),\n",
       " ('probability of one: 0.123867380459', 'actual prediction: 1'),\n",
       " ('probability of one: 0.215840496328', 'actual prediction: 1'),\n",
       " ('probability of one: 0.136615685155', 'actual prediction: 0'),\n",
       " ('probability of one: 0.402528947308', 'actual prediction: 0'),\n",
       " ('probability of one: 0.209122163393', 'actual prediction: 0'),\n",
       " ('probability of one: 0.277558228869', 'actual prediction: 0'),\n",
       " ('probability of one: 0.412569289147', 'actual prediction: 0'),\n",
       " ('probability of one: 0.287002420606', 'actual prediction: 1'),\n",
       " ('probability of one: 0.364366152624', 'actual prediction: 1'),\n",
       " ('probability of one: 0.155980107926', 'actual prediction: 1'),\n",
       " ('probability of one: 0.311126242054', 'actual prediction: 0'),\n",
       " ('probability of one: 0.37987075603', 'actual prediction: 0'),\n",
       " ('probability of one: 0.530281560196', 'actual prediction: 0'),\n",
       " ('probability of one: 0.267890443267', 'actual prediction: 0'),\n",
       " ('probability of one: 0.357712430974', 'actual prediction: 0'),\n",
       " ('probability of one: 0.282784521543', 'actual prediction: 0'),\n",
       " ('probability of one: 0.262618508284', 'actual prediction: 0'),\n",
       " ('probability of one: 0.321523169367', 'actual prediction: 1'),\n",
       " ('probability of one: 0.211546950872', 'actual prediction: 1'),\n",
       " ('probability of one: 0.100090494965', 'actual prediction: 1'),\n",
       " ('probability of one: 0.49790147958', 'actual prediction: 0'),\n",
       " ('probability of one: 0.372835211993', 'actual prediction: 1'),\n",
       " ('probability of one: 0.221338449777', 'actual prediction: 0'),\n",
       " ('probability of one: 0.137483454718', 'actual prediction: 0'),\n",
       " ('probability of one: 0.257737704872', 'actual prediction: 0'),\n",
       " ('probability of one: 0.30330012025', 'actual prediction: 1'),\n",
       " ('probability of one: 0.368242125434', 'actual prediction: 0'),\n",
       " ('probability of one: 0.234415089175', 'actual prediction: 0'),\n",
       " ('probability of one: 0.192443292387', 'actual prediction: 0'),\n",
       " ('probability of one: 0.1867190432', 'actual prediction: 0'),\n",
       " ('probability of one: 0.275581036683', 'actual prediction: 1'),\n",
       " ('probability of one: 0.506584590314', 'actual prediction: 0'),\n",
       " ('probability of one: 0.220298296234', 'actual prediction: 0'),\n",
       " ('probability of one: 0.105866254518', 'actual prediction: 0'),\n",
       " ('probability of one: 0.320862886858', 'actual prediction: 0'),\n",
       " ('probability of one: 0.181105351692', 'actual prediction: 0'),\n",
       " ('probability of one: 0.106150839621', 'actual prediction: 0'),\n",
       " ('probability of one: 0.185447062009', 'actual prediction: 0'),\n",
       " ('probability of one: 0.230600948848', 'actual prediction: 0'),\n",
       " ('probability of one: 0.231383756356', 'actual prediction: 0'),\n",
       " ('probability of one: 0.22211454981', 'actual prediction: 0'),\n",
       " ('probability of one: 0.321046369799', 'actual prediction: 0'),\n",
       " ('probability of one: 0.301207848629', 'actual prediction: 0'),\n",
       " ('probability of one: 0.550054304675', 'actual prediction: 0'),\n",
       " ('probability of one: 0.361283243278', 'actual prediction: 1'),\n",
       " ('probability of one: 0.104677705974', 'actual prediction: 0'),\n",
       " ('probability of one: 0.231332556558', 'actual prediction: 0'),\n",
       " ('probability of one: 0.405073208238', 'actual prediction: 1'),\n",
       " ('probability of one: 0.186811777029', 'actual prediction: 1'),\n",
       " ('probability of one: 0.274868914136', 'actual prediction: 0'),\n",
       " ('probability of one: 0.390801817043', 'actual prediction: 1'),\n",
       " ('probability of one: 0.231225245274', 'actual prediction: 0'),\n",
       " ('probability of one: 0.312778375559', 'actual prediction: 1'),\n",
       " ('probability of one: 0.350398690803', 'actual prediction: 1'),\n",
       " ('probability of one: 0.213045108563', 'actual prediction: 1'),\n",
       " ('probability of one: 0.11557150784', 'actual prediction: 0'),\n",
       " ('probability of one: 0.291076425847', 'actual prediction: 1'),\n",
       " ('probability of one: 0.12167545346', 'actual prediction: 1'),\n",
       " ('probability of one: 0.174819888947', 'actual prediction: 0'),\n",
       " ('probability of one: 0.247771968847', 'actual prediction: 0'),\n",
       " ('probability of one: 0.450654601391', 'actual prediction: 0'),\n",
       " ('probability of one: 0.299159263848', 'actual prediction: 1'),\n",
       " ('probability of one: 0.331244210803', 'actual prediction: 1'),\n",
       " ('probability of one: 0.228640771838', 'actual prediction: 0'),\n",
       " ('probability of one: 0.280394672759', 'actual prediction: 0'),\n",
       " ('probability of one: 0.320822711328', 'actual prediction: 0'),\n",
       " ('probability of one: 0.261608851477', 'actual prediction: 1'),\n",
       " ('probability of one: 0.30661114557', 'actual prediction: 0'),\n",
       " ('probability of one: 0.344758844038', 'actual prediction: 0'),\n",
       " ('probability of one: 0.275384985023', 'actual prediction: 1'),\n",
       " ('probability of one: 0.184071036326', 'actual prediction: 0'),\n",
       " ('probability of one: 0.428740377995', 'actual prediction: 1'),\n",
       " ('probability of one: 0.240997682022', 'actual prediction: 0'),\n",
       " ('probability of one: 0.277590006095', 'actual prediction: 0'),\n",
       " ('probability of one: 0.172525250865', 'actual prediction: 0'),\n",
       " ('probability of one: 0.20734869798', 'actual prediction: 0'),\n",
       " ('probability of one: 0.45551862488', 'actual prediction: 1'),\n",
       " ('probability of one: 0.216967356278', 'actual prediction: 0'),\n",
       " ('probability of one: 0.216203770038', 'actual prediction: 0'),\n",
       " ('probability of one: 0.222577244175', 'actual prediction: 0'),\n",
       " ('probability of one: 0.077926950729', 'actual prediction: 0'),\n",
       " ('probability of one: 0.237079193738', 'actual prediction: 1'),\n",
       " ('probability of one: 0.190035834768', 'actual prediction: 0'),\n",
       " ('probability of one: 0.223436720434', 'actual prediction: 1'),\n",
       " ('probability of one: 0.125495668665', 'actual prediction: 1'),\n",
       " ('probability of one: 0.358203940184', 'actual prediction: 0'),\n",
       " ('probability of one: 0.356288708369', 'actual prediction: 0'),\n",
       " ('probability of one: 0.207672542367', 'actual prediction: 0'),\n",
       " ('probability of one: 0.208226844136', 'actual prediction: 0'),\n",
       " ('probability of one: 0.299136667047', 'actual prediction: 0'),\n",
       " ('probability of one: 0.154004187468', 'actual prediction: 1'),\n",
       " ('probability of one: 0.162853956124', 'actual prediction: 0'),\n",
       " ('probability of one: 0.344974690211', 'actual prediction: 0'),\n",
       " ('probability of one: 0.254853381155', 'actual prediction: 0'),\n",
       " ('probability of one: 0.319593263172', 'actual prediction: 0'),\n",
       " ('probability of one: 0.105540930054', 'actual prediction: 0'),\n",
       " ('probability of one: 0.197223506074', 'actual prediction: 1'),\n",
       " ('probability of one: 0.474341764116', 'actual prediction: 0'),\n",
       " ('probability of one: 0.146422833408', 'actual prediction: 0'),\n",
       " ('probability of one: 0.396192407587', 'actual prediction: 0'),\n",
       " ('probability of one: 0.390032844769', 'actual prediction: 0'),\n",
       " ('probability of one: 0.151100019257', 'actual prediction: 0'),\n",
       " ('probability of one: 0.270437836738', 'actual prediction: 0'),\n",
       " ('probability of one: 0.121373551896', 'actual prediction: 0'),\n",
       " ('probability of one: 0.351799498214', 'actual prediction: 0'),\n",
       " ('probability of one: 0.422404209586', 'actual prediction: 0'),\n",
       " ('probability of one: 0.353890059803', 'actual prediction: 0'),\n",
       " ('probability of one: 0.0768808430524', 'actual prediction: 0'),\n",
       " ('probability of one: 0.342146537084', 'actual prediction: 1'),\n",
       " ('probability of one: 0.254200384047', 'actual prediction: 1'),\n",
       " ('probability of one: 0.223389889916', 'actual prediction: 0'),\n",
       " ('probability of one: 0.360032749833', 'actual prediction: 1'),\n",
       " ('probability of one: 0.305900923255', 'actual prediction: 0'),\n",
       " ('probability of one: 0.318754372383', 'actual prediction: 0'),\n",
       " ('probability of one: 0.462788817584', 'actual prediction: 1'),\n",
       " ('probability of one: 0.504531670632', 'actual prediction: 0'),\n",
       " ('probability of one: 0.0863230607905', 'actual prediction: 0'),\n",
       " ('probability of one: 0.324427095282', 'actual prediction: 0'),\n",
       " ('probability of one: 0.09427672245', 'actual prediction: 0'),\n",
       " ('probability of one: 0.270075448038', 'actual prediction: 0'),\n",
       " ('probability of one: 0.32886362182', 'actual prediction: 0'),\n",
       " ('probability of one: 0.114171855299', 'actual prediction: 0'),\n",
       " ('probability of one: 0.410430440315', 'actual prediction: 0'),\n",
       " ('probability of one: 0.365064616222', 'actual prediction: 1'),\n",
       " ('probability of one: 0.310450186574', 'actual prediction: 1'),\n",
       " ('probability of one: 0.34289779584', 'actual prediction: 1'),\n",
       " ('probability of one: 0.24203602289', 'actual prediction: 1'),\n",
       " ('probability of one: 0.193516238212', 'actual prediction: 0'),\n",
       " ('probability of one: 0.186366171313', 'actual prediction: 0'),\n",
       " ('probability of one: 0.136894467769', 'actual prediction: 1'),\n",
       " ('probability of one: 0.454999479658', 'actual prediction: 0'),\n",
       " ('probability of one: 0.393646743567', 'actual prediction: 1'),\n",
       " ('probability of one: 0.393970823859', 'actual prediction: 0'),\n",
       " ('probability of one: 0.388468575254', 'actual prediction: 1'),\n",
       " ('probability of one: 0.374068176023', 'actual prediction: 0'),\n",
       " ('probability of one: 0.23322559429', 'actual prediction: 0'),\n",
       " ('probability of one: 0.114090623836', 'actual prediction: 0'),\n",
       " ('probability of one: 0.18414679682', 'actual prediction: 0'),\n",
       " ('probability of one: 0.396232783599', 'actual prediction: 0'),\n",
       " ('probability of one: 0.317063995294', 'actual prediction: 0'),\n",
       " ('probability of one: 0.398210514709', 'actual prediction: 1'),\n",
       " ('probability of one: 0.279072746751', 'actual prediction: 1'),\n",
       " ('probability of one: 0.126057970003', 'actual prediction: 1'),\n",
       " ('probability of one: 0.230354906636', 'actual prediction: 1'),\n",
       " ('probability of one: 0.41438145838', 'actual prediction: 0'),\n",
       " ('probability of one: 0.250792323704', 'actual prediction: 1'),\n",
       " ('probability of one: 0.245825347237', 'actual prediction: 1'),\n",
       " ('probability of one: 0.28854714017', 'actual prediction: 1'),\n",
       " ('probability of one: 0.103927505434', 'actual prediction: 0'),\n",
       " ('probability of one: 0.192471880091', 'actual prediction: 1'),\n",
       " ('probability of one: 0.333753969818', 'actual prediction: 0'),\n",
       " ('probability of one: 0.195529834148', 'actual prediction: 1'),\n",
       " ('probability of one: 0.225689140884', 'actual prediction: 0'),\n",
       " ('probability of one: 0.191452443614', 'actual prediction: 0'),\n",
       " ('probability of one: 0.203490615133', 'actual prediction: 0'),\n",
       " ('probability of one: 0.127924098722', 'actual prediction: 0'),\n",
       " ('probability of one: 0.209991125265', 'actual prediction: 1'),\n",
       " ('probability of one: 0.114986515344', 'actual prediction: 0'),\n",
       " ('probability of one: 0.4357518424', 'actual prediction: 1'),\n",
       " ('probability of one: 0.237427136012', 'actual prediction: 0'),\n",
       " ('probability of one: 0.321299371392', 'actual prediction: 1'),\n",
       " ('probability of one: 0.254794014264', 'actual prediction: 0'),\n",
       " ('probability of one: 0.346041294919', 'actual prediction: 0'),\n",
       " ('probability of one: 0.350243825713', 'actual prediction: 0'),\n",
       " ('probability of one: 0.283842515573', 'actual prediction: 1'),\n",
       " ('probability of one: 0.273091259536', 'actual prediction: 0'),\n",
       " ('probability of one: 0.325937483412', 'actual prediction: 0'),\n",
       " ('probability of one: 0.085584883756', 'actual prediction: 0'),\n",
       " ('probability of one: 0.293435483199', 'actual prediction: 0'),\n",
       " ('probability of one: 0.0918624251271', 'actual prediction: 0'),\n",
       " ('probability of one: 0.171528252312', 'actual prediction: 0'),\n",
       " ('probability of one: 0.298012841632', 'actual prediction: 1'),\n",
       " ('probability of one: 0.320554214211', 'actual prediction: 0'),\n",
       " ('probability of one: 0.289279209146', 'actual prediction: 1'),\n",
       " ('probability of one: 0.346552782672', 'actual prediction: 0'),\n",
       " ('probability of one: 0.384346386846', 'actual prediction: 0'),\n",
       " ('probability of one: 0.240336888652', 'actual prediction: 0'),\n",
       " ('probability of one: 0.0830110962793', 'actual prediction: 0'),\n",
       " ('probability of one: 0.335381673455', 'actual prediction: 0'),\n",
       " ('probability of one: 0.173657928751', 'actual prediction: 1'),\n",
       " ('probability of one: 0.37411004329', 'actual prediction: 1'),\n",
       " ('probability of one: 0.219155678474', 'actual prediction: 0'),\n",
       " ('probability of one: 0.437179280869', 'actual prediction: 1'),\n",
       " ('probability of one: 0.341837289825', 'actual prediction: 0'),\n",
       " ('probability of one: 0.267980829159', 'actual prediction: 0'),\n",
       " ('probability of one: 0.282526632045', 'actual prediction: 0'),\n",
       " ('probability of one: 0.317459383388', 'actual prediction: 0'),\n",
       " ('probability of one: 0.377827436041', 'actual prediction: 0'),\n",
       " ('probability of one: 0.216145843344', 'actual prediction: 0'),\n",
       " ('probability of one: 0.134641051351', 'actual prediction: 0'),\n",
       " ('probability of one: 0.327585719561', 'actual prediction: 1'),\n",
       " ('probability of one: 0.28892892221', 'actual prediction: 0'),\n",
       " ('probability of one: 0.165847347786', 'actual prediction: 0'),\n",
       " ('probability of one: 0.145105081544', 'actual prediction: 0'),\n",
       " ('probability of one: 0.455121749939', 'actual prediction: 1'),\n",
       " ('probability of one: 0.142456468453', 'actual prediction: 0'),\n",
       " ('probability of one: 0.448499299385', 'actual prediction: 0'),\n",
       " ('probability of one: 0.134113763576', 'actual prediction: 0'),\n",
       " ('probability of one: 0.550618256733', 'actual prediction: 1'),\n",
       " ('probability of one: 0.370035100953', 'actual prediction: 0'),\n",
       " ('probability of one: 0.424110723247', 'actual prediction: 1'),\n",
       " ('probability of one: 0.243723354122', 'actual prediction: 0'),\n",
       " ('probability of one: 0.162134748126', 'actual prediction: 0'),\n",
       " ('probability of one: 0.446364232047', 'actual prediction: 0'),\n",
       " ('probability of one: 0.320012099081', 'actual prediction: 0'),\n",
       " ('probability of one: 0.428425526205', 'actual prediction: 0'),\n",
       " ('probability of one: 0.45475984961', 'actual prediction: 1'),\n",
       " ('probability of one: 0.209311955832', 'actual prediction: 0'),\n",
       " ('probability of one: 0.391480429238', 'actual prediction: 0'),\n",
       " ('probability of one: 0.313001695915', 'actual prediction: 0'),\n",
       " ('probability of one: 0.214478249655', 'actual prediction: 0'),\n",
       " ('probability of one: 0.12843303047', 'actual prediction: 0'),\n",
       " ('probability of one: 0.332413307854', 'actual prediction: 1'),\n",
       " ('probability of one: 0.181597118753', 'actual prediction: 0'),\n",
       " ('probability of one: 0.255725759177', 'actual prediction: 0'),\n",
       " ('probability of one: 0.250951976726', 'actual prediction: 0'),\n",
       " ('probability of one: 0.245565824113', 'actual prediction: 0'),\n",
       " ('probability of one: 0.166765655926', 'actual prediction: 1'),\n",
       " ('probability of one: 0.3242442167', 'actual prediction: 0'),\n",
       " ('probability of one: 0.305433279953', 'actual prediction: 0'),\n",
       " ('probability of one: 0.449898891861', 'actual prediction: 1'),\n",
       " ('probability of one: 0.438782980245', 'actual prediction: 1'),\n",
       " ('probability of one: 0.366815065774', 'actual prediction: 0'),\n",
       " ('probability of one: 0.213281306452', 'actual prediction: 1'),\n",
       " ('probability of one: 0.239581036298', 'actual prediction: 0'),\n",
       " ('probability of one: 0.158152435321', 'actual prediction: 0'),\n",
       " ('probability of one: 0.354891807691', 'actual prediction: 0'),\n",
       " ('probability of one: 0.418849871778', 'actual prediction: 1'),\n",
       " ('probability of one: 0.369767363721', 'actual prediction: 1'),\n",
       " ('probability of one: 0.383058307357', 'actual prediction: 1'),\n",
       " ('probability of one: 0.276856602674', 'actual prediction: 1'),\n",
       " ('probability of one: 0.105000681952', 'actual prediction: 0'),\n",
       " ('probability of one: 0.317304915403', 'actual prediction: 1'),\n",
       " ('probability of one: 0.325937483412', 'actual prediction: 0'),\n",
       " ('probability of one: 0.283325243819', 'actual prediction: 1'),\n",
       " ('probability of one: 0.319189034721', 'actual prediction: 0'),\n",
       " ('probability of one: 0.186225381348', 'actual prediction: 1'),\n",
       " ('probability of one: 0.283966559882', 'actual prediction: 0'),\n",
       " ('probability of one: 0.318754372383', 'actual prediction: 0'),\n",
       " ('probability of one: 0.335878180987', 'actual prediction: 1'),\n",
       " ('probability of one: 0.306604128222', 'actual prediction: 0'),\n",
       " ('probability of one: 0.235696411176', 'actual prediction: 0'),\n",
       " ('probability of one: 0.327622507033', 'actual prediction: 0'),\n",
       " ('probability of one: 0.350640343292', 'actual prediction: 0'),\n",
       " ('probability of one: 0.289953851601', 'actual prediction: 0'),\n",
       " ('probability of one: 0.284985857053', 'actual prediction: 1'),\n",
       " ('probability of one: 0.382474016163', 'actual prediction: 1'),\n",
       " ('probability of one: 0.267955361101', 'actual prediction: 0'),\n",
       " ('probability of one: 0.353056760816', 'actual prediction: 0'),\n",
       " ('probability of one: 0.399166558422', 'actual prediction: 1'),\n",
       " ('probability of one: 0.31046040219', 'actual prediction: 0'),\n",
       " ('probability of one: 0.17317118629', 'actual prediction: 0'),\n",
       " ('probability of one: 0.473872884043', 'actual prediction: 0'),\n",
       " ('probability of one: 0.406408315705', 'actual prediction: 0'),\n",
       " ('probability of one: 0.271823696257', 'actual prediction: 0'),\n",
       " ('probability of one: 0.226054587485', 'actual prediction: 0'),\n",
       " ('probability of one: 0.23360995804', 'actual prediction: 1'),\n",
       " ('probability of one: 0.41862309572', 'actual prediction: 0'),\n",
       " ('probability of one: 0.187557641707', 'actual prediction: 0'),\n",
       " ('probability of one: 0.375560786336', 'actual prediction: 1'),\n",
       " ('probability of one: 0.174451446702', 'actual prediction: 0'),\n",
       " ('probability of one: 0.211570320909', 'actual prediction: 0'),\n",
       " ('probability of one: 0.317297956381', 'actual prediction: 0'),\n",
       " ('probability of one: 0.174489161645', 'actual prediction: 1'),\n",
       " ('probability of one: 0.192826603618', 'actual prediction: 0'),\n",
       " ('probability of one: 0.310274516209', 'actual prediction: 0'),\n",
       " ('probability of one: 0.325230740528', 'actual prediction: 0'),\n",
       " ('probability of one: 0.430853189874', 'actual prediction: 0'),\n",
       " ('probability of one: 0.304763712918', 'actual prediction: 0'),\n",
       " ('probability of one: 0.211761208106', 'actual prediction: 0'),\n",
       " ('probability of one: 0.376128922732', 'actual prediction: 0'),\n",
       " ('probability of one: 0.338713271466', 'actual prediction: 1'),\n",
       " ('probability of one: 0.23694285316', 'actual prediction: 0'),\n",
       " ('probability of one: 0.131467360207', 'actual prediction: 0'),\n",
       " ('probability of one: 0.288445409607', 'actual prediction: 1'),\n",
       " ('probability of one: 0.367163550355', 'actual prediction: 1'),\n",
       " ('probability of one: 0.294241341833', 'actual prediction: 0'),\n",
       " ('probability of one: 0.448130444992', 'actual prediction: 1'),\n",
       " ('probability of one: 0.384137045063', 'actual prediction: 0'),\n",
       " ('probability of one: 0.312734818117', 'actual prediction: 1'),\n",
       " ('probability of one: 0.319466623682', 'actual prediction: 1'),\n",
       " ('probability of one: 0.324329941326', 'actual prediction: 0'),\n",
       " ('probability of one: 0.253982963586', 'actual prediction: 0'),\n",
       " ('probability of one: 0.291433921718', 'actual prediction: 0'),\n",
       " ('probability of one: 0.32374171068', 'actual prediction: 0'),\n",
       " ('probability of one: 0.288546141856', 'actual prediction: 0'),\n",
       " ('probability of one: 0.322374495522', 'actual prediction: 1'),\n",
       " ('probability of one: 0.236316936414', 'actual prediction: 0'),\n",
       " ('probability of one: 0.439176257156', 'actual prediction: 0'),\n",
       " ('probability of one: 0.366821775993', 'actual prediction: 0'),\n",
       " ('probability of one: 0.294669301234', 'actual prediction: 0'),\n",
       " ('probability of one: 0.330748008357', 'actual prediction: 1'),\n",
       " ('probability of one: 0.231384345438', 'actual prediction: 0'),\n",
       " ('probability of one: 0.206370419221', 'actual prediction: 0'),\n",
       " ('probability of one: 0.390203825604', 'actual prediction: 1'),\n",
       " ('probability of one: 0.309730955511', 'actual prediction: 0'),\n",
       " ('probability of one: 0.295492814234', 'actual prediction: 0'),\n",
       " ('probability of one: 0.300135840214', 'actual prediction: 1'),\n",
       " ('probability of one: 0.261713326635', 'actual prediction: 1'),\n",
       " ('probability of one: 0.457462312816', 'actual prediction: 0'),\n",
       " ('probability of one: 0.288665544247', 'actual prediction: 0'),\n",
       " ('probability of one: 0.216995217968', 'actual prediction: 0'),\n",
       " ('probability of one: 0.298834224578', 'actual prediction: 1'),\n",
       " ('probability of one: 0.430273726539', 'actual prediction: 0'),\n",
       " ('probability of one: 0.477762977314', 'actual prediction: 0'),\n",
       " ('probability of one: 0.0858539296564', 'actual prediction: 0'),\n",
       " ('probability of one: 0.129333323068', 'actual prediction: 0'),\n",
       " ('probability of one: 0.341298752465', 'actual prediction: 1'),\n",
       " ('probability of one: 0.38386569055', 'actual prediction: 1'),\n",
       " ('probability of one: 0.25141164313', 'actual prediction: 0'),\n",
       " ('probability of one: 0.27501016366', 'actual prediction: 0'),\n",
       " ('probability of one: 0.201675144941', 'actual prediction: 0'),\n",
       " ('probability of one: 0.542967075928', 'actual prediction: 0'),\n",
       " ('probability of one: 0.45915200081', 'actual prediction: 1'),\n",
       " ('probability of one: 0.187050011299', 'actual prediction: 0'),\n",
       " ('probability of one: 0.314506240814', 'actual prediction: 0'),\n",
       " ('probability of one: 0.259074746828', 'actual prediction: 0'),\n",
       " ('probability of one: 0.265324677898', 'actual prediction: 0'),\n",
       " ('probability of one: 0.190364732349', 'actual prediction: 0'),\n",
       " ('probability of one: 0.153725964525', 'actual prediction: 0'),\n",
       " ('probability of one: 0.270890747773', 'actual prediction: 1'),\n",
       " ('probability of one: 0.284285946348', 'actual prediction: 0'),\n",
       " ('probability of one: 0.250371058267', 'actual prediction: 0'),\n",
       " ('probability of one: 0.227462983092', 'actual prediction: 1'),\n",
       " ('probability of one: 0.322374495522', 'actual prediction: 1'),\n",
       " ('probability of one: 0.173006993935', 'actual prediction: 0'),\n",
       " ('probability of one: 0.156081541805', 'actual prediction: 0'),\n",
       " ('probability of one: 0.104785267038', 'actual prediction: 0'),\n",
       " ('probability of one: 0.189315708212', 'actual prediction: 1'),\n",
       " ('probability of one: 0.32478502397', 'actual prediction: 1'),\n",
       " ('probability of one: 0.332451908902', 'actual prediction: 0'),\n",
       " ('probability of one: 0.181588158458', 'actual prediction: 0'),\n",
       " ('probability of one: 0.29579680188', 'actual prediction: 0'),\n",
       " ('probability of one: 0.14643241568', 'actual prediction: 0'),\n",
       " ('probability of one: 0.381852754085', 'actual prediction: 0'),\n",
       " ('probability of one: 0.236580490115', 'actual prediction: 0'),\n",
       " ('probability of one: 0.387749979136', 'actual prediction: 1'),\n",
       " ('probability of one: 0.441582611651', 'actual prediction: 1'),\n",
       " ('probability of one: 0.457084226877', 'actual prediction: 1'),\n",
       " ('probability of one: 0.316444804824', 'actual prediction: 0'),\n",
       " ('probability of one: 0.448870603806', 'actual prediction: 0'),\n",
       " ('probability of one: 0.297921442969', 'actual prediction: 0'),\n",
       " ('probability of one: 0.0607745976468', 'actual prediction: 0'),\n",
       " ('probability of one: 0.344390704252', 'actual prediction: 1'),\n",
       " ('probability of one: 0.120244733526', 'actual prediction: 0'),\n",
       " ('probability of one: 0.219629767697', 'actual prediction: 1'),\n",
       " ('probability of one: 0.392400115071', 'actual prediction: 0'),\n",
       " ('probability of one: 0.0771758899877', 'actual prediction: 0'),\n",
       " ('probability of one: 0.198600948788', 'actual prediction: 0'),\n",
       " ('probability of one: 0.426440527694', 'actual prediction: 1'),\n",
       " ('probability of one: 0.231950311712', 'actual prediction: 0'),\n",
       " ('probability of one: 0.200533299061', 'actual prediction: 1'),\n",
       " ('probability of one: 0.185130861737', 'actual prediction: 1'),\n",
       " ('probability of one: 0.352656051707', 'actual prediction: 1'),\n",
       " ('probability of one: 0.391724813255', 'actual prediction: 0'),\n",
       " ('probability of one: 0.203499962882', 'actual prediction: 0'),\n",
       " ('probability of one: 0.472379261881', 'actual prediction: 0'),\n",
       " ('probability of one: 0.378533706937', 'actual prediction: 1'),\n",
       " ('probability of one: 0.387042708151', 'actual prediction: 1'),\n",
       " ('probability of one: 0.38934076658', 'actual prediction: 0'),\n",
       " ('probability of one: 0.20139181814', 'actual prediction: 0'),\n",
       " ('probability of one: 0.318228601567', 'actual prediction: 0'),\n",
       " ('probability of one: 0.274828534612', 'actual prediction: 1'),\n",
       " ('probability of one: 0.247234310551', 'actual prediction: 0'),\n",
       " ('probability of one: 0.288605047263', 'actual prediction: 0'),\n",
       " ('probability of one: 0.377608474158', 'actual prediction: 0'),\n",
       " ('probability of one: 0.36347068277', 'actual prediction: 0'),\n",
       " ('probability of one: 0.103288263304', 'actual prediction: 0'),\n",
       " ('probability of one: 0.149512171347', 'actual prediction: 0'),\n",
       " ('probability of one: 0.145001867578', 'actual prediction: 0'),\n",
       " ('probability of one: 0.173820727851', 'actual prediction: 0'),\n",
       " ('probability of one: 0.523869683609', 'actual prediction: 1'),\n",
       " ('probability of one: 0.103714037068', 'actual prediction: 0'),\n",
       " ('probability of one: 0.20746716412', 'actual prediction: 0'),\n",
       " ('probability of one: 0.610153664037', 'actual prediction: 0'),\n",
       " ('probability of one: 0.235752736048', 'actual prediction: 0'),\n",
       " ('probability of one: 0.244358255703', 'actual prediction: 0'),\n",
       " ('probability of one: 0.335370038637', 'actual prediction: 0'),\n",
       " ('probability of one: 0.46212554067', 'actual prediction: 1'),\n",
       " ('probability of one: 0.271118758883', 'actual prediction: 1'),\n",
       " ('probability of one: 0.467915804468', 'actual prediction: 1'),\n",
       " ('probability of one: 0.214717048299', 'actual prediction: 1'),\n",
       " ('probability of one: 0.352922075267', 'actual prediction: 1'),\n",
       " ('probability of one: 0.220811564308', 'actual prediction: 0'),\n",
       " ('probability of one: 0.327272754854', 'actual prediction: 0'),\n",
       " ('probability of one: 0.303954270022', 'actual prediction: 1'),\n",
       " ('probability of one: 0.483150597303', 'actual prediction: 0'),\n",
       " ('probability of one: 0.370810025716', 'actual prediction: 1'),\n",
       " ('probability of one: 0.317510138617', 'actual prediction: 0'),\n",
       " ('probability of one: 0.314269431237', 'actual prediction: 1'),\n",
       " ('probability of one: 0.323300994236', 'actual prediction: 0'),\n",
       " ('probability of one: 0.222606088546', 'actual prediction: 1'),\n",
       " ('probability of one: 0.240482897522', 'actual prediction: 1'),\n",
       " ('probability of one: 0.247616462753', 'actual prediction: 0'),\n",
       " ('probability of one: 0.104355607616', 'actual prediction: 0'),\n",
       " ('probability of one: 0.281213291997', 'actual prediction: 0'),\n",
       " ('probability of one: 0.383724497722', 'actual prediction: 0'),\n",
       " ('probability of one: 0.412735664127', 'actual prediction: 1'),\n",
       " ('probability of one: 0.315524316277', 'actual prediction: 0'),\n",
       " ('probability of one: 0.279497069058', 'actual prediction: 0'),\n",
       " ('probability of one: 0.177818685886', 'actual prediction: 0'),\n",
       " ('probability of one: 0.327728773248', 'actual prediction: 1'),\n",
       " ('probability of one: 0.228043790185', 'actual prediction: 0'),\n",
       " ('probability of one: 0.284724184854', 'actual prediction: 1'),\n",
       " ('probability of one: 0.321046369799', 'actual prediction: 0'),\n",
       " ('probability of one: 0.402668996321', 'actual prediction: 0'),\n",
       " ('probability of one: 0.205740361426', 'actual prediction: 0'),\n",
       " ('probability of one: 0.397115616097', 'actual prediction: 0'),\n",
       " ('probability of one: 0.431734268295', 'actual prediction: 1'),\n",
       " ('probability of one: 0.237616965802', 'actual prediction: 0'),\n",
       " ('probability of one: 0.340685570002', 'actual prediction: 0'),\n",
       " ('probability of one: 0.113824257018', 'actual prediction: 0'),\n",
       " ('probability of one: 0.11557150784', 'actual prediction: 0'),\n",
       " ('probability of one: 0.318876199659', 'actual prediction: 0'),\n",
       " ('probability of one: 0.340676447638', 'actual prediction: 0'),\n",
       " ('probability of one: 0.332158784825', 'actual prediction: 1'),\n",
       " ('probability of one: 0.294368581432', 'actual prediction: 0'),\n",
       " ('probability of one: 0.169384613232', 'actual prediction: 0'),\n",
       " ('probability of one: 0.327556942064', 'actual prediction: 0'),\n",
       " ('probability of one: 0.205303564305', 'actual prediction: 0'),\n",
       " ('probability of one: 0.357746152305', 'actual prediction: 1'),\n",
       " ('probability of one: 0.153185227523', 'actual prediction: 0'),\n",
       " ('probability of one: 0.0983282090415', 'actual prediction: 0'),\n",
       " ('probability of one: 0.363542680626', 'actual prediction: 0'),\n",
       " ('probability of one: 0.303825372845', 'actual prediction: 0'),\n",
       " ('probability of one: 0.374628742874', 'actual prediction: 1'),\n",
       " ('probability of one: 0.320500178018', 'actual prediction: 1'),\n",
       " ('probability of one: 0.313921906689', 'actual prediction: 0'),\n",
       " ('probability of one: 0.195053075475', 'actual prediction: 0'),\n",
       " ('probability of one: 0.205589055593', 'actual prediction: 0'),\n",
       " ('probability of one: 0.380478273679', 'actual prediction: 0'),\n",
       " ('probability of one: 0.184460306182', 'actual prediction: 0'),\n",
       " ('probability of one: 0.08657760876', 'actual prediction: 0'),\n",
       " ('probability of one: 0.216250248244', 'actual prediction: 0'),\n",
       " ('probability of one: 0.237581229808', 'actual prediction: 0'),\n",
       " ('probability of one: 0.282524756655', 'actual prediction: 1'),\n",
       " ('probability of one: 0.101127619532', 'actual prediction: 0'),\n",
       " ('probability of one: 0.41247537711', 'actual prediction: 0'),\n",
       " ('probability of one: 0.324857922044', 'actual prediction: 1'),\n",
       " ('probability of one: 0.196677356784', 'actual prediction: 0'),\n",
       " ('probability of one: 0.133053852825', 'actual prediction: 1'),\n",
       " ('probability of one: 0.453243634742', 'actual prediction: 0'),\n",
       " ('probability of one: 0.352818144023', 'actual prediction: 1'),\n",
       " ('probability of one: 0.390040628157', 'actual prediction: 0'),\n",
       " ('probability of one: 0.390702081679', 'actual prediction: 0'),\n",
       " ('probability of one: 0.251934677994', 'actual prediction: 1'),\n",
       " ('probability of one: 0.477991377709', 'actual prediction: 0'),\n",
       " ('probability of one: 0.203490615133', 'actual prediction: 0'),\n",
       " ('probability of one: 0.17063574064', 'actual prediction: 1'),\n",
       " ('probability of one: 0.0846907102743', 'actual prediction: 0'),\n",
       " ('probability of one: 0.45532374038', 'actual prediction: 1'),\n",
       " ('probability of one: 0.131911036804', 'actual prediction: 0'),\n",
       " ('probability of one: 0.328559396072', 'actual prediction: 0'),\n",
       " ('probability of one: 0.105499532182', 'actual prediction: 0'),\n",
       " ('probability of one: 0.103450870308', 'actual prediction: 0'),\n",
       " ('probability of one: 0.105324537221', 'actual prediction: 0'),\n",
       " ('probability of one: 0.242199326611', 'actual prediction: 0'),\n",
       " ('probability of one: 0.366524291081', 'actual prediction: 0'),\n",
       " ('probability of one: 0.193164260901', 'actual prediction: 0'),\n",
       " ('probability of one: 0.103607448349', 'actual prediction: 0'),\n",
       " ('probability of one: 0.21271621257', 'actual prediction: 1'),\n",
       " ('probability of one: 0.311575275704', 'actual prediction: 1'),\n",
       " ('probability of one: 0.360244865595', 'actual prediction: 0'),\n",
       " ('probability of one: 0.39321052358', 'actual prediction: 0'),\n",
       " ('probability of one: 0.554990352859', 'actual prediction: 0'),\n",
       " ('probability of one: 0.360596142832', 'actual prediction: 0'),\n",
       " ('probability of one: 0.455684242647', 'actual prediction: 0'),\n",
       " ('probability of one: 0.384155319429', 'actual prediction: 0'),\n",
       " ('probability of one: 0.194834665813', 'actual prediction: 1'),\n",
       " ('probability of one: 0.155377638085', 'actual prediction: 1'),\n",
       " ('probability of one: 0.454737170356', 'actual prediction: 0'),\n",
       " ('probability of one: 0.384889423116', 'actual prediction: 0'),\n",
       " ('probability of one: 0.23225716519', 'actual prediction: 0'),\n",
       " ('probability of one: 0.477678051928', 'actual prediction: 0'),\n",
       " ('probability of one: 0.355393815874', 'actual prediction: 0'),\n",
       " ('probability of one: 0.134262877271', 'actual prediction: 0'),\n",
       " ('probability of one: 0.242359319443', 'actual prediction: 1'),\n",
       " ('probability of one: 0.390586605577', 'actual prediction: 1'),\n",
       " ('probability of one: 0.385081802972', 'actual prediction: 1'),\n",
       " ('probability of one: 0.434909664235', 'actual prediction: 0'),\n",
       " ('probability of one: 0.135428239859', 'actual prediction: 0'),\n",
       " ('probability of one: 0.289838244986', 'actual prediction: 0'),\n",
       " ('probability of one: 0.190920272942', 'actual prediction: 1'),\n",
       " ('probability of one: 0.412931013729', 'actual prediction: 0'),\n",
       " ('probability of one: 0.253359727248', 'actual prediction: 0'),\n",
       " ('probability of one: 0.361510666345', 'actual prediction: 0'),\n",
       " ('probability of one: 0.238954621952', 'actual prediction: 0'),\n",
       " ('probability of one: 0.36797761724', 'actual prediction: 1'),\n",
       " ('probability of one: 0.134223950992', 'actual prediction: 0'),\n",
       " ('probability of one: 0.304697473786', 'actual prediction: 0'),\n",
       " ('probability of one: 0.371706827599', 'actual prediction: 1'),\n",
       " ('probability of one: 0.249252392677', 'actual prediction: 1'),\n",
       " ('probability of one: 0.25081788465', 'actual prediction: 0'),\n",
       " ('probability of one: 0.217065486361', 'actual prediction: 1'),\n",
       " ('probability of one: 0.163166989004', 'actual prediction: 0'),\n",
       " ('probability of one: 0.381991323103', 'actual prediction: 1'),\n",
       " ('probability of one: 0.276944521731', 'actual prediction: 0'),\n",
       " ('probability of one: 0.65278819755', 'actual prediction: 0'),\n",
       " ('probability of one: 0.0972504645621', 'actual prediction: 0'),\n",
       " ('probability of one: 0.287695725876', 'actual prediction: 1'),\n",
       " ('probability of one: 0.289566139691', 'actual prediction: 1'),\n",
       " ('probability of one: 0.190090532871', 'actual prediction: 0'),\n",
       " ('probability of one: 0.227605945882', 'actual prediction: 0'),\n",
       " ('probability of one: 0.13159826621', 'actual prediction: 1'),\n",
       " ('probability of one: 0.459083317616', 'actual prediction: 1'),\n",
       " ('probability of one: 0.392016310507', 'actual prediction: 0'),\n",
       " ('probability of one: 0.172842924715', 'actual prediction: 0'),\n",
       " ('probability of one: 0.312959984697', 'actual prediction: 1'),\n",
       " ('probability of one: 0.204559094064', 'actual prediction: 0'),\n",
       " ('probability of one: 0.144322458475', 'actual prediction: 0'),\n",
       " ('probability of one: 0.554109686828', 'actual prediction: 0'),\n",
       " ('probability of one: 0.294159130242', 'actual prediction: 0'),\n",
       " ('probability of one: 0.453937549697', 'actual prediction: 0'),\n",
       " ('probability of one: 0.164739422322', 'actual prediction: 0'),\n",
       " ('probability of one: 0.0973512236325', 'actual prediction: 0'),\n",
       " ('probability of one: 0.407765343675', 'actual prediction: 1'),\n",
       " ('probability of one: 0.349367199996', 'actual prediction: 1'),\n",
       " ('probability of one: 0.290868926833', 'actual prediction: 0'),\n",
       " ('probability of one: 0.358135155807', 'actual prediction: 0'),\n",
       " ('probability of one: 0.395964477551', 'actual prediction: 1'),\n",
       " ('probability of one: 0.36724292318', 'actual prediction: 0'),\n",
       " ('probability of one: 0.224154040292', 'actual prediction: 0'),\n",
       " ('probability of one: 0.195624882752', 'actual prediction: 0'),\n",
       " ('probability of one: 0.403979843448', 'actual prediction: 1'),\n",
       " ('probability of one: 0.0957502108267', 'actual prediction: 1'),\n",
       " ('probability of one: 0.290481770291', 'actual prediction: 1'),\n",
       " ('probability of one: 0.252621986192', 'actual prediction: 0'),\n",
       " ('probability of one: 0.192877097812', 'actual prediction: 0'),\n",
       " ('probability of one: 0.259771876182', 'actual prediction: 0'),\n",
       " ('probability of one: 0.188187577472', 'actual prediction: 0'),\n",
       " ('probability of one: 0.376210795825', 'actual prediction: 0'),\n",
       " ('probability of one: 0.155977914516', 'actual prediction: 0'),\n",
       " ('probability of one: 0.292353105495', 'actual prediction: 1'),\n",
       " ('probability of one: 0.334378501158', 'actual prediction: 1'),\n",
       " ('probability of one: 0.290718259502', 'actual prediction: 0'),\n",
       " ('probability of one: 0.220495403887', 'actual prediction: 0'),\n",
       " ('probability of one: 0.296016322085', 'actual prediction: 0'),\n",
       " ('probability of one: 0.374513624801', 'actual prediction: 0'),\n",
       " ('probability of one: 0.23430899163', 'actual prediction: 0'),\n",
       " ('probability of one: 0.327020239774', 'actual prediction: 0'),\n",
       " ('probability of one: 0.128436880445', 'actual prediction: 0'),\n",
       " ('probability of one: 0.320395698897', 'actual prediction: 0'),\n",
       " ('probability of one: 0.321659657732', 'actual prediction: 0'),\n",
       " ('probability of one: 0.315820457513', 'actual prediction: 1'),\n",
       " ('probability of one: 0.126429969078', 'actual prediction: 0'),\n",
       " ('probability of one: 0.456074947819', 'actual prediction: 0'),\n",
       " ('probability of one: 0.278054800123', 'actual prediction: 0'),\n",
       " ('probability of one: 0.470909770575', 'actual prediction: 0'),\n",
       " ('probability of one: 0.239147799497', 'actual prediction: 0'),\n",
       " ('probability of one: 0.348726387079', 'actual prediction: 0'),\n",
       " ('probability of one: 0.155073924038', 'actual prediction: 0'),\n",
       " ('probability of one: 0.386646686955', 'actual prediction: 0'),\n",
       " ('probability of one: 0.253348897085', 'actual prediction: 1'),\n",
       " ('probability of one: 0.260676520707', 'actual prediction: 1'),\n",
       " ('probability of one: 0.104034385206', 'actual prediction: 0'),\n",
       " ('probability of one: 0.225582125329', 'actual prediction: 0'),\n",
       " ('probability of one: 0.155374777949', 'actual prediction: 0'),\n",
       " ('probability of one: 0.441205184641', 'actual prediction: 1'),\n",
       " ('probability of one: 0.357694501302', 'actual prediction: 0'),\n",
       " ('probability of one: 0.343167484192', 'actual prediction: 0'),\n",
       " ('probability of one: 0.233922559481', 'actual prediction: 0'),\n",
       " ('probability of one: 0.324538251623', 'actual prediction: 1'),\n",
       " ('probability of one: 0.429292504815', 'actual prediction: 1'),\n",
       " ('probability of one: 0.162394932883', 'actual prediction: 0'),\n",
       " ('probability of one: 0.145132176617', 'actual prediction: 0'),\n",
       " ('probability of one: 0.343849468708', 'actual prediction: 1'),\n",
       " ('probability of one: 0.389491426393', 'actual prediction: 0'),\n",
       " ('probability of one: 0.102745226617', 'actual prediction: 0'),\n",
       " ('probability of one: 0.0772071329991', 'actual prediction: 0'),\n",
       " ('probability of one: 0.290689485729', 'actual prediction: 0'),\n",
       " ('probability of one: 0.435810696438', 'actual prediction: 1'),\n",
       " ('probability of one: 0.404457083806', 'actual prediction: 0'),\n",
       " ('probability of one: 0.290167521468', 'actual prediction: 1'),\n",
       " ('probability of one: 0.320006466314', 'actual prediction: 0'),\n",
       " ('probability of one: 0.331936154609', 'actual prediction: 0'),\n",
       " ('probability of one: 0.35687420527', 'actual prediction: 1'),\n",
       " ('probability of one: 0.292194466557', 'actual prediction: 1'),\n",
       " ('probability of one: 0.114404100899', 'actual prediction: 0'),\n",
       " ('probability of one: 0.146533932186', 'actual prediction: 0'),\n",
       " ('probability of one: 0.142314594167', 'actual prediction: 0'),\n",
       " ('probability of one: 0.301086941836', 'actual prediction: 0'),\n",
       " ('probability of one: 0.143761571747', 'actual prediction: 0'),\n",
       " ('probability of one: 0.204767928981', 'actual prediction: 0'),\n",
       " ('probability of one: 0.287905978833', 'actual prediction: 0'),\n",
       " ('probability of one: 0.235339610776', 'actual prediction: 0'),\n",
       " ('probability of one: 0.104355607616', 'actual prediction: 0'),\n",
       " ('probability of one: 0.472911802817', 'actual prediction: 1'),\n",
       " ('probability of one: 0.355776460623', 'actual prediction: 0'),\n",
       " ('probability of one: 0.486525792105', 'actual prediction: 1'),\n",
       " ('probability of one: 0.227882982458', 'actual prediction: 0'),\n",
       " ('probability of one: 0.0923160088939', 'actual prediction: 0'),\n",
       " ('probability of one: 0.45996598909', 'actual prediction: 0'),\n",
       " ('probability of one: 0.16020648435', 'actual prediction: 0'),\n",
       " ('probability of one: 0.265402174194', 'actual prediction: 0'),\n",
       " ('probability of one: 0.244398232634', 'actual prediction: 0'),\n",
       " ('probability of one: 0.399478855248', 'actual prediction: 0'),\n",
       " ('probability of one: 0.323723046373', 'actual prediction: 0'),\n",
       " ('probability of one: 0.254273148861', 'actual prediction: 0'),\n",
       " ('probability of one: 0.196148956976', 'actual prediction: 0'),\n",
       " ('probability of one: 0.238537637074', 'actual prediction: 0'),\n",
       " ('probability of one: 0.27837900292', 'actual prediction: 0'),\n",
       " ('probability of one: 0.441270119708', 'actual prediction: 1'),\n",
       " ('probability of one: 0.315256996883', 'actual prediction: 1'),\n",
       " ('probability of one: 0.337353664217', 'actual prediction: 0'),\n",
       " ('probability of one: 0.256573336361', 'actual prediction: 1'),\n",
       " ('probability of one: 0.175316905957', 'actual prediction: 0'),\n",
       " ('probability of one: 0.213293321414', 'actual prediction: 0'),\n",
       " ('probability of one: 0.104141362118', 'actual prediction: 0'),\n",
       " ('probability of one: 0.274249236362', 'actual prediction: 0'),\n",
       " ('probability of one: 0.321896132134', 'actual prediction: 0'),\n",
       " ('probability of one: 0.348578393771', 'actual prediction: 0'),\n",
       " ('probability of one: 0.0881438756477', 'actual prediction: 0'),\n",
       " ('probability of one: 0.223590166567', 'actual prediction: 0'),\n",
       " ('probability of one: 0.111105944326', 'actual prediction: 0'),\n",
       " ('probability of one: 0.382119937939', 'actual prediction: 1'),\n",
       " ('probability of one: 0.187416854103', 'actual prediction: 0'),\n",
       " ('probability of one: 0.295556196306', 'actual prediction: 0'),\n",
       " ('probability of one: 0.227162802272', 'actual prediction: 0'),\n",
       " ('probability of one: 0.277218025212', 'actual prediction: 0'),\n",
       " ('probability of one: 0.234870798693', 'actual prediction: 1'),\n",
       " ('probability of one: 0.458700107035', 'actual prediction: 0'),\n",
       " ('probability of one: 0.185653720396', 'actual prediction: 0'),\n",
       " ('probability of one: 0.321446751691', 'actual prediction: 0'),\n",
       " ('probability of one: 0.220138807899', 'actual prediction: 0'),\n",
       " ('probability of one: 0.333264290137', 'actual prediction: 0'),\n",
       " ('probability of one: 0.13761648795', 'actual prediction: 0'),\n",
       " ('probability of one: 0.113512165128', 'actual prediction: 0'),\n",
       " ('probability of one: 0.140995424703', 'actual prediction: 0'),\n",
       " ('probability of one: 0.342458033943', 'actual prediction: 0'),\n",
       " ('probability of one: 0.220492614987', 'actual prediction: 0'),\n",
       " ('probability of one: 0.231868839431', 'actual prediction: 1'),\n",
       " ('probability of one: 0.415095659567', 'actual prediction: 0'),\n",
       " ('probability of one: 0.145490953001', 'actual prediction: 1'),\n",
       " ('probability of one: 0.425693088713', 'actual prediction: 0'),\n",
       " ('probability of one: 0.469674370419', 'actual prediction: 1'),\n",
       " ('probability of one: 0.217198907281', 'actual prediction: 0'),\n",
       " ('probability of one: 0.311927285789', 'actual prediction: 0'),\n",
       " ('probability of one: 0.147424273347', 'actual prediction: 0'),\n",
       " ('probability of one: 0.124016402102', 'actual prediction: 1'),\n",
       " ('probability of one: 0.401438950837', 'actual prediction: 0'),\n",
       " ('probability of one: 0.337957022056', 'actual prediction: 0'),\n",
       " ('probability of one: 0.393275815849', 'actual prediction: 1'),\n",
       " ('probability of one: 0.250648004438', 'actual prediction: 0'),\n",
       " ('probability of one: 0.304529695236', 'actual prediction: 1'),\n",
       " ('probability of one: 0.460487245235', 'actual prediction: 1'),\n",
       " ('probability of one: 0.448358289039', 'actual prediction: 1'),\n",
       " ('probability of one: 0.371530254086', 'actual prediction: 0'),\n",
       " ('probability of one: 0.244158347367', 'actual prediction: 1'),\n",
       " ('probability of one: 0.356079634294', 'actual prediction: 0'),\n",
       " ('probability of one: 0.417709085411', 'actual prediction: 0'),\n",
       " ('probability of one: 0.317354914341', 'actual prediction: 0'),\n",
       " ('probability of one: 0.388478490879', 'actual prediction: 1'),\n",
       " ('probability of one: 0.468790552686', 'actual prediction: 0'),\n",
       " ('probability of one: 0.175981325165', 'actual prediction: 0'),\n",
       " ('probability of one: 0.235696411176', 'actual prediction: 0'),\n",
       " ('probability of one: 0.107354109058', 'actual prediction: 0'),\n",
       " ('probability of one: 0.237471017047', 'actual prediction: 0'),\n",
       " ('probability of one: 0.267271311041', 'actual prediction: 0'),\n",
       " ('probability of one: 0.408334703696', 'actual prediction: 0'),\n",
       " ('probability of one: 0.321545074659', 'actual prediction: 0'),\n",
       " ('probability of one: 0.240368734515', 'actual prediction: 0'),\n",
       " ('probability of one: 0.0840023282477', 'actual prediction: 0'),\n",
       " ('probability of one: 0.109927534787', 'actual prediction: 0'),\n",
       " ('probability of one: 0.317603488338', 'actual prediction: 0'),\n",
       " ('probability of one: 0.245015330617', 'actual prediction: 1'),\n",
       " ('probability of one: 0.240095077891', 'actual prediction: 0'),\n",
       " ('probability of one: 0.181048701076', 'actual prediction: 0'),\n",
       " ('probability of one: 0.269554032796', 'actual prediction: 0'),\n",
       " ('probability of one: 0.425934641497', 'actual prediction: 0'),\n",
       " ('probability of one: 0.31130829304', 'actual prediction: 0'),\n",
       " ('probability of one: 0.176647723037', 'actual prediction: 0'),\n",
       " ('probability of one: 0.32317122275', 'actual prediction: 1'),\n",
       " ('probability of one: 0.332189840627', 'actual prediction: 0'),\n",
       " ('probability of one: 0.209057297368', 'actual prediction: 0'),\n",
       " ('probability of one: 0.39977537998', 'actual prediction: 0'),\n",
       " ('probability of one: 0.114753240618', 'actual prediction: 0'),\n",
       " ('probability of one: 0.486043598996', 'actual prediction: 0'),\n",
       " ('probability of one: 0.240805135797', 'actual prediction: 0'),\n",
       " ('probability of one: 0.541836441104', 'actual prediction: 0'),\n",
       " ('probability of one: 0.329890692651', 'actual prediction: 0'),\n",
       " ('probability of one: 0.298463525183', 'actual prediction: 1'),\n",
       " ('probability of one: 0.391768612438', 'actual prediction: 0'),\n",
       " ('probability of one: 0.264853854223', 'actual prediction: 0'),\n",
       " ('probability of one: 0.188802894819', 'actual prediction: 0'),\n",
       " ('probability of one: 0.390313582517', 'actual prediction: 0'),\n",
       " ('probability of one: 0.318550987875', 'actual prediction: 0'),\n",
       " ('probability of one: 0.338867597197', 'actual prediction: 0'),\n",
       " ('probability of one: 0.34811328235', 'actual prediction: 0'),\n",
       " ('probability of one: 0.189859323918', 'actual prediction: 0'),\n",
       " ('probability of one: 0.0833865028434', 'actual prediction: 0'),\n",
       " ('probability of one: 0.532699354639', 'actual prediction: 1'),\n",
       " ('probability of one: 0.250090411759', 'actual prediction: 0'),\n",
       " ('probability of one: 0.398636517401', 'actual prediction: 0'),\n",
       " ('probability of one: 0.256964178415', 'actual prediction: 1'),\n",
       " ('probability of one: 0.473901334784', 'actual prediction: 1'),\n",
       " ('probability of one: 0.315168765398', 'actual prediction: 0'),\n",
       " ('probability of one: 0.305750233885', 'actual prediction: 0'),\n",
       " ('probability of one: 0.177836374668', 'actual prediction: 1'),\n",
       " ('probability of one: 0.128947550592', 'actual prediction: 0'),\n",
       " ('probability of one: 0.26466333422', 'actual prediction: 0'),\n",
       " ('probability of one: 0.104785267038', 'actual prediction: 0'),\n",
       " ('probability of one: 0.135722718249', 'actual prediction: 1'),\n",
       " ('probability of one: 0.281321472183', 'actual prediction: 0'),\n",
       " ('probability of one: 0.226141287882', 'actual prediction: 0'),\n",
       " ('probability of one: 0.4007297401', 'actual prediction: 0'),\n",
       " ('probability of one: 0.396420730978', 'actual prediction: 1'),\n",
       " ('probability of one: 0.564415478992', 'actual prediction: 1'),\n",
       " ('probability of one: 0.360426227783', 'actual prediction: 0'),\n",
       " ('probability of one: 0.271702610727', 'actual prediction: 1'),\n",
       " ('probability of one: 0.305863497135', 'actual prediction: 0'),\n",
       " ('probability of one: 0.143615567706', 'actual prediction: 0'),\n",
       " ('probability of one: 0.242187269647', 'actual prediction: 1'),\n",
       " ('probability of one: 0.35166401641', 'actual prediction: 0'),\n",
       " ('probability of one: 0.433231664371', 'actual prediction: 0'),\n",
       " ('probability of one: 0.155073924038', 'actual prediction: 0'),\n",
       " ('probability of one: 0.426122651988', 'actual prediction: 1'),\n",
       " ('probability of one: 0.205314681004', 'actual prediction: 0'),\n",
       " ('probability of one: 0.304592208748', 'actual prediction: 0'),\n",
       " ('probability of one: 0.319736908742', 'actual prediction: 0'),\n",
       " ('probability of one: 0.324998735639', 'actual prediction: 1'),\n",
       " ('probability of one: 0.292240270015', 'actual prediction: 0'),\n",
       " ('probability of one: 0.32257495228', 'actual prediction: 1'),\n",
       " ('probability of one: 0.24452642113', 'actual prediction: 0'),\n",
       " ('probability of one: 0.25392373036', 'actual prediction: 1'),\n",
       " ('probability of one: 0.266718667558', 'actual prediction: 1'),\n",
       " ('probability of one: 0.199487084727', 'actual prediction: 0'),\n",
       " ('probability of one: 0.416202225608', 'actual prediction: 0'),\n",
       " ('probability of one: 0.250648004438', 'actual prediction: 0'),\n",
       " ('probability of one: 0.220652312215', 'actual prediction: 0'),\n",
       " ('probability of one: 0.180732997214', 'actual prediction: 0'),\n",
       " ('probability of one: 0.329222390751', 'actual prediction: 0'),\n",
       " ('probability of one: 0.342474936904', 'actual prediction: 0'),\n",
       " ('probability of one: 0.30721321144', 'actual prediction: 0'),\n",
       " ('probability of one: 0.384533023372', 'actual prediction: 1'),\n",
       " ('probability of one: 0.421185835548', 'actual prediction: 1'),\n",
       " ('probability of one: 0.174158927966', 'actual prediction: 0'),\n",
       " ('probability of one: 0.192266077735', 'actual prediction: 0'),\n",
       " ('probability of one: 0.40444840784', 'actual prediction: 1'),\n",
       " ('probability of one: 0.131482025575', 'actual prediction: 1'),\n",
       " ('probability of one: 0.309048138014', 'actual prediction: 1'),\n",
       " ('probability of one: 0.569331780878', 'actual prediction: 0'),\n",
       " ('probability of one: 0.262414215562', 'actual prediction: 1'),\n",
       " ('probability of one: 0.334505147115', 'actual prediction: 1'),\n",
       " ('probability of one: 0.382148586371', 'actual prediction: 1'),\n",
       " ('probability of one: 0.2593460166', 'actual prediction: 0'),\n",
       " ('probability of one: 0.289750857832', 'actual prediction: 0'),\n",
       " ('probability of one: 0.232184376735', 'actual prediction: 0'),\n",
       " ('probability of one: 0.211510524446', 'actual prediction: 1'),\n",
       " ('probability of one: 0.27532644551', 'actual prediction: 0'),\n",
       " ('probability of one: 0.319317919196', 'actual prediction: 1'),\n",
       " ('probability of one: 0.431682168075', 'actual prediction: 1'),\n",
       " ('probability of one: 0.188698009265', 'actual prediction: 0'),\n",
       " ('probability of one: 0.287528724593', 'actual prediction: 0'),\n",
       " ('probability of one: 0.58579873764', 'actual prediction: 1'),\n",
       " ('probability of one: 0.232790659892', 'actual prediction: 1'),\n",
       " ('probability of one: 0.461009972265', 'actual prediction: 0'),\n",
       " ('probability of one: 0.299136667047', 'actual prediction: 0'),\n",
       " ('probability of one: 0.285736128162', 'actual prediction: 0'),\n",
       " ('probability of one: 0.113131826936', 'actual prediction: 0'),\n",
       " ('probability of one: 0.258809745503', 'actual prediction: 0'),\n",
       " ('probability of one: 0.314201137787', 'actual prediction: 1'),\n",
       " ('probability of one: 0.212430261765', 'actual prediction: 0'),\n",
       " ('probability of one: 0.447478713851', 'actual prediction: 1'),\n",
       " ('probability of one: 0.345943308427', 'actual prediction: 1'),\n",
       " ('probability of one: 0.326946423253', 'actual prediction: 0'),\n",
       " ('probability of one: 0.356658859846', 'actual prediction: 1'),\n",
       " ('probability of one: 0.220830277773', 'actual prediction: 0'),\n",
       " ('probability of one: 0.385407576976', 'actual prediction: 0'),\n",
       " ('probability of one: 0.167372394812', 'actual prediction: 0'),\n",
       " ('probability of one: 0.261670924085', 'actual prediction: 0'),\n",
       " ('probability of one: 0.0987357878378', 'actual prediction: 0'),\n",
       " ('probability of one: 0.382026006378', 'actual prediction: 1'),\n",
       " ('probability of one: 0.389658041129', 'actual prediction: 1'),\n",
       " ('probability of one: 0.319690938525', 'actual prediction: 1'),\n",
       " ('probability of one: 0.388131884093', 'actual prediction: 1'),\n",
       " ('probability of one: 0.236109969391', 'actual prediction: 0'),\n",
       " ('probability of one: 0.302918708574', 'actual prediction: 0'),\n",
       " ('probability of one: 0.410333996388', 'actual prediction: 1'),\n",
       " ('probability of one: 0.340051150952', 'actual prediction: 0'),\n",
       " ('probability of one: 0.320046979396', 'actual prediction: 1'),\n",
       " ('probability of one: 0.147607834218', 'actual prediction: 0'),\n",
       " ('probability of one: 0.0926500760185', 'actual prediction: 0'),\n",
       " ('probability of one: 0.250863530037', 'actual prediction: 0'),\n",
       " ('probability of one: 0.0686236593982', 'actual prediction: 0'),\n",
       " ('probability of one: 0.252437857315', 'actual prediction: 0'),\n",
       " ('probability of one: 0.429516187452', 'actual prediction: 1'),\n",
       " ('probability of one: 0.154923675527', 'actual prediction: 0'),\n",
       " ('probability of one: 0.287845969154', 'actual prediction: 0'),\n",
       " ('probability of one: 0.471311368399', 'actual prediction: 0'),\n",
       " ('probability of one: 0.33157140961', 'actual prediction: 0'),\n",
       " ('probability of one: 0.0871227999382', 'actual prediction: 0'),\n",
       " ('probability of one: 0.388227010259', 'actual prediction: 1'),\n",
       " ('probability of one: 0.396662713937', 'actual prediction: 1'),\n",
       " ('probability of one: 0.286938937368', 'actual prediction: 0'),\n",
       " ('probability of one: 0.401475282131', 'actual prediction: 0'),\n",
       " ('probability of one: 0.401014573618', 'actual prediction: 0'),\n",
       " ('probability of one: 0.334045468849', 'actual prediction: 1'),\n",
       " ('probability of one: 0.0983229863616', 'actual prediction: 0'),\n",
       " ('probability of one: 0.236277954068', 'actual prediction: 0'),\n",
       " ('probability of one: 0.0666400553025', 'actual prediction: 0'),\n",
       " ('probability of one: 0.205806542999', 'actual prediction: 0'),\n",
       " ('probability of one: 0.312881496902', 'actual prediction: 0'),\n",
       " ('probability of one: 0.0987552246975', 'actual prediction: 0'),\n",
       " ('probability of one: 0.244377804294', 'actual prediction: 0'),\n",
       " ('probability of one: 0.393469330187', 'actual prediction: 1'),\n",
       " ('probability of one: 0.337781271594', 'actual prediction: 0'),\n",
       " ('probability of one: 0.294517760963', 'actual prediction: 0'),\n",
       " ('probability of one: 0.162853956124', 'actual prediction: 0'),\n",
       " ('probability of one: 0.274347271066', 'actual prediction: 1'),\n",
       " ('probability of one: 0.18582721817', 'actual prediction: 0'),\n",
       " ('probability of one: 0.325433616975', 'actual prediction: 0'),\n",
       " ('probability of one: 0.252464457761', 'actual prediction: 1'),\n",
       " ('probability of one: 0.391894827956', 'actual prediction: 0'),\n",
       " ('probability of one: 0.253982963586', 'actual prediction: 0'),\n",
       " ('probability of one: 0.147687011483', 'actual prediction: 0'),\n",
       " ('probability of one: 0.191602888535', 'actual prediction: 0'),\n",
       " ('probability of one: 0.127247648737', 'actual prediction: 0'),\n",
       " ('probability of one: 0.480627603035', 'actual prediction: 1'),\n",
       " ('probability of one: 0.248181994744', 'actual prediction: 0'),\n",
       " ('probability of one: 0.352994745187', 'actual prediction: 1'),\n",
       " ('probability of one: 0.311995314396', 'actual prediction: 1'),\n",
       " ('probability of one: 0.420222396596', 'actual prediction: 0'),\n",
       " ('probability of one: 0.508246205398', 'actual prediction: 0'),\n",
       " ('probability of one: 0.326332023149', 'actual prediction: 1'),\n",
       " ('probability of one: 0.122899138321', 'actual prediction: 1'),\n",
       " ('probability of one: 0.180225850978', 'actual prediction: 0'),\n",
       " ('probability of one: 0.17648093797', 'actual prediction: 0'),\n",
       " ('probability of one: 0.399703250207', 'actual prediction: 0'),\n",
       " ('probability of one: 0.287687862823', 'actual prediction: 0'),\n",
       " ('probability of one: 0.205450787338', 'actual prediction: 1'),\n",
       " ('probability of one: 0.37448529661', 'actual prediction: 1'),\n",
       " ('probability of one: 0.435945254632', 'actual prediction: 0'),\n",
       " ('probability of one: 0.375858219933', 'actual prediction: 0'),\n",
       " ('probability of one: 0.236891383603', 'actual prediction: 1'),\n",
       " ('probability of one: 0.083562032973', 'actual prediction: 0'),\n",
       " ('probability of one: 0.29262240336', 'actual prediction: 0'),\n",
       " ('probability of one: 0.225002540131', 'actual prediction: 0'),\n",
       " ('probability of one: 0.384613969352', 'actual prediction: 0'),\n",
       " ('probability of one: 0.417561196646', 'actual prediction: 1'),\n",
       " ('probability of one: 0.255230255805', 'actual prediction: 0'),\n",
       " ('probability of one: 0.321372927707', 'actual prediction: 0'),\n",
       " ('probability of one: 0.437776639107', 'actual prediction: 0'),\n",
       " ('probability of one: 0.427451269021', 'actual prediction: 1'),\n",
       " ('probability of one: 0.403550681848', 'actual prediction: 0'),\n",
       " ('probability of one: 0.111079711437', 'actual prediction: 0'),\n",
       " ('probability of one: 0.249708404566', 'actual prediction: 0'),\n",
       " ('probability of one: 0.444253610587', 'actual prediction: 1'),\n",
       " ('probability of one: 0.314921217552', 'actual prediction: 0'),\n",
       " ('probability of one: 0.359524081445', 'actual prediction: 0'),\n",
       " ('probability of one: 0.380542459521', 'actual prediction: 0'),\n",
       " ('probability of one: 0.384982061641', 'actual prediction: 1'),\n",
       " ('probability of one: 0.322775691676', 'actual prediction: 0'),\n",
       " ('probability of one: 0.245264044622', 'actual prediction: 1'),\n",
       " ('probability of one: 0.290613855698', 'actual prediction: 1'),\n",
       " ('probability of one: 0.246472217336', 'actual prediction: 0'),\n",
       " ('probability of one: 0.165263111969', 'actual prediction: 0'),\n",
       " ('probability of one: 0.247772775748', 'actual prediction: 1'),\n",
       " ('probability of one: 0.133186234212', 'actual prediction: 1'),\n",
       " ('probability of one: 0.252375657612', 'actual prediction: 1'),\n",
       " ('probability of one: 0.274601510204', 'actual prediction: 0'),\n",
       " ('probability of one: 0.393683733923', 'actual prediction: 0'),\n",
       " ('probability of one: 0.249909969485', 'actual prediction: 0'),\n",
       " ('probability of one: 0.104570242424', 'actual prediction: 0'),\n",
       " ('probability of one: 0.290107557525', 'actual prediction: 1'),\n",
       " ('probability of one: 0.334808802446', 'actual prediction: 1'),\n",
       " ('probability of one: 0.365378914361', 'actual prediction: 0'),\n",
       " ('probability of one: 0.274480251984', 'actual prediction: 0'),\n",
       " ('probability of one: 0.304277803247', 'actual prediction: 0'),\n",
       " ('probability of one: 0.294268023098', 'actual prediction: 0'),\n",
       " ('probability of one: 0.252542292416', 'actual prediction: 1'),\n",
       " ('probability of one: 0.10680568784', 'actual prediction: 0'),\n",
       " ('probability of one: 0.334925179895', 'actual prediction: 0'),\n",
       " ('probability of one: 0.285906476787', 'actual prediction: 0'),\n",
       " ('probability of one: 0.369976222316', 'actual prediction: 0'),\n",
       " ('probability of one: 0.21037163798', 'actual prediction: 0'),\n",
       " ('probability of one: 0.114753240618', 'actual prediction: 0'),\n",
       " ('probability of one: 0.0829238158188', 'actual prediction: 0'),\n",
       " ('probability of one: 0.205282698164', 'actual prediction: 0'),\n",
       " ('probability of one: 0.297970369484', 'actual prediction: 1'),\n",
       " ('probability of one: 0.373407179736', 'actual prediction: 0'),\n",
       " ('probability of one: 0.283101499014', 'actual prediction: 1'),\n",
       " ('probability of one: 0.20814336354', 'actual prediction: 0'),\n",
       " ('probability of one: 0.160831418018', 'actual prediction: 0'),\n",
       " ('probability of one: 0.315269930598', 'actual prediction: 0'),\n",
       " ('probability of one: 0.364847077776', 'actual prediction: 0'),\n",
       " ('probability of one: 0.356600890474', 'actual prediction: 0'),\n",
       " ('probability of one: 0.112146085202', 'actual prediction: 0'),\n",
       " ('probability of one: 0.354576785175', 'actual prediction: 0'),\n",
       " ('probability of one: 0.133716874868', 'actual prediction: 0'),\n",
       " ('probability of one: 0.387651328176', 'actual prediction: 1'),\n",
       " ('probability of one: 0.309604676105', 'actual prediction: 1'),\n",
       " ('probability of one: 0.295859002131', 'actual prediction: 0'),\n",
       " ('probability of one: 0.153092082698', 'actual prediction: 0'),\n",
       " ('probability of one: 0.217856226223', 'actual prediction: 1'),\n",
       " ('probability of one: 0.212935458467', 'actual prediction: 0'),\n",
       " ('probability of one: 0.419971424667', 'actual prediction: 0'),\n",
       " ('probability of one: 0.39008936765', 'actual prediction: 0'),\n",
       " ('probability of one: 0.445556120974', 'actual prediction: 0'),\n",
       " ('probability of one: 0.389494926147', 'actual prediction: 0'),\n",
       " ('probability of one: 0.394479760264', 'actual prediction: 0'),\n",
       " ('probability of one: 0.208514886393', 'actual prediction: 0'),\n",
       " ('probability of one: 0.480425745866', 'actual prediction: 0'),\n",
       " ('probability of one: 0.267166625908', 'actual prediction: 0'),\n",
       " ('probability of one: 0.236166362554', 'actual prediction: 0'),\n",
       " ('probability of one: 0.173335501811', 'actual prediction: 0'),\n",
       " ('probability of one: 0.4355292408', 'actual prediction: 1'),\n",
       " ('probability of one: 0.215805285662', 'actual prediction: 0'),\n",
       " ('probability of one: 0.346764116748', 'actual prediction: 1'),\n",
       " ('probability of one: 0.2904404523', 'actual prediction: 0'),\n",
       " ('probability of one: 0.275420152664', 'actual prediction: 0'),\n",
       " ('probability of one: 0.341533953067', 'actual prediction: 0'),\n",
       " ('probability of one: 0.411391215742', 'actual prediction: 1'),\n",
       " ('probability of one: 0.153407295748', 'actual prediction: 1'),\n",
       " ('probability of one: 0.288376107486', 'actual prediction: 0'),\n",
       " ...]"
      ]
     },
     "execution_count": 224,
     "metadata": {},
     "output_type": "execute_result"
    }
   ],
   "source": [
    "[(\"probability of one: \" + str(pred[1]), 'actual prediction: ' + str(y_pred)) for pred, y_pred in zip(pred_probs,y_pred)]"
   ]
  },
  {
   "cell_type": "code",
   "execution_count": 225,
   "metadata": {
    "collapsed": false
   },
   "outputs": [
    {
     "ename": "SyntaxError",
     "evalue": "invalid syntax (<ipython-input-225-d33f6b922a55>, line 1)",
     "output_type": "error",
     "traceback": [
      "\u001b[0;36m  File \u001b[0;32m\"<ipython-input-225-d33f6b922a55>\"\u001b[0;36m, line \u001b[0;32m1\u001b[0m\n\u001b[0;31m    joel_arr = np.array([[pred[1][i],y_pred[i] for i in range(len(y_pred))])\u001b[0m\n\u001b[0m                                                 ^\u001b[0m\n\u001b[0;31mSyntaxError\u001b[0m\u001b[0;31m:\u001b[0m invalid syntax\n"
     ]
    }
   ],
   "source": [
    "joel_arr = np.array([[pred[1][i],y_pred[i] for i in range(len(y_pred))]) "
   ]
  },
  {
   "cell_type": "code",
   "execution_count": 226,
   "metadata": {
    "collapsed": false
   },
   "outputs": [],
   "source": [
    "joel_df = pd.DataFrame([pred_probs[i][1] for i in range(len(pred_probs))], columns=['pred_proba'])"
   ]
  },
  {
   "cell_type": "code",
   "execution_count": 227,
   "metadata": {
    "collapsed": true
   },
   "outputs": [],
   "source": [
    "joel_df['y_pred'] = y_pred"
   ]
  },
  {
   "cell_type": "code",
   "execution_count": 228,
   "metadata": {
    "collapsed": false
   },
   "outputs": [
    {
     "data": {
      "text/html": [
       "<div>\n",
       "<table border=\"1\" class=\"dataframe\">\n",
       "  <thead>\n",
       "    <tr style=\"text-align: right;\">\n",
       "      <th></th>\n",
       "      <th>pred_proba</th>\n",
       "      <th>y_pred</th>\n",
       "    </tr>\n",
       "  </thead>\n",
       "  <tbody>\n",
       "    <tr>\n",
       "      <th>0</th>\n",
       "      <td>0.303297</td>\n",
       "      <td>1</td>\n",
       "    </tr>\n",
       "    <tr>\n",
       "      <th>1</th>\n",
       "      <td>0.181789</td>\n",
       "      <td>0</td>\n",
       "    </tr>\n",
       "    <tr>\n",
       "      <th>2</th>\n",
       "      <td>0.384100</td>\n",
       "      <td>1</td>\n",
       "    </tr>\n",
       "    <tr>\n",
       "      <th>3</th>\n",
       "      <td>0.098592</td>\n",
       "      <td>0</td>\n",
       "    </tr>\n",
       "    <tr>\n",
       "      <th>4</th>\n",
       "      <td>0.261350</td>\n",
       "      <td>0</td>\n",
       "    </tr>\n",
       "  </tbody>\n",
       "</table>\n",
       "</div>"
      ],
      "text/plain": [
       "   pred_proba  y_pred\n",
       "0    0.303297       1\n",
       "1    0.181789       0\n",
       "2    0.384100       1\n",
       "3    0.098592       0\n",
       "4    0.261350       0"
      ]
     },
     "execution_count": 228,
     "metadata": {},
     "output_type": "execute_result"
    }
   ],
   "source": [
    "joel_df.head()"
   ]
  },
  {
   "cell_type": "code",
   "execution_count": 229,
   "metadata": {
    "collapsed": false
   },
   "outputs": [
    {
     "data": {
      "text/html": [
       "<div>\n",
       "<table border=\"1\" class=\"dataframe\">\n",
       "  <thead>\n",
       "    <tr style=\"text-align: right;\">\n",
       "      <th></th>\n",
       "      <th>pred_proba</th>\n",
       "    </tr>\n",
       "    <tr>\n",
       "      <th>y_pred</th>\n",
       "      <th></th>\n",
       "    </tr>\n",
       "  </thead>\n",
       "  <tbody>\n",
       "    <tr>\n",
       "      <th>0</th>\n",
       "      <td>0.267902</td>\n",
       "    </tr>\n",
       "    <tr>\n",
       "      <th>1</th>\n",
       "      <td>0.314783</td>\n",
       "    </tr>\n",
       "  </tbody>\n",
       "</table>\n",
       "</div>"
      ],
      "text/plain": [
       "        pred_proba\n",
       "y_pred            \n",
       "0         0.267902\n",
       "1         0.314783"
      ]
     },
     "execution_count": 229,
     "metadata": {},
     "output_type": "execute_result"
    }
   ],
   "source": [
    "joel_df.groupby('y_pred').mean()"
   ]
  },
  {
   "cell_type": "code",
   "execution_count": 230,
   "metadata": {
    "collapsed": false
   },
   "outputs": [
    {
     "data": {
      "text/plain": [
       "0    772\n",
       "1    334\n",
       "Name: y_pred, dtype: int64"
      ]
     },
     "execution_count": 230,
     "metadata": {},
     "output_type": "execute_result"
    }
   ],
   "source": [
    "joel_df.y_pred.value_counts()"
   ]
  },
  {
   "cell_type": "code",
   "execution_count": 231,
   "metadata": {
    "collapsed": false
   },
   "outputs": [
    {
     "data": {
      "text/html": [
       "<div>\n",
       "<table border=\"1\" class=\"dataframe\">\n",
       "  <thead>\n",
       "    <tr style=\"text-align: right;\">\n",
       "      <th></th>\n",
       "      <th>pred_proba</th>\n",
       "      <th>y_pred</th>\n",
       "    </tr>\n",
       "  </thead>\n",
       "  <tbody>\n",
       "    <tr>\n",
       "      <th>428</th>\n",
       "      <td>0.060775</td>\n",
       "      <td>0</td>\n",
       "    </tr>\n",
       "    <tr>\n",
       "      <th>885</th>\n",
       "      <td>0.066640</td>\n",
       "      <td>0</td>\n",
       "    </tr>\n",
       "    <tr>\n",
       "      <th>869</th>\n",
       "      <td>0.068624</td>\n",
       "      <td>0</td>\n",
       "    </tr>\n",
       "    <tr>\n",
       "      <th>193</th>\n",
       "      <td>0.076881</td>\n",
       "      <td>0</td>\n",
       "    </tr>\n",
       "    <tr>\n",
       "      <th>433</th>\n",
       "      <td>0.077176</td>\n",
       "      <td>0</td>\n",
       "    </tr>\n",
       "    <tr>\n",
       "      <th>654</th>\n",
       "      <td>0.077207</td>\n",
       "      <td>0</td>\n",
       "    </tr>\n",
       "    <tr>\n",
       "      <th>1075</th>\n",
       "      <td>0.077845</td>\n",
       "      <td>0</td>\n",
       "    </tr>\n",
       "    <tr>\n",
       "      <th>166</th>\n",
       "      <td>0.077927</td>\n",
       "      <td>0</td>\n",
       "    </tr>\n",
       "    <tr>\n",
       "      <th>962</th>\n",
       "      <td>0.082924</td>\n",
       "      <td>0</td>\n",
       "    </tr>\n",
       "    <tr>\n",
       "      <th>1076</th>\n",
       "      <td>0.082924</td>\n",
       "      <td>0</td>\n",
       "    </tr>\n",
       "    <tr>\n",
       "      <th>263</th>\n",
       "      <td>0.083011</td>\n",
       "      <td>0</td>\n",
       "    </tr>\n",
       "    <tr>\n",
       "      <th>775</th>\n",
       "      <td>0.083387</td>\n",
       "      <td>0</td>\n",
       "    </tr>\n",
       "    <tr>\n",
       "      <th>920</th>\n",
       "      <td>0.083562</td>\n",
       "      <td>0</td>\n",
       "    </tr>\n",
       "    <tr>\n",
       "      <th>747</th>\n",
       "      <td>0.084002</td>\n",
       "      <td>0</td>\n",
       "    </tr>\n",
       "    <tr>\n",
       "      <th>535</th>\n",
       "      <td>0.084691</td>\n",
       "      <td>0</td>\n",
       "    </tr>\n",
       "    <tr>\n",
       "      <th>253</th>\n",
       "      <td>0.085585</td>\n",
       "      <td>0</td>\n",
       "    </tr>\n",
       "    <tr>\n",
       "      <th>391</th>\n",
       "      <td>0.085854</td>\n",
       "      <td>0</td>\n",
       "    </tr>\n",
       "    <tr>\n",
       "      <th>202</th>\n",
       "      <td>0.086323</td>\n",
       "      <td>0</td>\n",
       "    </tr>\n",
       "    <tr>\n",
       "      <th>518</th>\n",
       "      <td>0.086578</td>\n",
       "      <td>0</td>\n",
       "    </tr>\n",
       "    <tr>\n",
       "      <th>876</th>\n",
       "      <td>0.087123</td>\n",
       "      <td>0</td>\n",
       "    </tr>\n",
       "    <tr>\n",
       "      <th>697</th>\n",
       "      <td>0.088144</td>\n",
       "      <td>0</td>\n",
       "    </tr>\n",
       "    <tr>\n",
       "      <th>1062</th>\n",
       "      <td>0.089680</td>\n",
       "      <td>0</td>\n",
       "    </tr>\n",
       "    <tr>\n",
       "      <th>1042</th>\n",
       "      <td>0.091024</td>\n",
       "      <td>0</td>\n",
       "    </tr>\n",
       "    <tr>\n",
       "      <th>255</th>\n",
       "      <td>0.091862</td>\n",
       "      <td>0</td>\n",
       "    </tr>\n",
       "    <tr>\n",
       "      <th>676</th>\n",
       "      <td>0.092316</td>\n",
       "      <td>0</td>\n",
       "    </tr>\n",
       "    <tr>\n",
       "      <th>867</th>\n",
       "      <td>0.092650</td>\n",
       "      <td>0</td>\n",
       "    </tr>\n",
       "    <tr>\n",
       "      <th>204</th>\n",
       "      <td>0.094277</td>\n",
       "      <td>0</td>\n",
       "    </tr>\n",
       "    <tr>\n",
       "      <th>610</th>\n",
       "      <td>0.095750</td>\n",
       "      <td>1</td>\n",
       "    </tr>\n",
       "    <tr>\n",
       "      <th>584</th>\n",
       "      <td>0.097250</td>\n",
       "      <td>0</td>\n",
       "    </tr>\n",
       "    <tr>\n",
       "      <th>600</th>\n",
       "      <td>0.097351</td>\n",
       "      <td>0</td>\n",
       "    </tr>\n",
       "    <tr>\n",
       "      <th>...</th>\n",
       "      <td>...</td>\n",
       "      <td>...</td>\n",
       "    </tr>\n",
       "    <tr>\n",
       "      <th>559</th>\n",
       "      <td>0.477678</td>\n",
       "      <td>0</td>\n",
       "    </tr>\n",
       "    <tr>\n",
       "      <th>390</th>\n",
       "      <td>0.477763</td>\n",
       "      <td>0</td>\n",
       "    </tr>\n",
       "    <tr>\n",
       "      <th>532</th>\n",
       "      <td>0.477991</td>\n",
       "      <td>0</td>\n",
       "    </tr>\n",
       "    <tr>\n",
       "      <th>987</th>\n",
       "      <td>0.480426</td>\n",
       "      <td>0</td>\n",
       "    </tr>\n",
       "    <tr>\n",
       "      <th>903</th>\n",
       "      <td>0.480628</td>\n",
       "      <td>1</td>\n",
       "    </tr>\n",
       "    <tr>\n",
       "      <th>1089</th>\n",
       "      <td>0.482113</td>\n",
       "      <td>1</td>\n",
       "    </tr>\n",
       "    <tr>\n",
       "      <th>472</th>\n",
       "      <td>0.483151</td>\n",
       "      <td>0</td>\n",
       "    </tr>\n",
       "    <tr>\n",
       "      <th>762</th>\n",
       "      <td>0.486044</td>\n",
       "      <td>0</td>\n",
       "    </tr>\n",
       "    <tr>\n",
       "      <th>674</th>\n",
       "      <td>0.486526</td>\n",
       "      <td>1</td>\n",
       "    </tr>\n",
       "    <tr>\n",
       "      <th>47</th>\n",
       "      <td>0.493058</td>\n",
       "      <td>1</td>\n",
       "    </tr>\n",
       "    <tr>\n",
       "      <th>106</th>\n",
       "      <td>0.497901</td>\n",
       "      <td>0</td>\n",
       "    </tr>\n",
       "    <tr>\n",
       "      <th>201</th>\n",
       "      <td>0.504532</td>\n",
       "      <td>0</td>\n",
       "    </tr>\n",
       "    <tr>\n",
       "      <th>1080</th>\n",
       "      <td>0.504816</td>\n",
       "      <td>1</td>\n",
       "    </tr>\n",
       "    <tr>\n",
       "      <th>117</th>\n",
       "      <td>0.506585</td>\n",
       "      <td>0</td>\n",
       "    </tr>\n",
       "    <tr>\n",
       "      <th>908</th>\n",
       "      <td>0.508246</td>\n",
       "      <td>0</td>\n",
       "    </tr>\n",
       "    <tr>\n",
       "      <th>457</th>\n",
       "      <td>0.523870</td>\n",
       "      <td>1</td>\n",
       "    </tr>\n",
       "    <tr>\n",
       "      <th>98</th>\n",
       "      <td>0.530282</td>\n",
       "      <td>0</td>\n",
       "    </tr>\n",
       "    <tr>\n",
       "      <th>776</th>\n",
       "      <td>0.532699</td>\n",
       "      <td>1</td>\n",
       "    </tr>\n",
       "    <tr>\n",
       "      <th>764</th>\n",
       "      <td>0.541836</td>\n",
       "      <td>0</td>\n",
       "    </tr>\n",
       "    <tr>\n",
       "      <th>398</th>\n",
       "      <td>0.542967</td>\n",
       "      <td>0</td>\n",
       "    </tr>\n",
       "    <tr>\n",
       "      <th>129</th>\n",
       "      <td>0.550054</td>\n",
       "      <td>0</td>\n",
       "    </tr>\n",
       "    <tr>\n",
       "      <th>284</th>\n",
       "      <td>0.550618</td>\n",
       "      <td>1</td>\n",
       "    </tr>\n",
       "    <tr>\n",
       "      <th>596</th>\n",
       "      <td>0.554110</td>\n",
       "      <td>0</td>\n",
       "    </tr>\n",
       "    <tr>\n",
       "      <th>550</th>\n",
       "      <td>0.554990</td>\n",
       "      <td>0</td>\n",
       "    </tr>\n",
       "    <tr>\n",
       "      <th>1029</th>\n",
       "      <td>0.556872</td>\n",
       "      <td>0</td>\n",
       "    </tr>\n",
       "    <tr>\n",
       "      <th>792</th>\n",
       "      <td>0.564415</td>\n",
       "      <td>1</td>\n",
       "    </tr>\n",
       "    <tr>\n",
       "      <th>826</th>\n",
       "      <td>0.569332</td>\n",
       "      <td>0</td>\n",
       "    </tr>\n",
       "    <tr>\n",
       "      <th>839</th>\n",
       "      <td>0.585799</td>\n",
       "      <td>1</td>\n",
       "    </tr>\n",
       "    <tr>\n",
       "      <th>460</th>\n",
       "      <td>0.610154</td>\n",
       "      <td>0</td>\n",
       "    </tr>\n",
       "    <tr>\n",
       "      <th>583</th>\n",
       "      <td>0.652788</td>\n",
       "      <td>0</td>\n",
       "    </tr>\n",
       "  </tbody>\n",
       "</table>\n",
       "<p>1106 rows × 2 columns</p>\n",
       "</div>"
      ],
      "text/plain": [
       "      pred_proba  y_pred\n",
       "428     0.060775       0\n",
       "885     0.066640       0\n",
       "869     0.068624       0\n",
       "193     0.076881       0\n",
       "433     0.077176       0\n",
       "654     0.077207       0\n",
       "1075    0.077845       0\n",
       "166     0.077927       0\n",
       "962     0.082924       0\n",
       "1076    0.082924       0\n",
       "263     0.083011       0\n",
       "775     0.083387       0\n",
       "920     0.083562       0\n",
       "747     0.084002       0\n",
       "535     0.084691       0\n",
       "253     0.085585       0\n",
       "391     0.085854       0\n",
       "202     0.086323       0\n",
       "518     0.086578       0\n",
       "876     0.087123       0\n",
       "697     0.088144       0\n",
       "1062    0.089680       0\n",
       "1042    0.091024       0\n",
       "255     0.091862       0\n",
       "676     0.092316       0\n",
       "867     0.092650       0\n",
       "204     0.094277       0\n",
       "610     0.095750       1\n",
       "584     0.097250       0\n",
       "600     0.097351       0\n",
       "...          ...     ...\n",
       "559     0.477678       0\n",
       "390     0.477763       0\n",
       "532     0.477991       0\n",
       "987     0.480426       0\n",
       "903     0.480628       1\n",
       "1089    0.482113       1\n",
       "472     0.483151       0\n",
       "762     0.486044       0\n",
       "674     0.486526       1\n",
       "47      0.493058       1\n",
       "106     0.497901       0\n",
       "201     0.504532       0\n",
       "1080    0.504816       1\n",
       "117     0.506585       0\n",
       "908     0.508246       0\n",
       "457     0.523870       1\n",
       "98      0.530282       0\n",
       "776     0.532699       1\n",
       "764     0.541836       0\n",
       "398     0.542967       0\n",
       "129     0.550054       0\n",
       "284     0.550618       1\n",
       "596     0.554110       0\n",
       "550     0.554990       0\n",
       "1029    0.556872       0\n",
       "792     0.564415       1\n",
       "826     0.569332       0\n",
       "839     0.585799       1\n",
       "460     0.610154       0\n",
       "583     0.652788       0\n",
       "\n",
       "[1106 rows x 2 columns]"
      ]
     },
     "execution_count": 231,
     "metadata": {},
     "output_type": "execute_result"
    }
   ],
   "source": [
    "joel_df.sort_values(by='pred_proba')"
   ]
  },
  {
   "cell_type": "code",
   "execution_count": 232,
   "metadata": {
    "collapsed": false
   },
   "outputs": [
    {
     "data": {
      "text/plain": [
       "(array([ 1.        ,  0.87741935,  0.87741935,  0.87419355,  0.87419355,\n",
       "         0.87419355,  0.87419355,  0.87419355,  0.87096774,  0.74516129,\n",
       "         0.74193548,  0.74193548,  0.74193548,  0.74193548,  0.73225806,\n",
       "         0.73225806,  0.73225806,  0.73225806,  0.73225806,  0.72903226,\n",
       "         0.61612903,  0.61612903,  0.61612903,  0.61612903,  0.61290323,\n",
       "         0.60967742,  0.60967742,  0.60967742,  0.43225806,  0.42903226,\n",
       "         0.42903226,  0.42903226,  0.42580645,  0.42580645,  0.42258065,\n",
       "         0.41935484,  0.41935484,  0.26774194,  0.26774194,  0.26129032,\n",
       "         0.26129032,  0.26129032,  0.25806452,  0.25806452,  0.25483871,\n",
       "         0.25483871,  0.25483871,  0.25483871,  0.2483871 ,  0.16129032,\n",
       "         0.15806452,  0.15806452,  0.15806452,  0.09677419,  0.09354839,\n",
       "         0.09354839,  0.09354839,  0.07741935,  0.07419355,  0.04516129,\n",
       "         0.04516129,  0.04516129,  0.00645161]),\n",
       " array([ 0.28028933,  0.29153269,  0.29184549,  0.29139785,  0.29171152,\n",
       "         0.29202586,  0.29234088,  0.29329004,  0.29284165,  0.30841121,\n",
       "         0.30748663,  0.30831099,  0.30872483,  0.30913978,  0.30800543,\n",
       "         0.30884354,  0.30926431,  0.30968622,  0.31010929,  0.30958904,\n",
       "         0.33275261,  0.33391608,  0.33450088,  0.33508772,  0.3374778 ,\n",
       "         0.33629893,  0.3368984 ,  0.3375    ,  0.35078534,  0.34908136,\n",
       "         0.35092348,  0.3537234 ,  0.352     ,  0.35294118,  0.35120643,\n",
       "         0.34946237,  0.35040431,  0.34583333,  0.34728033,  0.34177215,\n",
       "         0.34322034,  0.34468085,  0.34482759,  0.34632035,  0.34497817,\n",
       "         0.34649123,  0.34801762,  0.34955752,  0.34529148,  0.3875969 ,\n",
       "         0.38582677,  0.38888889,  0.392     ,  0.37974684,  0.37179487,\n",
       "         0.37662338,  0.38157895,  0.53333333,  0.53488372,  0.56      ,\n",
       "         0.58333333,  0.60869565,  0.5       ]),\n",
       " array([ 0.        ,  0.02      ,  0.03333333,  0.04285714,  0.05      ,\n",
       "         0.05333333,  0.05714286,  0.09      ,  0.1       ,  0.125     ,\n",
       "         0.13333333,  0.14206349,  0.14444444,  0.15      ,  0.16666667,\n",
       "         0.17      ,  0.175     ,  0.18166667,  0.2       ,  0.2       ,\n",
       "         0.225     ,  0.23333333,  0.24285714,  0.25      ,  0.26333333,\n",
       "         0.26666667,  0.29      ,  0.3       ,  0.325     ,  0.33333333,\n",
       "         0.35      ,  0.35833333,  0.36666667,  0.375     ,  0.38333333,\n",
       "         0.38833333,  0.4       ,  0.42      ,  0.425     ,  0.43333333,\n",
       "         0.43333333,  0.45      ,  0.46333333,  0.46666667,  0.46666667,\n",
       "         0.475     ,  0.48      ,  0.48333333,  0.5       ,  0.53333333,\n",
       "         0.55      ,  0.56666667,  0.6       ,  0.625     ,  0.63333333,\n",
       "         0.65      ,  0.7       ,  0.75      ,  0.8       ,  0.81111111,\n",
       "         0.83333333,  0.9       ,  1.        ]))"
      ]
     },
     "execution_count": 232,
     "metadata": {},
     "output_type": "execute_result"
    },
    {
     "data": {
      "image/png": "[encoded data removed]",
      "text/plain": [
       "<matplotlib.figure.Figure at 0x138d18400>"
      ]
     },
     "metadata": {},
     "output_type": "display_data"
    }
   ],
   "source": [
    "pred_probs = RandomForestClassifier().fit(X_train,y_train).predict_proba(X_holdout)\n",
    "pr_curve(y_holdout, pred_probs[:,1], \"Random Forest\")"
   ]
  },
  {
   "cell_type": "code",
   "execution_count": 233,
   "metadata": {
    "collapsed": false
   },
   "outputs": [
    {
     "data": {
      "text/plain": [
       "(array([ 1.        ,  0.39677419,  0.39354839,  0.39354839,  0.39354839,\n",
       "         0.39354839,  0.36129032,  0.36129032]),\n",
       " array([ 0.28028933,  0.34647887,  0.34659091,  0.34757835,  0.34857143,\n",
       "         0.35260116,  0.34674923,  0.34890966]),\n",
       " array([ 0.        ,  0.2       ,  0.25      ,  0.28571429,  0.33333333,\n",
       "         0.5       ,  0.66666667,  1.        ]))"
      ]
     },
     "execution_count": 233,
     "metadata": {},
     "output_type": "execute_result"
    },
    {
     "data": {
      "image/png": "[encoded data removed]",
      "text/plain": [
       "<matplotlib.figure.Figure at 0x1133bb860>"
      ]
     },
     "metadata": {},
     "output_type": "display_data"
    }
   ],
   "source": [
    "pred_probs = DecisionTreeClassifier().fit(X_train,y_train).predict_proba(X_holdout)\n",
    "pr_curve(y_holdout, pred_probs[:,1], \"Decision Tree\")"
   ]
  },
  {
   "cell_type": "markdown",
   "metadata": {},
   "source": [
    "### Emotional abuse model"
   ]
  },
  {
   "cell_type": "code",
   "execution_count": 202,
   "metadata": {
    "collapsed": true
   },
   "outputs": [],
   "source": [
    "from sklearn.cross_validation import train_test_split\n",
    "X, y = df.drop(['12mo_physical_dv',\"ever_emo_violence\"], axis=1),df['ever_emo_violence']\n",
    "\n",
    "X_train, X_holdout, y_train, y_holdout = train_test_split(X, y, test_size=0.3, random_state=42)"
   ]
  },
  {
   "cell_type": "code",
   "execution_count": 420,
   "metadata": {
    "collapsed": false
   },
   "outputs": [
    {
     "name": "stdout",
     "output_type": "stream",
     "text": [
      "479 335 144\n"
     ]
    }
   ],
   "source": [
    "print(len(X),len(X_train),len(X_holdout))"
   ]
  },
  {
   "cell_type": "code",
   "execution_count": 463,
   "metadata": {
    "collapsed": false
   },
   "outputs": [],
   "source": [
    "from sklearn.naive_bayes import GaussianNB\n",
    "from sklearn.svm import SVC\n",
    "from sklearn.tree import DecisionTreeClassifier\n",
    "from sklearn.ensemble import RandomForestClassifier\n",
    "from sklearn.neighbors import KNeighborsClassifier\n",
    "\n",
    "from sklearn.linear_model import LogisticRegression\n",
    "from sklearn.metrics import accuracy_score, classification_report\n",
    "\n",
    "\n",
    "models = {}\n",
    "models['LogisticRegression'] = LogisticRegression()\n",
    "models['K-Nearest Neighbors'] = KNeighborsClassifier(n_neighbors=6)\n",
    "models['Gaussian'] = GaussianNB()\n",
    "models['SVC'] = SVC()\n",
    "models['Decision Tree'] = DecisionTreeClassifier()\n",
    "models['Random Forest'] = RandomForestClassifier()"
   ]
  },
  {
   "cell_type": "code",
   "execution_count": 464,
   "metadata": {
    "collapsed": false
   },
   "outputs": [
    {
     "name": "stdout",
     "output_type": "stream",
     "text": [
      "Model: SVC\n",
      "Score: 0.701388888889\n",
      "Accuracy: 0.70\n",
      "             precision    recall  f1-score   support\n",
      "\n",
      "          0       0.70      1.00      0.82       101\n",
      "          1       0.00      0.00      0.00        43\n",
      "\n",
      "avg / total       0.49      0.70      0.58       144\n",
      "\n",
      "\n",
      "Model: K-Nearest Neighbors\n",
      "Score: 0.680555555556\n",
      "Accuracy: 0.68\n",
      "             precision    recall  f1-score   support\n",
      "\n",
      "          0       0.71      0.93      0.80       101\n",
      "          1       0.36      0.09      0.15        43\n",
      "\n",
      "avg / total       0.60      0.68      0.61       144\n",
      "\n",
      "\n",
      "Model: Decision Tree\n",
      "Score: 0.701388888889\n",
      "Accuracy: 0.70\n",
      "             precision    recall  f1-score   support\n",
      "\n",
      "          0       0.71      0.98      0.82       101\n",
      "          1       0.50      0.05      0.09        43\n",
      "\n",
      "avg / total       0.65      0.70      0.60       144\n",
      "\n",
      "\n",
      "Model: Random Forest\n",
      "Score: 0.701388888889\n",
      "Accuracy: 0.70\n",
      "             precision    recall  f1-score   support\n",
      "\n",
      "          0       0.71      0.98      0.82       101\n",
      "          1       0.50      0.05      0.09        43\n",
      "\n",
      "avg / total       0.65      0.70      0.60       144\n",
      "\n",
      "\n",
      "Model: LogisticRegression\n",
      "Score: 0.701388888889\n",
      "Accuracy: 0.70\n",
      "             precision    recall  f1-score   support\n",
      "\n",
      "          0       0.70      1.00      0.82       101\n",
      "          1       0.00      0.00      0.00        43\n",
      "\n",
      "avg / total       0.49      0.70      0.58       144\n",
      "\n",
      "\n",
      "Model: Gaussian\n",
      "Score: 0.590277777778\n",
      "Accuracy: 0.59\n",
      "             precision    recall  f1-score   support\n",
      "\n",
      "          0       0.71      0.71      0.71       101\n",
      "          1       0.31      0.30      0.31        43\n",
      "\n",
      "avg / total       0.59      0.59      0.59       144\n",
      "\n",
      "\n"
     ]
    },
    {
     "name": "stderr",
     "output_type": "stream",
     "text": [
      "/Users/ANTARES/anaconda2/envs/snakes/lib/python3.5/site-packages/sklearn/metrics/classification.py:1074: UndefinedMetricWarning: Precision and F-score are ill-defined and being set to 0.0 in labels with no predicted samples.\n",
      "  'precision', 'predicted', average, warn_for)\n",
      "/Users/ANTARES/anaconda2/envs/snakes/lib/python3.5/site-packages/sklearn/metrics/classification.py:1074: UndefinedMetricWarning: Precision and F-score are ill-defined and being set to 0.0 in labels with no predicted samples.\n",
      "  'precision', 'predicted', average, warn_for)\n"
     ]
    }
   ],
   "source": [
    "for name,model in models.items():\n",
    "    model.fit(X_train,y_train)\n",
    "    y_pred = model.predict(X_holdout)\n",
    "    print('Model: '+name)\n",
    "    print(\"Score: \" + str(model.score(X_holdout,y_holdout)))\n",
    "    print(\"Accuracy: {:.2f}\".format(accuracy_score(y_holdout, y_pred)))\n",
    "    print(classification_report(y_holdout, model.predict(X_holdout)))\n",
    "    print(\"\")\n",
    "#what is the difference between score and accuracy_score in scikit-learn?"
   ]
  },
  {
   "cell_type": "code",
   "execution_count": 301,
   "metadata": {
    "collapsed": false
   },
   "outputs": [],
   "source": [
    "import statsmodels.api as sm"
   ]
  },
  {
   "cell_type": "code",
   "execution_count": 302,
   "metadata": {
    "collapsed": false
   },
   "outputs": [
    {
     "data": {
      "text/html": [
       "<div>\n",
       "<table border=\"1\" class=\"dataframe\">\n",
       "  <thead>\n",
       "    <tr style=\"text-align: right;\">\n",
       "      <th></th>\n",
       "      <th>physical_dv</th>\n",
       "      <th>age</th>\n",
       "      <th>ever_emo_violence</th>\n",
       "      <th>u16_marriage</th>\n",
       "      <th>child_marriage</th>\n",
       "      <th>no_edu</th>\n",
       "      <th>primary_edu</th>\n",
       "      <th>secondary_edu</th>\n",
       "      <th>higher_edu</th>\n",
       "      <th>electricity</th>\n",
       "      <th>...</th>\n",
       "      <th>natural_gas</th>\n",
       "      <th>animal_dung</th>\n",
       "      <th>lpg</th>\n",
       "      <th>grass</th>\n",
       "      <th>charcoal</th>\n",
       "      <th>biogas</th>\n",
       "      <th>kerosene</th>\n",
       "      <th>electric_power</th>\n",
       "      <th>coal</th>\n",
       "      <th>Intercept</th>\n",
       "    </tr>\n",
       "  </thead>\n",
       "  <tbody>\n",
       "    <tr>\n",
       "      <th>0</th>\n",
       "      <td>0</td>\n",
       "      <td>25.0</td>\n",
       "      <td>0</td>\n",
       "      <td>0</td>\n",
       "      <td>1</td>\n",
       "      <td>1</td>\n",
       "      <td>0</td>\n",
       "      <td>0</td>\n",
       "      <td>0</td>\n",
       "      <td>1</td>\n",
       "      <td>...</td>\n",
       "      <td>0</td>\n",
       "      <td>0</td>\n",
       "      <td>1</td>\n",
       "      <td>0</td>\n",
       "      <td>0</td>\n",
       "      <td>0</td>\n",
       "      <td>0</td>\n",
       "      <td>0</td>\n",
       "      <td>0</td>\n",
       "      <td>1</td>\n",
       "    </tr>\n",
       "    <tr>\n",
       "      <th>1</th>\n",
       "      <td>0</td>\n",
       "      <td>31.0</td>\n",
       "      <td>1</td>\n",
       "      <td>0</td>\n",
       "      <td>0</td>\n",
       "      <td>0</td>\n",
       "      <td>1</td>\n",
       "      <td>0</td>\n",
       "      <td>0</td>\n",
       "      <td>1</td>\n",
       "      <td>...</td>\n",
       "      <td>0</td>\n",
       "      <td>0</td>\n",
       "      <td>0</td>\n",
       "      <td>0</td>\n",
       "      <td>0</td>\n",
       "      <td>0</td>\n",
       "      <td>0</td>\n",
       "      <td>0</td>\n",
       "      <td>0</td>\n",
       "      <td>1</td>\n",
       "    </tr>\n",
       "    <tr>\n",
       "      <th>2</th>\n",
       "      <td>0</td>\n",
       "      <td>30.0</td>\n",
       "      <td>1</td>\n",
       "      <td>0</td>\n",
       "      <td>0</td>\n",
       "      <td>0</td>\n",
       "      <td>0</td>\n",
       "      <td>0</td>\n",
       "      <td>1</td>\n",
       "      <td>1</td>\n",
       "      <td>...</td>\n",
       "      <td>0</td>\n",
       "      <td>0</td>\n",
       "      <td>1</td>\n",
       "      <td>0</td>\n",
       "      <td>0</td>\n",
       "      <td>0</td>\n",
       "      <td>0</td>\n",
       "      <td>0</td>\n",
       "      <td>0</td>\n",
       "      <td>1</td>\n",
       "    </tr>\n",
       "    <tr>\n",
       "      <th>3</th>\n",
       "      <td>0</td>\n",
       "      <td>46.0</td>\n",
       "      <td>0</td>\n",
       "      <td>0</td>\n",
       "      <td>0</td>\n",
       "      <td>0</td>\n",
       "      <td>0</td>\n",
       "      <td>1</td>\n",
       "      <td>0</td>\n",
       "      <td>1</td>\n",
       "      <td>...</td>\n",
       "      <td>1</td>\n",
       "      <td>0</td>\n",
       "      <td>0</td>\n",
       "      <td>0</td>\n",
       "      <td>0</td>\n",
       "      <td>0</td>\n",
       "      <td>0</td>\n",
       "      <td>0</td>\n",
       "      <td>0</td>\n",
       "      <td>1</td>\n",
       "    </tr>\n",
       "    <tr>\n",
       "      <th>4</th>\n",
       "      <td>0</td>\n",
       "      <td>39.0</td>\n",
       "      <td>1</td>\n",
       "      <td>0</td>\n",
       "      <td>1</td>\n",
       "      <td>1</td>\n",
       "      <td>0</td>\n",
       "      <td>0</td>\n",
       "      <td>0</td>\n",
       "      <td>1</td>\n",
       "      <td>...</td>\n",
       "      <td>1</td>\n",
       "      <td>0</td>\n",
       "      <td>0</td>\n",
       "      <td>0</td>\n",
       "      <td>0</td>\n",
       "      <td>0</td>\n",
       "      <td>0</td>\n",
       "      <td>0</td>\n",
       "      <td>0</td>\n",
       "      <td>1</td>\n",
       "    </tr>\n",
       "  </tbody>\n",
       "</table>\n",
       "<p>5 rows × 42 columns</p>\n",
       "</div>"
      ],
      "text/plain": [
       "   physical_dv   age  ever_emo_violence  u16_marriage  child_marriage  no_edu  \\\n",
       "0            0  25.0                  0             0               1       1   \n",
       "1            0  31.0                  1             0               0       0   \n",
       "2            0  30.0                  1             0               0       0   \n",
       "3            0  46.0                  0             0               0       0   \n",
       "4            0  39.0                  1             0               1       1   \n",
       "\n",
       "   primary_edu  secondary_edu  higher_edu  electricity    ...      \\\n",
       "0            0              0           0            1    ...       \n",
       "1            1              0           0            1    ...       \n",
       "2            0              0           1            1    ...       \n",
       "3            0              1           0            1    ...       \n",
       "4            0              0           0            1    ...       \n",
       "\n",
       "   natural_gas  animal_dung  lpg  grass  charcoal  biogas  kerosene  \\\n",
       "0            0            0    1      0         0       0         0   \n",
       "1            0            0    0      0         0       0         0   \n",
       "2            0            0    1      0         0       0         0   \n",
       "3            1            0    0      0         0       0         0   \n",
       "4            1            0    0      0         0       0         0   \n",
       "\n",
       "   electric_power  coal  Intercept  \n",
       "0               0     0          1  \n",
       "1               0     0          1  \n",
       "2               0     0          1  \n",
       "3               0     0          1  \n",
       "4               0     0          1  \n",
       "\n",
       "[5 rows x 42 columns]"
      ]
     },
     "execution_count": 302,
     "metadata": {},
     "output_type": "execute_result"
    }
   ],
   "source": [
    "df.head()"
   ]
  },
  {
   "cell_type": "code",
   "execution_count": 262,
   "metadata": {
    "collapsed": false
   },
   "outputs": [
    {
     "name": "stderr",
     "output_type": "stream",
     "text": [
      "/Users/ANTARES/anaconda2/envs/snakes/lib/python3.5/site-packages/ipykernel/__main__.py:1: SettingWithCopyWarning: \n",
      "A value is trying to be set on a copy of a slice from a DataFrame.\n",
      "Try using .loc[row_indexer,col_indexer] = value instead\n",
      "\n",
      "See the caveats in the documentation: http://pandas.pydata.org/pandas-docs/stable/indexing.html#indexing-view-versus-copy\n",
      "  if __name__ == '__main__':\n"
     ]
    }
   ],
   "source": [
    "df[\"Intercept\"] = 1"
   ]
  },
  {
   "cell_type": "code",
   "execution_count": 303,
   "metadata": {
    "collapsed": false
   },
   "outputs": [
    {
     "data": {
      "text/plain": [
       "Index(['physical_dv', 'age', 'ever_emo_violence', 'u16_marriage',\n",
       "       'child_marriage', 'no_edu', 'primary_edu', 'secondary_edu',\n",
       "       'higher_edu', 'electricity', 'radio', 'tv', 'refrigerator', 'bicycle',\n",
       "       'motorcycle', 'car/truck', 'improved_sani', 'unimproved_sani',\n",
       "       'open_defec', 'safe_water', 'unsafe_water', 'shared_toilet',\n",
       "       'sturdy_walls', 'dirt_walls', 'no_walls', 'sturdy_roof', 'mid_roof',\n",
       "       'bad_roof', 'no_roof', 'hard_floor', 'dirt_floor', 'wood',\n",
       "       'natural_gas', 'animal_dung', 'lpg', 'grass', 'charcoal', 'biogas',\n",
       "       'kerosene', 'electric_power', 'coal', 'Intercept'],\n",
       "      dtype='object')"
      ]
     },
     "execution_count": 303,
     "metadata": {},
     "output_type": "execute_result"
    }
   ],
   "source": [
    "df.columns"
   ]
  },
  {
   "cell_type": "code",
   "execution_count": 304,
   "metadata": {
    "collapsed": false
   },
   "outputs": [
    {
     "name": "stdout",
     "output_type": "stream",
     "text": [
      "<class 'pandas.core.frame.DataFrame'> <class 'pandas.core.series.Series'>\n"
     ]
    }
   ],
   "source": [
    "X, y = df.drop(['physical_dv',\"ever_emo_violence\",\"u16_marriage\",'motorcycle','car/truck'], axis=1),df['physical_dv']\n",
    "print(type(X), type(y))"
   ]
  },
  {
   "cell_type": "code",
   "execution_count": 305,
   "metadata": {
    "collapsed": false
   },
   "outputs": [],
   "source": [
    "model = sm.Logit(y, X)"
   ]
  },
  {
   "cell_type": "code",
   "execution_count": 306,
   "metadata": {
    "collapsed": false
   },
   "outputs": [
    {
     "name": "stdout",
     "output_type": "stream",
     "text": [
      "Warning: Maximum number of iterations has been exceeded.\n",
      "         Current function value: 0.567899\n",
      "         Iterations: 35\n",
      "                           Logit Regression Results                           \n",
      "==============================================================================\n",
      "Dep. Variable:            physical_dv   No. Observations:                 3685\n",
      "Model:                          Logit   Df Residuals:                     3649\n",
      "Method:                           MLE   Df Model:                           35\n",
      "Date:                Thu, 27 Oct 2016   Pseudo R-squ.:                 0.04602\n",
      "Time:                        23:20:55   Log-Likelihood:                -2092.7\n",
      "converged:                      False   LL-Null:                       -2193.7\n",
      "                                        LLR p-value:                 2.331e-25\n",
      "===================================================================================\n",
      "                      coef    std err          z      P>|z|      [95.0% Conf. Int.]\n",
      "-----------------------------------------------------------------------------------\n",
      "age                 0.0046      0.005      0.967      0.334        -0.005     0.014\n",
      "child_marriage      0.1306      0.079      1.657      0.098        -0.024     0.285\n",
      "no_edu              0.0238        nan        nan        nan           nan       nan\n",
      "primary_edu         0.0126        nan        nan        nan           nan       nan\n",
      "secondary_edu      -0.3011        nan        nan        nan           nan       nan\n",
      "higher_edu         -0.8067        nan        nan        nan           nan       nan\n",
      "electricity         0.0678      0.179      0.378      0.705        -0.283     0.419\n",
      "radio              -0.0557      0.105     -0.531      0.595        -0.262     0.150\n",
      "tv                 -0.0250      0.096     -0.260      0.795        -0.213     0.163\n",
      "refrigerator       -0.0890      0.103     -0.863      0.388        -0.291     0.113\n",
      "bicycle             0.2104      0.088      2.386      0.017         0.038     0.383\n",
      "improved_sani      -0.3356      0.108     -3.113      0.002        -0.547    -0.124\n",
      "unimproved_sani    -0.3997      0.174     -2.298      0.022        -0.740    -0.059\n",
      "open_defec         -0.1506      0.130     -1.161      0.246        -0.405     0.104\n",
      "safe_water          0.2622      0.278      0.943      0.346        -0.283     0.808\n",
      "unsafe_water        0.6514      0.308      2.118      0.034         0.049     1.254\n",
      "shared_toilet       0.3776      0.123      3.072      0.002         0.137     0.618\n",
      "sturdy_walls       -0.0494      0.252     -0.196      0.844        -0.543     0.444\n",
      "dirt_walls         -0.0087      0.242     -0.036      0.971        -0.483     0.466\n",
      "no_walls            0.3966      0.268      1.479      0.139        -0.129     0.922\n",
      "sturdy_roof         0.3891      0.356      1.093      0.275        -0.309     1.087\n",
      "mid_roof            0.0571      0.356      0.160      0.872        -0.640     0.754\n",
      "bad_roof            0.1421      0.366      0.389      0.698        -0.574     0.859\n",
      "no_roof             0.0736      0.629      0.117      0.907        -1.159     1.306\n",
      "hard_floor          0.0090      1.728      0.005      0.996        -3.379     3.397\n",
      "dirt_floor          0.4164      1.729      0.241      0.810        -2.973     3.806\n",
      "wood               -0.6600      1.734     -0.381      0.703        -4.058     2.738\n",
      "natural_gas        -0.4950      1.734     -0.285      0.775        -3.894     2.904\n",
      "animal_dung        -0.5540      1.741     -0.318      0.750        -3.966     2.858\n",
      "lpg                -0.8232      1.747     -0.471      0.638        -4.248     2.601\n",
      "grass              -0.4364      1.739     -0.251      0.802        -3.845     2.972\n",
      "charcoal           -0.4718      1.752     -0.269      0.788        -3.906     2.963\n",
      "biogas             -1.7648      2.038     -0.866      0.387        -5.760     2.230\n",
      "kerosene          -17.3321   6549.043     -0.003      0.998     -1.29e+04  1.28e+04\n",
      "electric_power    -20.1956   2.58e+04     -0.001      0.999     -5.05e+04  5.05e+04\n",
      "coal                0.5014      1.881      0.267      0.790        -3.185     4.187\n",
      "Intercept          -1.0715        nan        nan        nan           nan       nan\n",
      "===================================================================================\n",
      "age                1.004567e+00\n",
      "child_marriage     1.139540e+00\n",
      "no_edu             1.024100e+00\n",
      "primary_edu        1.012643e+00\n",
      "secondary_edu      7.399765e-01\n",
      "higher_edu         4.463213e-01\n",
      "electricity        1.070138e+00\n",
      "radio              9.457778e-01\n",
      "tv                 9.753464e-01\n",
      "refrigerator       9.148727e-01\n",
      "bicycle            1.234227e+00\n",
      "improved_sani      7.149046e-01\n",
      "unimproved_sani    6.705479e-01\n",
      "open_defec         8.601851e-01\n",
      "safe_water         1.299840e+00\n",
      "unsafe_water       1.918239e+00\n",
      "shared_toilet      1.458748e+00\n",
      "sturdy_walls       9.517616e-01\n",
      "dirt_walls         9.913722e-01\n",
      "no_walls           1.486722e+00\n",
      "sturdy_roof        1.475661e+00\n",
      "mid_roof           1.058737e+00\n",
      "bad_roof           1.152695e+00\n",
      "no_roof            1.076346e+00\n",
      "hard_floor         1.009025e+00\n",
      "dirt_floor         1.516559e+00\n",
      "wood               5.168520e-01\n",
      "natural_gas        6.095405e-01\n",
      "animal_dung        5.746553e-01\n",
      "lpg                4.390191e-01\n",
      "grass              6.463716e-01\n",
      "charcoal           6.239045e-01\n",
      "biogas             1.712276e-01\n",
      "kerosene           2.970070e-08\n",
      "electric_power     1.695004e-09\n",
      "coal               1.651037e+00\n",
      "Intercept          3.425032e-01\n",
      "dtype: float64\n"
     ]
    },
    {
     "name": "stderr",
     "output_type": "stream",
     "text": [
      "/Users/ANTARES/anaconda2/envs/snakes/lib/python3.5/site-packages/statsmodels/base/model.py:466: ConvergenceWarning: Maximum Likelihood optimization failed to converge. Check mle_retvals\n",
      "  \"Check mle_retvals\", ConvergenceWarning)\n",
      "/Users/ANTARES/anaconda2/envs/snakes/lib/python3.5/site-packages/statsmodels/base/model.py:971: RuntimeWarning: invalid value encountered in sqrt\n",
      "  return np.sqrt(np.diag(self.cov_params()))\n",
      "/Users/ANTARES/anaconda2/envs/snakes/lib/python3.5/site-packages/scipy/stats/_distn_infrastructure.py:875: RuntimeWarning: invalid value encountered in greater\n",
      "  return (self.a < x) & (x < self.b)\n",
      "/Users/ANTARES/anaconda2/envs/snakes/lib/python3.5/site-packages/scipy/stats/_distn_infrastructure.py:875: RuntimeWarning: invalid value encountered in less\n",
      "  return (self.a < x) & (x < self.b)\n",
      "/Users/ANTARES/anaconda2/envs/snakes/lib/python3.5/site-packages/scipy/stats/_distn_infrastructure.py:1814: RuntimeWarning: invalid value encountered in less_equal\n",
      "  cond2 = cond0 & (x <= self.a)\n"
     ]
    }
   ],
   "source": [
    "results = model.fit()\n",
    "predict = results.predict()\n",
    "print(results.summary())\n",
    "print (np.exp(results.params))"
   ]
  },
  {
   "cell_type": "code",
   "execution_count": 259,
   "metadata": {
    "collapsed": false
   },
   "outputs": [
    {
     "name": "stdout",
     "output_type": "stream",
     "text": [
      "<class 'pandas.core.frame.DataFrame'> <class 'pandas.core.series.Series'>\n"
     ]
    }
   ],
   "source": [
    "X, y = df2.drop(['physical_dv',\"ever_emo_violence\",\"u16_marriage\"], axis=1),df['physical_dv']\n",
    "print(type(X), type(y))"
   ]
  },
  {
   "cell_type": "code",
   "execution_count": 260,
   "metadata": {
    "collapsed": true
   },
   "outputs": [],
   "source": [
    "model = sm.Logit(y, X)"
   ]
  },
  {
   "cell_type": "code",
   "execution_count": 261,
   "metadata": {
    "collapsed": false
   },
   "outputs": [
    {
     "name": "stdout",
     "output_type": "stream",
     "text": [
      "Optimization terminated successfully.\n",
      "         Current function value: 0.574918\n",
      "         Iterations 6\n",
      "                           Logit Regression Results                           \n",
      "==============================================================================\n",
      "Dep. Variable:            physical_dv   No. Observations:                 3685\n",
      "Model:                          Logit   Df Residuals:                     3670\n",
      "Method:                           MLE   Df Model:                           14\n",
      "Date:                Thu, 27 Oct 2016   Pseudo R-squ.:                 0.03423\n",
      "Time:                        18:58:57   Log-Likelihood:                -2118.6\n",
      "converged:                       True   LL-Null:                       -2193.7\n",
      "                                        LLR p-value:                 6.613e-25\n",
      "==================================================================================\n",
      "                     coef    std err          z      P>|z|      [95.0% Conf. Int.]\n",
      "----------------------------------------------------------------------------------\n",
      "age                0.0035      0.005      0.768      0.443        -0.006     0.013\n",
      "child_marriage     0.0996      0.078      1.278      0.201        -0.053     0.252\n",
      "no_edu            -0.9665      0.309     -3.126      0.002        -1.572    -0.361\n",
      "primary_edu       -0.9908      0.311     -3.191      0.001        -1.599    -0.382\n",
      "secondary_edu     -1.3715      0.305     -4.502      0.000        -1.969    -0.774\n",
      "higher_edu        -1.9650      0.322     -6.098      0.000        -2.597    -1.333\n",
      "sturdy_walls      -0.0042      0.243     -0.017      0.986        -0.480     0.472\n",
      "dirt_walls         0.0300      0.235      0.128      0.898        -0.431     0.491\n",
      "no_walls           0.4077      0.265      1.541      0.123        -0.111     0.926\n",
      "sturdy_roof        0.4211      0.348      1.211      0.226        -0.260     1.103\n",
      "mid_roof           0.1731      0.346      0.501      0.617        -0.504     0.851\n",
      "bad_roof           0.2308      0.355      0.649      0.516        -0.466     0.927\n",
      "no_roof            0.1423      0.617      0.231      0.818        -1.067     1.352\n",
      "hard_floor        -0.4848      0.488     -0.994      0.320        -1.441     0.471\n",
      "dirt_floor        -0.0121      0.487     -0.025      0.980        -0.966     0.942\n",
      "==================================================================================\n",
      "age               1.003549\n",
      "child_marriage    1.104714\n",
      "no_edu            0.380425\n",
      "primary_edu       0.371266\n",
      "secondary_edu     0.253729\n",
      "higher_edu        0.140152\n",
      "sturdy_walls      0.995841\n",
      "dirt_walls        1.030498\n",
      "no_walls          1.503372\n",
      "sturdy_roof       1.523698\n",
      "mid_roof          1.188989\n",
      "bad_roof          1.259587\n",
      "no_roof           1.152965\n",
      "hard_floor        0.615800\n",
      "dirt_floor        0.988004\n",
      "dtype: float64\n"
     ]
    }
   ],
   "source": [
    "results = model.fit()\n",
    "predict = results.predict()\n",
    "print(results.summary())\n",
    "print (np.exp(results.params))"
   ]
  },
  {
   "cell_type": "code",
   "execution_count": 267,
   "metadata": {
    "collapsed": false
   },
   "outputs": [
    {
     "data": {
      "image/png": "[encoded data removed]",
      "text/plain": [
       "<matplotlib.figure.Figure at 0x138213b00>"
      ]
     },
     "metadata": {},
     "output_type": "display_data"
    }
   ],
   "source": [
    "df.hist()\n",
    "plt.show()"
   ]
  },
  {
   "cell_type": "markdown",
   "metadata": {},
   "source": [
    "# PCA"
   ]
  },
  {
   "cell_type": "code",
   "execution_count": 489,
   "metadata": {
    "collapsed": false
   },
   "outputs": [],
   "source": [
    "asset_cols = [\"safe_water\", \"unsafe_water\", \"no_walls\", \"dirt_walls\", \"mid_roof\", \"bad_roof\", \"sturdy_roof\", \"no_roof\", \"sturdy_walls\" ,\"dirt_floor\",\"hard_floor\", \"electricity\",\"radio\",\"tv\",\"refrigerator\",\"bicycle\",\"motorcycle\",\"car/truck\", \"open_defec\", \"improved_sani\", \"shared_toilet\",\"unimproved_sani\"]"
   ]
  },
  {
   "cell_type": "code",
   "execution_count": 490,
   "metadata": {
    "collapsed": false
   },
   "outputs": [],
   "source": [
    "asset_df = dv[asset_cols]"
   ]
  },
  {
   "cell_type": "markdown",
   "metadata": {},
   "source": [
    "## Choose number of components"
   ]
  },
  {
   "cell_type": "code",
   "execution_count": 491,
   "metadata": {
    "collapsed": false
   },
   "outputs": [],
   "source": [
    "from sklearn.preprocessing import StandardScaler\n",
    "scaler = StandardScaler()\n",
    "scaler.fit(asset_df)\n",
    "X_scaled = scaler.transform(asset_df)"
   ]
  },
  {
   "cell_type": "code",
   "execution_count": 492,
   "metadata": {
    "collapsed": true
   },
   "outputs": [],
   "source": [
    "eig_vals, Q = np.linalg.eig(np.cov(X_scaled, rowvar=0)*99)"
   ]
  },
  {
   "cell_type": "code",
   "execution_count": 493,
   "metadata": {
    "collapsed": false
   },
   "outputs": [
    {
     "data": {
      "text/plain": [
       "array([  5.55546485e+02,   1.93868426e+02,   1.79776555e+02,\n",
       "         1.52101590e+02,   1.43270922e+02,   6.68129391e+00,\n",
       "         2.98031450e+00,   7.77565999e-01,   2.10919813e+01,\n",
       "         1.10021170e+02,   9.95348555e+01,   1.02535210e+02,\n",
       "         4.49802233e+01,   9.12216512e+01,   5.22701422e+01,\n",
       "         5.70359109e+01,   5.92616212e+01,   6.82431026e+01,\n",
       "         7.43068910e+01,   8.03636424e+01,   8.27216511e+01,\n",
       "         6.14140446e-15])"
      ]
     },
     "execution_count": 493,
     "metadata": {},
     "output_type": "execute_result"
    }
   ],
   "source": [
    "eig_vals"
   ]
  },
  {
   "cell_type": "code",
   "execution_count": 494,
   "metadata": {
    "collapsed": true
   },
   "outputs": [],
   "source": [
    "ordered = sorted(zip(eig_vals, Q.T), reverse=True)"
   ]
  },
  {
   "cell_type": "code",
   "execution_count": 495,
   "metadata": {
    "collapsed": false
   },
   "outputs": [],
   "source": [
    "ordered;"
   ]
  },
  {
   "cell_type": "code",
   "execution_count": 496,
   "metadata": {
    "collapsed": false
   },
   "outputs": [],
   "source": [
    "a = eig_vals[0]/sum(eig_vals)"
   ]
  },
  {
   "cell_type": "code",
   "execution_count": 497,
   "metadata": {
    "collapsed": false
   },
   "outputs": [],
   "source": [
    "b = eig_vals[1]/sum(eig_vals)"
   ]
  },
  {
   "cell_type": "code",
   "execution_count": 498,
   "metadata": {
    "collapsed": false
   },
   "outputs": [],
   "source": [
    "c = eig_vals[2]/sum(eig_vals)"
   ]
  },
  {
   "cell_type": "code",
   "execution_count": 499,
   "metadata": {
    "collapsed": false
   },
   "outputs": [],
   "source": [
    "d =eig_vals[3]/sum(eig_vals)"
   ]
  },
  {
   "cell_type": "code",
   "execution_count": 500,
   "metadata": {
    "collapsed": false
   },
   "outputs": [],
   "source": [
    "e = eig_vals[4]/sum(eig_vals)"
   ]
  },
  {
   "cell_type": "code",
   "execution_count": 501,
   "metadata": {
    "collapsed": false
   },
   "outputs": [
    {
     "data": {
      "text/plain": [
       "0.5620898384193912"
      ]
     },
     "execution_count": 501,
     "metadata": {},
     "output_type": "execute_result"
    }
   ],
   "source": [
    "a+b+c+d+e #explains this percentage of the variance.... we need more assets in the dataset! Possibility to link to household survey in future iteration"
   ]
  },
  {
   "cell_type": "code",
   "execution_count": 502,
   "metadata": {
    "collapsed": false
   },
   "outputs": [],
   "source": [
    "from sklearn.decomposition import PCA\n",
    "\n",
    "pca = PCA(n_components=5)\n",
    "pca.fit(asset_df)\n",
    "pca.components_;"
   ]
  },
  {
   "cell_type": "code",
   "execution_count": 503,
   "metadata": {
    "collapsed": false
   },
   "outputs": [],
   "source": [
    "# print(\"pca.components_.shape: {}\".format(pca.components_.shape))"
   ]
  },
  {
   "cell_type": "code",
   "execution_count": 504,
   "metadata": {
    "collapsed": false
   },
   "outputs": [],
   "source": [
    "# from sklearn.preprocessing import StandardScaler\n",
    "# from sklearn.decomposition import PCA\n",
    "# from sklearn.pipeline import Pipeline\n",
    "\n",
    "# import numpy as np\n",
    "\n",
    "# data = asset_df\n",
    "\n",
    "# pipeline = Pipeline([('scaling', StandardScaler()), ('pca', PCA(n_components=5))])\n",
    "\n",
    "# pipeline.fit_transform(data).shape"
   ]
  },
  {
   "cell_type": "code",
   "execution_count": 505,
   "metadata": {
    "collapsed": false
   },
   "outputs": [
    {
     "name": "stdout",
     "output_type": "stream",
     "text": [
      "Original shape: (3685, 22)\n",
      "Reduced shape: (3685, 5)\n"
     ]
    }
   ],
   "source": [
    "from sklearn.decomposition import PCA\n",
    "# keep the first two principal components of the data pca = PCA(n_components=2)\n",
    "# fit PCA model to breast cancer data pca.fit(X_scaled)\n",
    "    # transform data onto the first two principal components\n",
    "X_pca = pca.transform(X_scaled)\n",
    "print(\"Original shape: {}\".format(str(X_scaled.shape))) \n",
    "print(\"Reduced shape: {}\".format(str(X_pca.shape)))"
   ]
  },
  {
   "cell_type": "code",
   "execution_count": 506,
   "metadata": {
    "collapsed": false
   },
   "outputs": [
    {
     "data": {
      "text/plain": [
       "<matplotlib.text.Text at 0x14de97cf8>"
      ]
     },
     "execution_count": 506,
     "metadata": {},
     "output_type": "execute_result"
    },
    {
     "data": {
      "image/png": "[encoded data removed]",
      "text/plain": [
       "<matplotlib.figure.Figure at 0x1485bec88>"
      ]
     },
     "metadata": {},
     "output_type": "display_data"
    }
   ],
   "source": [
    "plt.matshow(pca.components_, cmap='viridis')\n",
    "plt.yticks([0, 1, 2, 3, 4], [\"First component\", \"Second component\", \"Third component\", \"Fourth component\", \"Fifth component\"])\n",
    "plt.colorbar()\n",
    "plt.xticks(range(len(asset_df.columns)), asset_df.columns, rotation=60, ha='left')\n",
    "plt.xlabel(\"Feature\")\n",
    "plt.ylabel(\"Principal components\")"
   ]
  },
  {
   "cell_type": "code",
   "execution_count": 507,
   "metadata": {
    "collapsed": false
   },
   "outputs": [
    {
     "data": {
      "text/plain": [
       "Index(['safe_water', 'unsafe_water', 'no_walls', 'dirt_walls', 'mid_roof',\n",
       "       'bad_roof', 'sturdy_roof', 'no_roof', 'sturdy_walls', 'dirt_floor',\n",
       "       'hard_floor', 'electricity', 'radio', 'tv', 'refrigerator', 'bicycle',\n",
       "       'motorcycle', 'car/truck', 'open_defec', 'improved_sani',\n",
       "       'shared_toilet', 'unimproved_sani'],\n",
       "      dtype='object')"
      ]
     },
     "execution_count": 507,
     "metadata": {},
     "output_type": "execute_result"
    }
   ],
   "source": [
    "asset_df.columns"
   ]
  },
  {
   "cell_type": "code",
   "execution_count": 508,
   "metadata": {
    "collapsed": false
   },
   "outputs": [],
   "source": [
    "df3 = df.drop(fuel_cols, axis=1)"
   ]
  },
  {
   "cell_type": "code",
   "execution_count": 509,
   "metadata": {
    "collapsed": false
   },
   "outputs": [],
   "source": [
    "pca_df = df3.drop(asset_cols, axis=1)"
   ]
  },
  {
   "cell_type": "code",
   "execution_count": 510,
   "metadata": {
    "collapsed": false
   },
   "outputs": [
    {
     "data": {
      "text/plain": [
       "array([-0.40881635, -1.16081644, -0.97057093, -2.08542245, -0.54873631])"
      ]
     },
     "execution_count": 510,
     "metadata": {},
     "output_type": "execute_result"
    }
   ],
   "source": [
    "X_pca[0]"
   ]
  },
  {
   "cell_type": "code",
   "execution_count": 511,
   "metadata": {
    "collapsed": false
   },
   "outputs": [],
   "source": [
    "df_components = pd.DataFrame(X_pca)"
   ]
  },
  {
   "cell_type": "code",
   "execution_count": 512,
   "metadata": {
    "collapsed": false
   },
   "outputs": [
    {
     "data": {
      "text/plain": [
       "(3685, 9)"
      ]
     },
     "execution_count": 512,
     "metadata": {},
     "output_type": "execute_result"
    }
   ],
   "source": [
    "pca_df.shape"
   ]
  },
  {
   "cell_type": "code",
   "execution_count": 513,
   "metadata": {
    "collapsed": false
   },
   "outputs": [],
   "source": [
    "result_df = pd.concat([pca_df, df_components], axis=1, join='inner')"
   ]
  },
  {
   "cell_type": "code",
   "execution_count": 514,
   "metadata": {
    "collapsed": false
   },
   "outputs": [
    {
     "data": {
      "text/html": [
       "<div>\n",
       "<table border=\"1\" class=\"dataframe\">\n",
       "  <thead>\n",
       "    <tr style=\"text-align: right;\">\n",
       "      <th></th>\n",
       "      <th>physical_dv</th>\n",
       "      <th>age</th>\n",
       "      <th>ever_emo_violence</th>\n",
       "      <th>u16_marriage</th>\n",
       "      <th>child_marriage</th>\n",
       "      <th>no_edu</th>\n",
       "      <th>primary_edu</th>\n",
       "      <th>secondary_edu</th>\n",
       "      <th>higher_edu</th>\n",
       "      <th>0</th>\n",
       "      <th>1</th>\n",
       "      <th>2</th>\n",
       "      <th>3</th>\n",
       "      <th>4</th>\n",
       "    </tr>\n",
       "  </thead>\n",
       "  <tbody>\n",
       "    <tr>\n",
       "      <th>0</th>\n",
       "      <td>0</td>\n",
       "      <td>25.0</td>\n",
       "      <td>0</td>\n",
       "      <td>0</td>\n",
       "      <td>1</td>\n",
       "      <td>1</td>\n",
       "      <td>0</td>\n",
       "      <td>0</td>\n",
       "      <td>0</td>\n",
       "      <td>-0.408816</td>\n",
       "      <td>-1.160816</td>\n",
       "      <td>-0.970571</td>\n",
       "      <td>-2.085422</td>\n",
       "      <td>-0.548736</td>\n",
       "    </tr>\n",
       "    <tr>\n",
       "      <th>1</th>\n",
       "      <td>0</td>\n",
       "      <td>31.0</td>\n",
       "      <td>1</td>\n",
       "      <td>0</td>\n",
       "      <td>0</td>\n",
       "      <td>0</td>\n",
       "      <td>1</td>\n",
       "      <td>0</td>\n",
       "      <td>0</td>\n",
       "      <td>-0.865141</td>\n",
       "      <td>-1.006029</td>\n",
       "      <td>-1.192600</td>\n",
       "      <td>-1.881813</td>\n",
       "      <td>0.665299</td>\n",
       "    </tr>\n",
       "    <tr>\n",
       "      <th>2</th>\n",
       "      <td>0</td>\n",
       "      <td>30.0</td>\n",
       "      <td>1</td>\n",
       "      <td>0</td>\n",
       "      <td>0</td>\n",
       "      <td>0</td>\n",
       "      <td>0</td>\n",
       "      <td>0</td>\n",
       "      <td>1</td>\n",
       "      <td>-1.672377</td>\n",
       "      <td>-1.532594</td>\n",
       "      <td>-0.866967</td>\n",
       "      <td>-0.549028</td>\n",
       "      <td>-0.281227</td>\n",
       "    </tr>\n",
       "    <tr>\n",
       "      <th>3</th>\n",
       "      <td>0</td>\n",
       "      <td>46.0</td>\n",
       "      <td>0</td>\n",
       "      <td>0</td>\n",
       "      <td>0</td>\n",
       "      <td>0</td>\n",
       "      <td>0</td>\n",
       "      <td>1</td>\n",
       "      <td>0</td>\n",
       "      <td>-1.959533</td>\n",
       "      <td>-0.531786</td>\n",
       "      <td>1.190145</td>\n",
       "      <td>-0.278186</td>\n",
       "      <td>-0.707814</td>\n",
       "    </tr>\n",
       "    <tr>\n",
       "      <th>4</th>\n",
       "      <td>0</td>\n",
       "      <td>39.0</td>\n",
       "      <td>1</td>\n",
       "      <td>0</td>\n",
       "      <td>1</td>\n",
       "      <td>1</td>\n",
       "      <td>0</td>\n",
       "      <td>0</td>\n",
       "      <td>0</td>\n",
       "      <td>-0.933334</td>\n",
       "      <td>-1.004626</td>\n",
       "      <td>-0.941950</td>\n",
       "      <td>-2.073635</td>\n",
       "      <td>0.822657</td>\n",
       "    </tr>\n",
       "  </tbody>\n",
       "</table>\n",
       "</div>"
      ],
      "text/plain": [
       "   physical_dv   age  ever_emo_violence  u16_marriage  child_marriage  no_edu  \\\n",
       "0            0  25.0                  0             0               1       1   \n",
       "1            0  31.0                  1             0               0       0   \n",
       "2            0  30.0                  1             0               0       0   \n",
       "3            0  46.0                  0             0               0       0   \n",
       "4            0  39.0                  1             0               1       1   \n",
       "\n",
       "   primary_edu  secondary_edu  higher_edu         0         1         2  \\\n",
       "0            0              0           0 -0.408816 -1.160816 -0.970571   \n",
       "1            1              0           0 -0.865141 -1.006029 -1.192600   \n",
       "2            0              0           1 -1.672377 -1.532594 -0.866967   \n",
       "3            0              1           0 -1.959533 -0.531786  1.190145   \n",
       "4            0              0           0 -0.933334 -1.004626 -0.941950   \n",
       "\n",
       "          3         4  \n",
       "0 -2.085422 -0.548736  \n",
       "1 -1.881813  0.665299  \n",
       "2 -0.549028 -0.281227  \n",
       "3 -0.278186 -0.707814  \n",
       "4 -2.073635  0.822657  "
      ]
     },
     "execution_count": 514,
     "metadata": {},
     "output_type": "execute_result"
    }
   ],
   "source": [
    "result_df.head()"
   ]
  },
  {
   "cell_type": "markdown",
   "metadata": {},
   "source": [
    "## Moment of truth! Let's see if \"child marriage\" influences coefficients of LR model"
   ]
  },
  {
   "cell_type": "code",
   "execution_count": 515,
   "metadata": {
    "collapsed": false
   },
   "outputs": [
    {
     "name": "stdout",
     "output_type": "stream",
     "text": [
      "<class 'pandas.core.frame.DataFrame'> <class 'pandas.core.series.Series'>\n"
     ]
    }
   ],
   "source": [
    "X, y = result_df.drop(['physical_dv',\"ever_emo_violence\",\"u16_marriage\",\"child_marriage\"], axis=1),df['physical_dv']\n",
    "print(type(X), type(y))"
   ]
  },
  {
   "cell_type": "code",
   "execution_count": 516,
   "metadata": {
    "collapsed": false
   },
   "outputs": [],
   "source": [
    "model = sm.Logit(y, X)"
   ]
  },
  {
   "cell_type": "code",
   "execution_count": 517,
   "metadata": {
    "collapsed": false
   },
   "outputs": [
    {
     "name": "stdout",
     "output_type": "stream",
     "text": [
      "Optimization terminated successfully.\n",
      "         Current function value: 0.575614\n",
      "         Iterations 6\n",
      "                           Logit Regression Results                           \n",
      "==============================================================================\n",
      "Dep. Variable:            physical_dv   No. Observations:                 3685\n",
      "Model:                          Logit   Df Residuals:                     3675\n",
      "Method:                           MLE   Df Model:                            9\n",
      "Date:                Fri, 28 Oct 2016   Pseudo R-squ.:                 0.03306\n",
      "Time:                        01:27:51   Log-Likelihood:                -2121.1\n",
      "converged:                       True   LL-Null:                       -2193.7\n",
      "                                        LLR p-value:                 9.306e-27\n",
      "=================================================================================\n",
      "                    coef    std err          z      P>|z|      [95.0% Conf. Int.]\n",
      "---------------------------------------------------------------------------------\n",
      "age               0.0044      0.005      0.945      0.345        -0.005     0.013\n",
      "no_edu           -0.9905      0.181     -5.458      0.000        -1.346    -0.635\n",
      "primary_edu      -0.9993      0.182     -5.477      0.000        -1.357    -0.642\n",
      "secondary_edu    -1.3486      0.176     -7.675      0.000        -1.693    -1.004\n",
      "higher_edu       -1.9221      0.209     -9.191      0.000        -2.332    -1.512\n",
      "0                 0.0927      0.020      4.744      0.000         0.054     0.131\n",
      "1                 0.0104      0.028      0.375      0.708        -0.044     0.065\n",
      "2                 0.0601      0.029      2.070      0.038         0.003     0.117\n",
      "3                 0.0198      0.032      0.615      0.538        -0.043     0.083\n",
      "4                -0.1226      0.036     -3.430      0.001        -0.193    -0.053\n",
      "=================================================================================\n",
      "age              1.004375\n",
      "no_edu           0.371393\n",
      "primary_edu      0.368131\n",
      "secondary_edu    0.259607\n",
      "higher_edu       0.146297\n",
      "0                1.097161\n",
      "1                1.010457\n",
      "2                1.061905\n",
      "3                1.019981\n",
      "4                0.884637\n",
      "dtype: float64\n"
     ]
    }
   ],
   "source": [
    "results = model.fit()\n",
    "predict = results.predict()\n",
    "print(results.summary())\n",
    "print (np.exp(results.params))"
   ]
  },
  {
   "cell_type": "code",
   "execution_count": 518,
   "metadata": {
    "collapsed": false
   },
   "outputs": [
    {
     "data": {
      "image/png": "[encoded data removed]",
      "text/plain": [
       "<matplotlib.figure.Figure at 0x14d872588>"
      ]
     },
     "metadata": {},
     "output_type": "display_data"
    }
   ],
   "source": [
    "result_df.hist()\n",
    "plt.show()"
   ]
  },
  {
   "cell_type": "code",
   "execution_count": 519,
   "metadata": {
    "collapsed": false
   },
   "outputs": [
    {
     "name": "stdout",
     "output_type": "stream",
     "text": [
      "<class 'pandas.core.frame.DataFrame'> <class 'pandas.core.series.Series'>\n"
     ]
    }
   ],
   "source": [
    "X, y = result_df.drop(['physical_dv',\"ever_emo_violence\",\"child_marriage\"], axis=1),df['physical_dv']\n",
    "print(type(X), type(y))"
   ]
  },
  {
   "cell_type": "code",
   "execution_count": 520,
   "metadata": {
    "collapsed": true
   },
   "outputs": [],
   "source": [
    "model = sm.Logit(y, X)"
   ]
  },
  {
   "cell_type": "code",
   "execution_count": 521,
   "metadata": {
    "collapsed": false
   },
   "outputs": [
    {
     "name": "stdout",
     "output_type": "stream",
     "text": [
      "Optimization terminated successfully.\n",
      "         Current function value: 0.574040\n",
      "         Iterations 6\n",
      "                           Logit Regression Results                           \n",
      "==============================================================================\n",
      "Dep. Variable:            physical_dv   No. Observations:                 3685\n",
      "Model:                          Logit   Df Residuals:                     3674\n",
      "Method:                           MLE   Df Model:                           10\n",
      "Date:                Fri, 28 Oct 2016   Pseudo R-squ.:                 0.03571\n",
      "Time:                        01:28:11   Log-Likelihood:                -2115.3\n",
      "converged:                       True   LL-Null:                       -2193.7\n",
      "                                        LLR p-value:                 1.586e-28\n",
      "=================================================================================\n",
      "                    coef    std err          z      P>|z|      [95.0% Conf. Int.]\n",
      "---------------------------------------------------------------------------------\n",
      "age               0.0043      0.005      0.934      0.350        -0.005     0.013\n",
      "u16_marriage      0.3129      0.091      3.433      0.001         0.134     0.492\n",
      "no_edu           -1.0677      0.183     -5.826      0.000        -1.427    -0.709\n",
      "primary_edu      -1.0576      0.184     -5.761      0.000        -1.417    -0.698\n",
      "secondary_edu    -1.3879      0.176     -7.870      0.000        -1.734    -1.042\n",
      "higher_edu       -1.9346      0.209     -9.242      0.000        -2.345    -1.524\n",
      "0                 0.0909      0.020      4.643      0.000         0.053     0.129\n",
      "1                 0.0130      0.028      0.468      0.640        -0.041     0.067\n",
      "2                 0.0592      0.029      2.036      0.042         0.002     0.116\n",
      "3                 0.0178      0.032      0.553      0.580        -0.045     0.081\n",
      "4                -0.1325      0.036     -3.684      0.000        -0.203    -0.062\n",
      "=================================================================================\n",
      "age              1.004329\n",
      "u16_marriage     1.367352\n",
      "no_edu           0.343806\n",
      "primary_edu      0.347290\n",
      "secondary_edu    0.249591\n",
      "higher_edu       0.144479\n",
      "0                1.095194\n",
      "1                1.013085\n",
      "2                1.060985\n",
      "3                1.017987\n",
      "4                0.875884\n",
      "dtype: float64\n"
     ]
    }
   ],
   "source": [
    "results = model.fit()\n",
    "predict = results.predict()\n",
    "print(results.summary())\n",
    "print (np.exp(results.params))"
   ]
  },
  {
   "cell_type": "code",
   "execution_count": 522,
   "metadata": {
    "collapsed": false
   },
   "outputs": [
    {
     "name": "stdout",
     "output_type": "stream",
     "text": [
      "<class 'pandas.core.frame.DataFrame'> <class 'pandas.core.series.Series'>\n"
     ]
    }
   ],
   "source": [
    "X, y = result_df.drop(['physical_dv',\"ever_emo_violence\",\"u16_marriage\"], axis=1),df['physical_dv']\n",
    "print(type(X), type(y))"
   ]
  },
  {
   "cell_type": "code",
   "execution_count": 523,
   "metadata": {
    "collapsed": true
   },
   "outputs": [],
   "source": [
    "model = sm.Logit(y, X)"
   ]
  },
  {
   "cell_type": "code",
   "execution_count": 524,
   "metadata": {
    "collapsed": false
   },
   "outputs": [
    {
     "name": "stdout",
     "output_type": "stream",
     "text": [
      "Optimization terminated successfully.\n",
      "         Current function value: 0.575350\n",
      "         Iterations 6\n",
      "                           Logit Regression Results                           \n",
      "==============================================================================\n",
      "Dep. Variable:            physical_dv   No. Observations:                 3685\n",
      "Model:                          Logit   Df Residuals:                     3674\n",
      "Method:                           MLE   Df Model:                           10\n",
      "Date:                Fri, 28 Oct 2016   Pseudo R-squ.:                 0.03351\n",
      "Time:                        01:28:44   Log-Likelihood:                -2120.2\n",
      "converged:                       True   LL-Null:                       -2193.7\n",
      "                                        LLR p-value:                 1.544e-26\n",
      "==================================================================================\n",
      "                     coef    std err          z      P>|z|      [95.0% Conf. Int.]\n",
      "----------------------------------------------------------------------------------\n",
      "age                0.0047      0.005      1.009      0.313        -0.004     0.014\n",
      "child_marriage     0.1084      0.078      1.394      0.163        -0.044     0.261\n",
      "no_edu            -1.0541      0.187     -5.630      0.000        -1.421    -0.687\n",
      "primary_edu       -1.0554      0.187     -5.646      0.000        -1.422    -0.689\n",
      "secondary_edu     -1.3920      0.179     -7.797      0.000        -1.742    -1.042\n",
      "higher_edu        -1.9447      0.210     -9.271      0.000        -2.356    -1.534\n",
      "0                  0.0910      0.020      4.642      0.000         0.053     0.129\n",
      "1                  0.0114      0.028      0.412      0.680        -0.043     0.066\n",
      "2                  0.0584      0.029      2.012      0.044         0.002     0.115\n",
      "3                  0.0205      0.032      0.639      0.523        -0.043     0.084\n",
      "4                 -0.1247      0.036     -3.483      0.000        -0.195    -0.055\n",
      "==================================================================================\n",
      "age               1.004674\n",
      "child_marriage    1.114548\n",
      "no_edu            0.348514\n",
      "primary_edu       0.348052\n",
      "secondary_edu     0.248572\n",
      "higher_edu        0.143032\n",
      "0                 1.095220\n",
      "1                 1.011503\n",
      "2                 1.060175\n",
      "3                 1.020756\n",
      "4                 0.882796\n",
      "dtype: float64\n"
     ]
    }
   ],
   "source": [
    "results = model.fit()\n",
    "predict = results.predict()\n",
    "print(results.summary())\n",
    "print (np.exp(results.params))"
   ]
  },
  {
   "cell_type": "code",
   "execution_count": null,
   "metadata": {
    "collapsed": true
   },
   "outputs": [],
   "source": []
  }
 ],
 "metadata": {
  "anaconda-cloud": {},
  "kernelspec": {
   "display_name": "Python [conda env:snakes]",
   "language": "python",
   "name": "conda-env-snakes-py"
  },
  "language_info": {
   "codemirror_mode": {
    "name": "ipython",
    "version": 3
   },
   "file_extension": ".py",
   "mimetype": "text/x-python",
   "name": "python",
   "nbconvert_exporter": "python",
   "pygments_lexer": "ipython3",
   "version": "3.5.2"
  }
 },
 "nbformat": 4,
 "nbformat_minor": 1
}
